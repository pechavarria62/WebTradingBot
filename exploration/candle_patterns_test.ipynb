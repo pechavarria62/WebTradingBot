{
 "cells": [
  {
   "cell_type": "code",
   "execution_count": 1,
   "id": "c57a360f",
   "metadata": {},
   "outputs": [],
   "source": [
    "import sys\n",
    "sys.path.append(\"../\")\n",
    "from plotting import CandlePlot\n",
    "import pandas as pd"
   ]
  },
  {
   "cell_type": "code",
   "execution_count": 2,
   "id": "41024369",
   "metadata": {},
   "outputs": [],
   "source": [
    "from technicals.patterns import apply_patterns"
   ]
  },
  {
   "cell_type": "code",
   "execution_count": 3,
   "id": "8c9f7457",
   "metadata": {},
   "outputs": [],
   "source": [
    "df = pd.read_pickle(\"../data/GBP_JPY_H1.pkl\")"
   ]
  },
  {
   "cell_type": "code",
   "execution_count": 4,
   "id": "b7c9f42d",
   "metadata": {},
   "outputs": [],
   "source": [
    "df_an = df[['time', 'mid_o', 'mid_h', 'mid_l', 'mid_c']].copy()"
   ]
  },
  {
   "cell_type": "code",
   "execution_count": 5,
   "id": "9a60edd2",
   "metadata": {},
   "outputs": [
    {
     "data": {
      "text/html": [
       "<div>\n",
       "<style scoped>\n",
       "    .dataframe tbody tr th:only-of-type {\n",
       "        vertical-align: middle;\n",
       "    }\n",
       "\n",
       "    .dataframe tbody tr th {\n",
       "        vertical-align: top;\n",
       "    }\n",
       "\n",
       "    .dataframe thead th {\n",
       "        text-align: right;\n",
       "    }\n",
       "</style>\n",
       "<table border=\"1\" class=\"dataframe\">\n",
       "  <thead>\n",
       "    <tr style=\"text-align: right;\">\n",
       "      <th></th>\n",
       "      <th>time</th>\n",
       "      <th>mid_o</th>\n",
       "      <th>mid_h</th>\n",
       "      <th>mid_l</th>\n",
       "      <th>mid_c</th>\n",
       "    </tr>\n",
       "  </thead>\n",
       "  <tbody>\n",
       "    <tr>\n",
       "      <th>3995</th>\n",
       "      <td>2024-12-19 12:00:00+00:00</td>\n",
       "      <td>197.942</td>\n",
       "      <td>198.055</td>\n",
       "      <td>197.209</td>\n",
       "      <td>197.956</td>\n",
       "    </tr>\n",
       "    <tr>\n",
       "      <th>3996</th>\n",
       "      <td>2024-12-19 13:00:00+00:00</td>\n",
       "      <td>197.958</td>\n",
       "      <td>197.960</td>\n",
       "      <td>197.264</td>\n",
       "      <td>197.581</td>\n",
       "    </tr>\n",
       "    <tr>\n",
       "      <th>3997</th>\n",
       "      <td>2024-12-19 14:00:00+00:00</td>\n",
       "      <td>197.580</td>\n",
       "      <td>198.098</td>\n",
       "      <td>197.574</td>\n",
       "      <td>197.738</td>\n",
       "    </tr>\n",
       "    <tr>\n",
       "      <th>3998</th>\n",
       "      <td>2024-12-19 15:00:00+00:00</td>\n",
       "      <td>197.738</td>\n",
       "      <td>198.066</td>\n",
       "      <td>197.648</td>\n",
       "      <td>197.933</td>\n",
       "    </tr>\n",
       "    <tr>\n",
       "      <th>3999</th>\n",
       "      <td>2024-12-19 16:00:00+00:00</td>\n",
       "      <td>197.930</td>\n",
       "      <td>198.109</td>\n",
       "      <td>197.560</td>\n",
       "      <td>197.599</td>\n",
       "    </tr>\n",
       "  </tbody>\n",
       "</table>\n",
       "</div>"
      ],
      "text/plain": [
       "                          time    mid_o    mid_h    mid_l    mid_c\n",
       "3995 2024-12-19 12:00:00+00:00  197.942  198.055  197.209  197.956\n",
       "3996 2024-12-19 13:00:00+00:00  197.958  197.960  197.264  197.581\n",
       "3997 2024-12-19 14:00:00+00:00  197.580  198.098  197.574  197.738\n",
       "3998 2024-12-19 15:00:00+00:00  197.738  198.066  197.648  197.933\n",
       "3999 2024-12-19 16:00:00+00:00  197.930  198.109  197.560  197.599"
      ]
     },
     "execution_count": 5,
     "metadata": {},
     "output_type": "execute_result"
    }
   ],
   "source": [
    "df_an.tail()"
   ]
  },
  {
   "cell_type": "code",
   "execution_count": 6,
   "id": "3a57a72b",
   "metadata": {},
   "outputs": [],
   "source": [
    "df_an = apply_patterns(df_an)"
   ]
  },
  {
   "cell_type": "code",
   "execution_count": 7,
   "id": "06fc50f0",
   "metadata": {},
   "outputs": [
    {
     "data": {
      "text/html": [
       "<div>\n",
       "<style scoped>\n",
       "    .dataframe tbody tr th:only-of-type {\n",
       "        vertical-align: middle;\n",
       "    }\n",
       "\n",
       "    .dataframe tbody tr th {\n",
       "        vertical-align: top;\n",
       "    }\n",
       "\n",
       "    .dataframe thead th {\n",
       "        text-align: right;\n",
       "    }\n",
       "</style>\n",
       "<table border=\"1\" class=\"dataframe\">\n",
       "  <thead>\n",
       "    <tr style=\"text-align: right;\">\n",
       "      <th></th>\n",
       "      <th>time</th>\n",
       "      <th>mid_o</th>\n",
       "      <th>mid_h</th>\n",
       "      <th>mid_l</th>\n",
       "      <th>mid_c</th>\n",
       "      <th>body_lower</th>\n",
       "      <th>body_upper</th>\n",
       "      <th>body_bottom_perc</th>\n",
       "      <th>body_top_perc</th>\n",
       "      <th>body_perc</th>\n",
       "      <th>...</th>\n",
       "      <th>body_perc_prev_2</th>\n",
       "      <th>HANGING_MAN</th>\n",
       "      <th>SHOOTING_STAR</th>\n",
       "      <th>SPINNING_TOP</th>\n",
       "      <th>MARUBOZU</th>\n",
       "      <th>ENGULFING</th>\n",
       "      <th>TWEEZER_TOP</th>\n",
       "      <th>TWEEZER_BOTTOM</th>\n",
       "      <th>MORNING_STAR</th>\n",
       "      <th>EVENING_STAR</th>\n",
       "    </tr>\n",
       "  </thead>\n",
       "  <tbody>\n",
       "    <tr>\n",
       "      <th>3995</th>\n",
       "      <td>2024-12-19 12:00:00+00:00</td>\n",
       "      <td>197.942</td>\n",
       "      <td>198.055</td>\n",
       "      <td>197.209</td>\n",
       "      <td>197.956</td>\n",
       "      <td>197.942</td>\n",
       "      <td>197.956</td>\n",
       "      <td>86.643026</td>\n",
       "      <td>88.297872</td>\n",
       "      <td>1.654846</td>\n",
       "      <td>...</td>\n",
       "      <td>83.333333</td>\n",
       "      <td>True</td>\n",
       "      <td>False</td>\n",
       "      <td>False</td>\n",
       "      <td>False</td>\n",
       "      <td>False</td>\n",
       "      <td>False</td>\n",
       "      <td>False</td>\n",
       "      <td>False</td>\n",
       "      <td>False</td>\n",
       "    </tr>\n",
       "    <tr>\n",
       "      <th>3996</th>\n",
       "      <td>2024-12-19 13:00:00+00:00</td>\n",
       "      <td>197.958</td>\n",
       "      <td>197.960</td>\n",
       "      <td>197.264</td>\n",
       "      <td>197.581</td>\n",
       "      <td>197.581</td>\n",
       "      <td>197.958</td>\n",
       "      <td>45.545977</td>\n",
       "      <td>99.712644</td>\n",
       "      <td>54.166667</td>\n",
       "      <td>...</td>\n",
       "      <td>59.025788</td>\n",
       "      <td>False</td>\n",
       "      <td>False</td>\n",
       "      <td>False</td>\n",
       "      <td>False</td>\n",
       "      <td>True</td>\n",
       "      <td>False</td>\n",
       "      <td>False</td>\n",
       "      <td>False</td>\n",
       "      <td>False</td>\n",
       "    </tr>\n",
       "    <tr>\n",
       "      <th>3997</th>\n",
       "      <td>2024-12-19 14:00:00+00:00</td>\n",
       "      <td>197.580</td>\n",
       "      <td>198.098</td>\n",
       "      <td>197.574</td>\n",
       "      <td>197.738</td>\n",
       "      <td>197.580</td>\n",
       "      <td>197.738</td>\n",
       "      <td>1.145038</td>\n",
       "      <td>31.297710</td>\n",
       "      <td>30.152672</td>\n",
       "      <td>...</td>\n",
       "      <td>1.654846</td>\n",
       "      <td>False</td>\n",
       "      <td>False</td>\n",
       "      <td>False</td>\n",
       "      <td>False</td>\n",
       "      <td>False</td>\n",
       "      <td>False</td>\n",
       "      <td>False</td>\n",
       "      <td>False</td>\n",
       "      <td>False</td>\n",
       "    </tr>\n",
       "    <tr>\n",
       "      <th>3998</th>\n",
       "      <td>2024-12-19 15:00:00+00:00</td>\n",
       "      <td>197.738</td>\n",
       "      <td>198.066</td>\n",
       "      <td>197.648</td>\n",
       "      <td>197.933</td>\n",
       "      <td>197.738</td>\n",
       "      <td>197.933</td>\n",
       "      <td>21.531100</td>\n",
       "      <td>68.181818</td>\n",
       "      <td>46.650718</td>\n",
       "      <td>...</td>\n",
       "      <td>54.166667</td>\n",
       "      <td>False</td>\n",
       "      <td>False</td>\n",
       "      <td>False</td>\n",
       "      <td>False</td>\n",
       "      <td>False</td>\n",
       "      <td>False</td>\n",
       "      <td>False</td>\n",
       "      <td>False</td>\n",
       "      <td>False</td>\n",
       "    </tr>\n",
       "    <tr>\n",
       "      <th>3999</th>\n",
       "      <td>2024-12-19 16:00:00+00:00</td>\n",
       "      <td>197.930</td>\n",
       "      <td>198.109</td>\n",
       "      <td>197.560</td>\n",
       "      <td>197.599</td>\n",
       "      <td>197.599</td>\n",
       "      <td>197.930</td>\n",
       "      <td>7.103825</td>\n",
       "      <td>67.395264</td>\n",
       "      <td>60.291439</td>\n",
       "      <td>...</td>\n",
       "      <td>30.152672</td>\n",
       "      <td>False</td>\n",
       "      <td>False</td>\n",
       "      <td>False</td>\n",
       "      <td>False</td>\n",
       "      <td>True</td>\n",
       "      <td>False</td>\n",
       "      <td>False</td>\n",
       "      <td>False</td>\n",
       "      <td>False</td>\n",
       "    </tr>\n",
       "  </tbody>\n",
       "</table>\n",
       "<p>5 rows × 31 columns</p>\n",
       "</div>"
      ],
      "text/plain": [
       "                          time    mid_o    mid_h    mid_l    mid_c  \\\n",
       "3995 2024-12-19 12:00:00+00:00  197.942  198.055  197.209  197.956   \n",
       "3996 2024-12-19 13:00:00+00:00  197.958  197.960  197.264  197.581   \n",
       "3997 2024-12-19 14:00:00+00:00  197.580  198.098  197.574  197.738   \n",
       "3998 2024-12-19 15:00:00+00:00  197.738  198.066  197.648  197.933   \n",
       "3999 2024-12-19 16:00:00+00:00  197.930  198.109  197.560  197.599   \n",
       "\n",
       "      body_lower  body_upper  body_bottom_perc  body_top_perc  body_perc  ...  \\\n",
       "3995     197.942     197.956         86.643026      88.297872   1.654846  ...   \n",
       "3996     197.581     197.958         45.545977      99.712644  54.166667  ...   \n",
       "3997     197.580     197.738          1.145038      31.297710  30.152672  ...   \n",
       "3998     197.738     197.933         21.531100      68.181818  46.650718  ...   \n",
       "3999     197.599     197.930          7.103825      67.395264  60.291439  ...   \n",
       "\n",
       "      body_perc_prev_2  HANGING_MAN  SHOOTING_STAR  SPINNING_TOP  MARUBOZU  \\\n",
       "3995         83.333333         True          False         False     False   \n",
       "3996         59.025788        False          False         False     False   \n",
       "3997          1.654846        False          False         False     False   \n",
       "3998         54.166667        False          False         False     False   \n",
       "3999         30.152672        False          False         False     False   \n",
       "\n",
       "      ENGULFING  TWEEZER_TOP  TWEEZER_BOTTOM  MORNING_STAR  EVENING_STAR  \n",
       "3995      False        False           False         False         False  \n",
       "3996       True        False           False         False         False  \n",
       "3997      False        False           False         False         False  \n",
       "3998      False        False           False         False         False  \n",
       "3999       True        False           False         False         False  \n",
       "\n",
       "[5 rows x 31 columns]"
      ]
     },
     "execution_count": 7,
     "metadata": {},
     "output_type": "execute_result"
    }
   ],
   "source": [
    "df_an.tail()"
   ]
  },
  {
   "cell_type": "code",
   "execution_count": 8,
   "id": "29d539d6",
   "metadata": {},
   "outputs": [],
   "source": [
    "import plotly.graph_objects as go"
   ]
  },
  {
   "cell_type": "code",
   "execution_count": 9,
   "id": "fc7b9b79",
   "metadata": {},
   "outputs": [
    {
     "data": {
      "text/html": [
       "<div>\n",
       "<style scoped>\n",
       "    .dataframe tbody tr th:only-of-type {\n",
       "        vertical-align: middle;\n",
       "    }\n",
       "\n",
       "    .dataframe tbody tr th {\n",
       "        vertical-align: top;\n",
       "    }\n",
       "\n",
       "    .dataframe thead th {\n",
       "        text-align: right;\n",
       "    }\n",
       "</style>\n",
       "<table border=\"1\" class=\"dataframe\">\n",
       "  <thead>\n",
       "    <tr style=\"text-align: right;\">\n",
       "      <th></th>\n",
       "      <th>time</th>\n",
       "      <th>mid_o</th>\n",
       "      <th>mid_h</th>\n",
       "      <th>mid_l</th>\n",
       "      <th>mid_c</th>\n",
       "      <th>body_lower</th>\n",
       "      <th>body_upper</th>\n",
       "      <th>body_bottom_perc</th>\n",
       "      <th>body_top_perc</th>\n",
       "      <th>body_perc</th>\n",
       "      <th>...</th>\n",
       "      <th>body_perc_prev_2</th>\n",
       "      <th>HANGING_MAN</th>\n",
       "      <th>SHOOTING_STAR</th>\n",
       "      <th>SPINNING_TOP</th>\n",
       "      <th>MARUBOZU</th>\n",
       "      <th>ENGULFING</th>\n",
       "      <th>TWEEZER_TOP</th>\n",
       "      <th>TWEEZER_BOTTOM</th>\n",
       "      <th>MORNING_STAR</th>\n",
       "      <th>EVENING_STAR</th>\n",
       "    </tr>\n",
       "  </thead>\n",
       "  <tbody>\n",
       "    <tr>\n",
       "      <th>10</th>\n",
       "      <td>2024-05-01 08:00:00+00:00</td>\n",
       "      <td>197.116</td>\n",
       "      <td>197.415</td>\n",
       "      <td>197.113</td>\n",
       "      <td>197.414</td>\n",
       "      <td>197.116</td>\n",
       "      <td>197.414</td>\n",
       "      <td>0.993377</td>\n",
       "      <td>99.668874</td>\n",
       "      <td>98.675497</td>\n",
       "      <td>...</td>\n",
       "      <td>37.869822</td>\n",
       "      <td>False</td>\n",
       "      <td>False</td>\n",
       "      <td>False</td>\n",
       "      <td>True</td>\n",
       "      <td>False</td>\n",
       "      <td>False</td>\n",
       "      <td>False</td>\n",
       "      <td>False</td>\n",
       "      <td>False</td>\n",
       "    </tr>\n",
       "    <tr>\n",
       "      <th>72</th>\n",
       "      <td>2024-05-05 22:00:00+00:00</td>\n",
       "      <td>191.753</td>\n",
       "      <td>192.306</td>\n",
       "      <td>191.753</td>\n",
       "      <td>192.295</td>\n",
       "      <td>191.753</td>\n",
       "      <td>192.295</td>\n",
       "      <td>0.000000</td>\n",
       "      <td>98.010850</td>\n",
       "      <td>98.010850</td>\n",
       "      <td>...</td>\n",
       "      <td>58.108108</td>\n",
       "      <td>False</td>\n",
       "      <td>False</td>\n",
       "      <td>False</td>\n",
       "      <td>True</td>\n",
       "      <td>True</td>\n",
       "      <td>False</td>\n",
       "      <td>False</td>\n",
       "      <td>False</td>\n",
       "      <td>False</td>\n",
       "    </tr>\n",
       "    <tr>\n",
       "      <th>142</th>\n",
       "      <td>2024-05-08 20:00:00+00:00</td>\n",
       "      <td>194.493</td>\n",
       "      <td>194.494</td>\n",
       "      <td>194.378</td>\n",
       "      <td>194.378</td>\n",
       "      <td>194.378</td>\n",
       "      <td>194.493</td>\n",
       "      <td>0.000000</td>\n",
       "      <td>99.137931</td>\n",
       "      <td>99.137931</td>\n",
       "      <td>...</td>\n",
       "      <td>48.000000</td>\n",
       "      <td>False</td>\n",
       "      <td>False</td>\n",
       "      <td>False</td>\n",
       "      <td>True</td>\n",
       "      <td>True</td>\n",
       "      <td>False</td>\n",
       "      <td>False</td>\n",
       "      <td>False</td>\n",
       "      <td>False</td>\n",
       "    </tr>\n",
       "    <tr>\n",
       "      <th>733</th>\n",
       "      <td>2024-06-12 13:00:00+00:00</td>\n",
       "      <td>200.716</td>\n",
       "      <td>200.724</td>\n",
       "      <td>199.956</td>\n",
       "      <td>199.958</td>\n",
       "      <td>199.958</td>\n",
       "      <td>200.716</td>\n",
       "      <td>0.260417</td>\n",
       "      <td>98.958333</td>\n",
       "      <td>98.697917</td>\n",
       "      <td>...</td>\n",
       "      <td>5.063291</td>\n",
       "      <td>False</td>\n",
       "      <td>False</td>\n",
       "      <td>False</td>\n",
       "      <td>True</td>\n",
       "      <td>False</td>\n",
       "      <td>False</td>\n",
       "      <td>False</td>\n",
       "      <td>False</td>\n",
       "      <td>False</td>\n",
       "    </tr>\n",
       "    <tr>\n",
       "      <th>787</th>\n",
       "      <td>2024-06-14 19:00:00+00:00</td>\n",
       "      <td>199.444</td>\n",
       "      <td>199.622</td>\n",
       "      <td>199.443</td>\n",
       "      <td>199.621</td>\n",
       "      <td>199.444</td>\n",
       "      <td>199.621</td>\n",
       "      <td>0.558659</td>\n",
       "      <td>99.441341</td>\n",
       "      <td>98.882682</td>\n",
       "      <td>...</td>\n",
       "      <td>14.903846</td>\n",
       "      <td>False</td>\n",
       "      <td>False</td>\n",
       "      <td>False</td>\n",
       "      <td>True</td>\n",
       "      <td>True</td>\n",
       "      <td>False</td>\n",
       "      <td>False</td>\n",
       "      <td>False</td>\n",
       "      <td>False</td>\n",
       "    </tr>\n",
       "    <tr>\n",
       "      <th>939</th>\n",
       "      <td>2024-06-25 03:00:00+00:00</td>\n",
       "      <td>202.181</td>\n",
       "      <td>202.494</td>\n",
       "      <td>202.181</td>\n",
       "      <td>202.490</td>\n",
       "      <td>202.181</td>\n",
       "      <td>202.490</td>\n",
       "      <td>0.000000</td>\n",
       "      <td>98.722045</td>\n",
       "      <td>98.722045</td>\n",
       "      <td>...</td>\n",
       "      <td>0.779221</td>\n",
       "      <td>False</td>\n",
       "      <td>False</td>\n",
       "      <td>False</td>\n",
       "      <td>True</td>\n",
       "      <td>True</td>\n",
       "      <td>False</td>\n",
       "      <td>False</td>\n",
       "      <td>False</td>\n",
       "      <td>False</td>\n",
       "    </tr>\n",
       "    <tr>\n",
       "      <th>1097</th>\n",
       "      <td>2024-07-03 17:00:00+00:00</td>\n",
       "      <td>206.028</td>\n",
       "      <td>206.030</td>\n",
       "      <td>205.721</td>\n",
       "      <td>205.723</td>\n",
       "      <td>205.723</td>\n",
       "      <td>206.028</td>\n",
       "      <td>0.647249</td>\n",
       "      <td>99.352751</td>\n",
       "      <td>98.705502</td>\n",
       "      <td>...</td>\n",
       "      <td>59.574468</td>\n",
       "      <td>False</td>\n",
       "      <td>False</td>\n",
       "      <td>False</td>\n",
       "      <td>True</td>\n",
       "      <td>False</td>\n",
       "      <td>False</td>\n",
       "      <td>False</td>\n",
       "      <td>False</td>\n",
       "      <td>False</td>\n",
       "    </tr>\n",
       "    <tr>\n",
       "      <th>1122</th>\n",
       "      <td>2024-07-04 18:00:00+00:00</td>\n",
       "      <td>205.640</td>\n",
       "      <td>205.789</td>\n",
       "      <td>205.640</td>\n",
       "      <td>205.789</td>\n",
       "      <td>205.640</td>\n",
       "      <td>205.789</td>\n",
       "      <td>0.000000</td>\n",
       "      <td>100.000000</td>\n",
       "      <td>100.000000</td>\n",
       "      <td>...</td>\n",
       "      <td>5.633803</td>\n",
       "      <td>False</td>\n",
       "      <td>False</td>\n",
       "      <td>False</td>\n",
       "      <td>True</td>\n",
       "      <td>False</td>\n",
       "      <td>False</td>\n",
       "      <td>False</td>\n",
       "      <td>False</td>\n",
       "      <td>False</td>\n",
       "    </tr>\n",
       "    <tr>\n",
       "      <th>1397</th>\n",
       "      <td>2024-07-22 05:00:00+00:00</td>\n",
       "      <td>203.384</td>\n",
       "      <td>203.385</td>\n",
       "      <td>202.774</td>\n",
       "      <td>202.784</td>\n",
       "      <td>202.784</td>\n",
       "      <td>203.384</td>\n",
       "      <td>1.636661</td>\n",
       "      <td>99.836334</td>\n",
       "      <td>98.199673</td>\n",
       "      <td>...</td>\n",
       "      <td>46.012270</td>\n",
       "      <td>False</td>\n",
       "      <td>False</td>\n",
       "      <td>False</td>\n",
       "      <td>True</td>\n",
       "      <td>False</td>\n",
       "      <td>False</td>\n",
       "      <td>False</td>\n",
       "      <td>False</td>\n",
       "      <td>False</td>\n",
       "    </tr>\n",
       "    <tr>\n",
       "      <th>1655</th>\n",
       "      <td>2024-08-05 23:00:00+00:00</td>\n",
       "      <td>185.020</td>\n",
       "      <td>186.478</td>\n",
       "      <td>185.020</td>\n",
       "      <td>186.451</td>\n",
       "      <td>185.020</td>\n",
       "      <td>186.451</td>\n",
       "      <td>0.000000</td>\n",
       "      <td>98.148148</td>\n",
       "      <td>98.148148</td>\n",
       "      <td>...</td>\n",
       "      <td>29.032258</td>\n",
       "      <td>False</td>\n",
       "      <td>False</td>\n",
       "      <td>False</td>\n",
       "      <td>True</td>\n",
       "      <td>False</td>\n",
       "      <td>False</td>\n",
       "      <td>False</td>\n",
       "      <td>False</td>\n",
       "      <td>False</td>\n",
       "    </tr>\n",
       "    <tr>\n",
       "      <th>1942</th>\n",
       "      <td>2024-08-21 22:00:00+00:00</td>\n",
       "      <td>190.074</td>\n",
       "      <td>190.078</td>\n",
       "      <td>189.684</td>\n",
       "      <td>189.684</td>\n",
       "      <td>189.684</td>\n",
       "      <td>190.074</td>\n",
       "      <td>0.000000</td>\n",
       "      <td>98.984772</td>\n",
       "      <td>98.984772</td>\n",
       "      <td>...</td>\n",
       "      <td>94.642857</td>\n",
       "      <td>False</td>\n",
       "      <td>False</td>\n",
       "      <td>False</td>\n",
       "      <td>True</td>\n",
       "      <td>False</td>\n",
       "      <td>False</td>\n",
       "      <td>False</td>\n",
       "      <td>False</td>\n",
       "      <td>False</td>\n",
       "    </tr>\n",
       "    <tr>\n",
       "      <th>3895</th>\n",
       "      <td>2024-12-13 08:00:00+00:00</td>\n",
       "      <td>192.936</td>\n",
       "      <td>193.412</td>\n",
       "      <td>192.934</td>\n",
       "      <td>193.405</td>\n",
       "      <td>192.936</td>\n",
       "      <td>193.405</td>\n",
       "      <td>0.418410</td>\n",
       "      <td>98.535565</td>\n",
       "      <td>98.117155</td>\n",
       "      <td>...</td>\n",
       "      <td>65.060241</td>\n",
       "      <td>False</td>\n",
       "      <td>False</td>\n",
       "      <td>False</td>\n",
       "      <td>True</td>\n",
       "      <td>False</td>\n",
       "      <td>False</td>\n",
       "      <td>False</td>\n",
       "      <td>False</td>\n",
       "      <td>False</td>\n",
       "    </tr>\n",
       "  </tbody>\n",
       "</table>\n",
       "<p>12 rows × 31 columns</p>\n",
       "</div>"
      ],
      "text/plain": [
       "                          time    mid_o    mid_h    mid_l    mid_c  \\\n",
       "10   2024-05-01 08:00:00+00:00  197.116  197.415  197.113  197.414   \n",
       "72   2024-05-05 22:00:00+00:00  191.753  192.306  191.753  192.295   \n",
       "142  2024-05-08 20:00:00+00:00  194.493  194.494  194.378  194.378   \n",
       "733  2024-06-12 13:00:00+00:00  200.716  200.724  199.956  199.958   \n",
       "787  2024-06-14 19:00:00+00:00  199.444  199.622  199.443  199.621   \n",
       "939  2024-06-25 03:00:00+00:00  202.181  202.494  202.181  202.490   \n",
       "1097 2024-07-03 17:00:00+00:00  206.028  206.030  205.721  205.723   \n",
       "1122 2024-07-04 18:00:00+00:00  205.640  205.789  205.640  205.789   \n",
       "1397 2024-07-22 05:00:00+00:00  203.384  203.385  202.774  202.784   \n",
       "1655 2024-08-05 23:00:00+00:00  185.020  186.478  185.020  186.451   \n",
       "1942 2024-08-21 22:00:00+00:00  190.074  190.078  189.684  189.684   \n",
       "3895 2024-12-13 08:00:00+00:00  192.936  193.412  192.934  193.405   \n",
       "\n",
       "      body_lower  body_upper  body_bottom_perc  body_top_perc   body_perc  \\\n",
       "10       197.116     197.414          0.993377      99.668874   98.675497   \n",
       "72       191.753     192.295          0.000000      98.010850   98.010850   \n",
       "142      194.378     194.493          0.000000      99.137931   99.137931   \n",
       "733      199.958     200.716          0.260417      98.958333   98.697917   \n",
       "787      199.444     199.621          0.558659      99.441341   98.882682   \n",
       "939      202.181     202.490          0.000000      98.722045   98.722045   \n",
       "1097     205.723     206.028          0.647249      99.352751   98.705502   \n",
       "1122     205.640     205.789          0.000000     100.000000  100.000000   \n",
       "1397     202.784     203.384          1.636661      99.836334   98.199673   \n",
       "1655     185.020     186.451          0.000000      98.148148   98.148148   \n",
       "1942     189.684     190.074          0.000000      98.984772   98.984772   \n",
       "3895     192.936     193.405          0.418410      98.535565   98.117155   \n",
       "\n",
       "      ...  body_perc_prev_2  HANGING_MAN  SHOOTING_STAR  SPINNING_TOP  \\\n",
       "10    ...         37.869822        False          False         False   \n",
       "72    ...         58.108108        False          False         False   \n",
       "142   ...         48.000000        False          False         False   \n",
       "733   ...          5.063291        False          False         False   \n",
       "787   ...         14.903846        False          False         False   \n",
       "939   ...          0.779221        False          False         False   \n",
       "1097  ...         59.574468        False          False         False   \n",
       "1122  ...          5.633803        False          False         False   \n",
       "1397  ...         46.012270        False          False         False   \n",
       "1655  ...         29.032258        False          False         False   \n",
       "1942  ...         94.642857        False          False         False   \n",
       "3895  ...         65.060241        False          False         False   \n",
       "\n",
       "      MARUBOZU  ENGULFING  TWEEZER_TOP  TWEEZER_BOTTOM  MORNING_STAR  \\\n",
       "10        True      False        False           False         False   \n",
       "72        True       True        False           False         False   \n",
       "142       True       True        False           False         False   \n",
       "733       True      False        False           False         False   \n",
       "787       True       True        False           False         False   \n",
       "939       True       True        False           False         False   \n",
       "1097      True      False        False           False         False   \n",
       "1122      True      False        False           False         False   \n",
       "1397      True      False        False           False         False   \n",
       "1655      True      False        False           False         False   \n",
       "1942      True      False        False           False         False   \n",
       "3895      True      False        False           False         False   \n",
       "\n",
       "      EVENING_STAR  \n",
       "10           False  \n",
       "72           False  \n",
       "142          False  \n",
       "733          False  \n",
       "787          False  \n",
       "939          False  \n",
       "1097         False  \n",
       "1122         False  \n",
       "1397         False  \n",
       "1655         False  \n",
       "1942         False  \n",
       "3895         False  \n",
       "\n",
       "[12 rows x 31 columns]"
      ]
     },
     "execution_count": 9,
     "metadata": {},
     "output_type": "execute_result"
    }
   ],
   "source": [
    "df_an[df_an.MARUBOZU==True]"
   ]
  },
  {
   "cell_type": "code",
   "execution_count": 10,
   "id": "1423fcd9",
   "metadata": {},
   "outputs": [
    {
     "data": {
      "application/vnd.plotly.v1+json": {
       "config": {
        "plotlyServerURL": "https://plot.ly"
       },
       "data": [
        {
         "close": [
          198.312,
          198.526,
          198.652,
          198.582,
          198.744,
          198.784,
          199.092,
          199.434,
          199.608,
          199.364,
          199.326,
          199.533,
          199.683,
          199.288,
          199.446,
          199.474,
          199.492,
          199.552,
          199.688,
          199.666,
          199.626,
          199.562,
          199.388,
          199.47,
          199.269,
          199.352,
          199.274,
          199.109,
          199.266,
          199.457,
          199.728,
          199.91,
          199.687,
          199.408,
          199.426,
          199.469,
          199.708,
          199.613,
          199.292,
          199.403,
          199.092,
          199.28,
          199.182,
          199.024,
          199.05,
          199.064,
          199.078,
          199.156,
          199.212,
          199.134,
          199.282,
          199.19,
          198.999,
          198.822,
          198.785,
          198.946,
          198.683,
          198.96,
          199.014,
          199.273,
          199.703,
          199.744,
          199.582,
          199.264,
          199.342,
          199.297,
          199.307,
          199.399,
          199.403,
          199.506,
          199.657,
          199.608,
          199.566,
          199.656,
          199.695,
          199.809,
          199.806,
          199.77,
          199.696,
          199.754,
          199.458,
          199.228,
          199.112,
          199.468,
          199.561,
          199.398,
          199.532,
          199.794,
          199.834,
          199.927,
          200.009,
          199.892,
          199.918,
          199.888,
          199.91,
          199.852,
          200.106,
          200.146,
          200.264,
          200.238,
          200.274,
          200.316,
          200.058,
          200.182,
          200.062,
          200.238,
          200.176,
          200.123,
          199.944,
          199.782,
          199.986,
          200.147,
          200.332,
          200.045,
          200.136,
          200.158,
          200.191,
          200.188,
          200.186,
          200.161,
          200.154,
          200.195,
          200.287,
          200.299,
          200.319,
          200.46,
          200.357,
          200.526,
          200.687,
          200.678,
          200.77,
          200.758,
          200.716,
          199.958,
          200.067,
          200.155,
          200.14,
          200.18,
          200.638,
          200.714,
          200.586,
          200.484,
          200.629,
          200.649,
          200.622,
          200.52,
          200.766,
          200.733,
          200.707,
          200.745,
          200.785,
          201.136,
          201.268,
          200.936,
          200.796,
          200.672,
          200.75,
          200.816,
          200.363,
          200.086,
          199.912,
          200.256,
          200.274,
          200.49,
          200.388,
          200.362,
          200.42,
          200.392,
          200.449,
          200.638,
          200.767,
          201.26,
          201.371,
          201.531,
          201.157,
          200.726,
          200.363,
          199.612,
          199.438,
          199.536,
          199.56,
          199.174,
          199.356,
          199.488,
          199.58,
          199.55,
          199.444,
          199.621,
          199.684,
          199.586,
          199.844,
          199.833,
          199.718,
          199.734,
          199.708,
          199.576,
          199.614,
          199.602,
          199.33,
          199.596
         ],
         "decreasing": {
          "fillcolor": "#CC2E3C",
          "line": {
           "color": "#FF3A4C"
          }
         },
         "high": [
          198.486,
          198.528,
          198.687,
          198.791,
          198.782,
          198.846,
          199.124,
          199.531,
          199.638,
          199.624,
          199.45,
          199.548,
          199.736,
          199.752,
          199.694,
          199.504,
          199.574,
          199.569,
          199.73,
          199.752,
          199.712,
          199.601,
          199.646,
          199.576,
          199.488,
          199.406,
          199.374,
          199.31,
          199.548,
          199.527,
          199.77,
          199.926,
          199.94,
          199.792,
          199.546,
          199.538,
          199.728,
          199.806,
          199.761,
          199.539,
          199.456,
          199.287,
          199.292,
          199.266,
          199.14,
          199.216,
          199.082,
          199.18,
          199.304,
          199.376,
          199.334,
          199.291,
          199.196,
          199.142,
          198.906,
          198.968,
          199.012,
          199.028,
          199.072,
          199.289,
          199.814,
          199.754,
          199.816,
          199.582,
          199.362,
          199.37,
          199.351,
          199.434,
          199.448,
          199.73,
          199.767,
          199.722,
          199.704,
          199.736,
          199.732,
          199.931,
          199.84,
          199.817,
          199.798,
          199.768,
          199.81,
          199.472,
          199.244,
          199.561,
          199.811,
          199.566,
          199.58,
          199.808,
          199.894,
          199.962,
          200.029,
          200.05,
          199.955,
          199.956,
          199.928,
          199.948,
          200.165,
          200.15,
          200.264,
          200.316,
          200.346,
          200.358,
          200.401,
          200.206,
          200.366,
          200.248,
          200.396,
          200.224,
          200.136,
          200.102,
          200.05,
          200.24,
          200.344,
          200.334,
          200.158,
          200.192,
          200.204,
          200.23,
          200.21,
          200.219,
          200.25,
          200.246,
          200.291,
          200.346,
          200.336,
          200.462,
          200.516,
          200.574,
          200.716,
          200.706,
          200.78,
          200.908,
          200.95,
          200.724,
          200.392,
          200.193,
          200.211,
          200.232,
          200.661,
          200.752,
          200.806,
          200.544,
          200.632,
          200.698,
          200.749,
          200.668,
          200.794,
          200.817,
          200.778,
          200.826,
          200.978,
          201.197,
          201.289,
          201.318,
          200.958,
          200.974,
          200.886,
          201.029,
          200.878,
          200.384,
          200.084,
          200.278,
          200.333,
          200.524,
          200.539,
          200.404,
          200.436,
          200.498,
          200.508,
          200.678,
          200.791,
          201.46,
          201.388,
          201.616,
          201.619,
          201.356,
          200.88,
          200.398,
          199.646,
          200.022,
          199.661,
          199.739,
          199.501,
          199.612,
          199.634,
          199.671,
          199.572,
          199.622,
          199.724,
          199.715,
          199.873,
          199.914,
          199.834,
          199.764,
          199.797,
          199.776,
          199.638,
          199.763,
          199.6,
          199.714
         ],
         "increasing": {
          "fillcolor": "#24A06B",
          "line": {
           "color": "#2EC886"
          }
         },
         "line": {
          "width": 1
         },
         "low": [
          198.1,
          198.282,
          198.524,
          198.446,
          198.528,
          198.644,
          198.758,
          199.057,
          199.357,
          199.348,
          199.214,
          199.259,
          199.406,
          199.164,
          199.257,
          199.302,
          199.37,
          199.425,
          199.524,
          199.631,
          199.618,
          199.501,
          199.348,
          199.314,
          199.205,
          198.972,
          199.049,
          199.104,
          199.105,
          199.236,
          199.306,
          199.644,
          199.536,
          199.311,
          199.317,
          199.41,
          199.382,
          199.236,
          199.238,
          199.274,
          199.064,
          199.08,
          199.089,
          198.832,
          199.004,
          199.002,
          199.014,
          199.036,
          198.992,
          199.104,
          199.12,
          199.154,
          198.91,
          198.742,
          198.399,
          198.471,
          198.576,
          198.645,
          198.916,
          198.89,
          199.009,
          199.402,
          199.444,
          199.07,
          199.136,
          199.162,
          199.15,
          199.214,
          199.328,
          199.374,
          199.4,
          199.578,
          199.482,
          199.496,
          199.615,
          199.684,
          199.673,
          199.646,
          199.622,
          199.48,
          199.388,
          199.155,
          198.935,
          199.091,
          199.436,
          199.322,
          199.316,
          199.513,
          199.793,
          199.797,
          199.828,
          199.874,
          199.85,
          199.802,
          199.85,
          199.826,
          199.851,
          199.98,
          200.102,
          200.209,
          200.218,
          200.143,
          199.976,
          199.964,
          200.032,
          199.954,
          200.166,
          200.064,
          199.82,
          199.73,
          199.683,
          199.98,
          200.104,
          200.032,
          200.012,
          200.072,
          200.116,
          200.097,
          200.112,
          200.09,
          200.064,
          200.073,
          200.162,
          200.266,
          200.22,
          200.268,
          200.296,
          200.341,
          200.51,
          200.545,
          200.6,
          200.671,
          200.41,
          199.956,
          199.962,
          199.946,
          200.066,
          200.042,
          200.064,
          200.552,
          200.506,
          200.432,
          200.357,
          200.544,
          200.557,
          200.506,
          200.518,
          200.715,
          200.664,
          200.706,
          200.712,
          200.75,
          201.089,
          200.932,
          200.728,
          200.656,
          200.498,
          200.698,
          200.332,
          200.02,
          199.696,
          199.812,
          200.203,
          200.254,
          200.388,
          200.334,
          200.249,
          200.362,
          200.292,
          200.416,
          200.499,
          200.126,
          201.224,
          201.212,
          200.686,
          200.681,
          200.238,
          199.244,
          199.355,
          199.428,
          199.201,
          198.928,
          198.94,
          199.284,
          199.382,
          199.463,
          199.435,
          199.443,
          199.562,
          199.508,
          199.576,
          199.728,
          199.488,
          199.587,
          199.698,
          199.526,
          199.526,
          199.56,
          199.064,
          199.259
         ],
         "opacity": 1,
         "open": [
          198.126,
          198.313,
          198.526,
          198.65,
          198.585,
          198.744,
          198.783,
          199.092,
          199.436,
          199.604,
          199.362,
          199.326,
          199.536,
          199.682,
          199.279,
          199.448,
          199.472,
          199.493,
          199.553,
          199.686,
          199.665,
          199.591,
          199.554,
          199.386,
          199.468,
          199.271,
          199.352,
          199.273,
          199.112,
          199.264,
          199.457,
          199.732,
          199.912,
          199.686,
          199.408,
          199.424,
          199.467,
          199.708,
          199.614,
          199.288,
          199.402,
          199.096,
          199.28,
          199.182,
          199.028,
          199.031,
          199.07,
          199.088,
          199.154,
          199.212,
          199.135,
          199.282,
          199.189,
          198.994,
          198.827,
          198.78,
          198.944,
          198.684,
          198.96,
          199.012,
          199.272,
          199.704,
          199.744,
          199.582,
          199.26,
          199.344,
          199.296,
          199.308,
          199.4,
          199.532,
          199.506,
          199.669,
          199.609,
          199.56,
          199.648,
          199.698,
          199.808,
          199.804,
          199.762,
          199.698,
          199.754,
          199.458,
          199.229,
          199.11,
          199.472,
          199.562,
          199.396,
          199.532,
          199.794,
          199.834,
          199.926,
          200.008,
          199.889,
          199.893,
          199.876,
          199.909,
          199.854,
          200.103,
          200.146,
          200.265,
          200.238,
          200.278,
          200.328,
          200.059,
          200.183,
          200.061,
          200.237,
          200.179,
          200.12,
          199.946,
          199.782,
          199.984,
          200.148,
          200.332,
          200.046,
          200.136,
          200.158,
          200.164,
          200.186,
          200.186,
          200.156,
          200.153,
          200.194,
          200.285,
          200.298,
          200.32,
          200.472,
          200.36,
          200.527,
          200.686,
          200.678,
          200.77,
          200.758,
          200.716,
          199.966,
          200.066,
          200.156,
          200.146,
          200.18,
          200.639,
          200.716,
          200.528,
          200.48,
          200.626,
          200.646,
          200.622,
          200.519,
          200.762,
          200.735,
          200.706,
          200.743,
          200.785,
          201.136,
          201.272,
          200.938,
          200.797,
          200.672,
          200.753,
          200.817,
          200.361,
          200.084,
          199.914,
          200.256,
          200.272,
          200.494,
          200.404,
          200.354,
          200.42,
          200.39,
          200.45,
          200.635,
          200.768,
          201.261,
          201.372,
          201.54,
          201.156,
          200.725,
          200.362,
          199.61,
          199.434,
          199.54,
          199.566,
          199.175,
          199.358,
          199.472,
          199.581,
          199.55,
          199.444,
          199.62,
          199.683,
          199.576,
          199.847,
          199.834,
          199.716,
          199.736,
          199.709,
          199.576,
          199.618,
          199.6,
          199.33
         ],
         "type": "candlestick",
         "x": [
          "s24-06-05 00:00",
          "s24-06-05 01:00",
          "s24-06-05 02:00",
          "s24-06-05 03:00",
          "s24-06-05 04:00",
          "s24-06-05 05:00",
          "s24-06-05 06:00",
          "s24-06-05 07:00",
          "s24-06-05 08:00",
          "s24-06-05 09:00",
          "s24-06-05 10:00",
          "s24-06-05 11:00",
          "s24-06-05 12:00",
          "s24-06-05 13:00",
          "s24-06-05 14:00",
          "s24-06-05 15:00",
          "s24-06-05 16:00",
          "s24-06-05 17:00",
          "s24-06-05 18:00",
          "s24-06-05 19:00",
          "s24-06-05 20:00",
          "s24-06-05 21:00",
          "s24-06-05 22:00",
          "s24-06-05 23:00",
          "s24-06-06 00:00",
          "s24-06-06 01:00",
          "s24-06-06 02:00",
          "s24-06-06 03:00",
          "s24-06-06 04:00",
          "s24-06-06 05:00",
          "s24-06-06 06:00",
          "s24-06-06 07:00",
          "s24-06-06 08:00",
          "s24-06-06 09:00",
          "s24-06-06 10:00",
          "s24-06-06 11:00",
          "s24-06-06 12:00",
          "s24-06-06 13:00",
          "s24-06-06 14:00",
          "s24-06-06 15:00",
          "s24-06-06 16:00",
          "s24-06-06 17:00",
          "s24-06-06 18:00",
          "s24-06-06 19:00",
          "s24-06-06 20:00",
          "s24-06-06 21:00",
          "s24-06-06 22:00",
          "s24-06-06 23:00",
          "s24-06-07 00:00",
          "s24-06-07 01:00",
          "s24-06-07 02:00",
          "s24-06-07 03:00",
          "s24-06-07 04:00",
          "s24-06-07 05:00",
          "s24-06-07 06:00",
          "s24-06-07 07:00",
          "s24-06-07 08:00",
          "s24-06-07 09:00",
          "s24-06-07 10:00",
          "s24-06-07 11:00",
          "s24-06-07 12:00",
          "s24-06-07 13:00",
          "s24-06-07 14:00",
          "s24-06-07 15:00",
          "s24-06-07 16:00",
          "s24-06-07 17:00",
          "s24-06-07 18:00",
          "s24-06-07 19:00",
          "s24-06-07 20:00",
          "s24-06-09 21:00",
          "s24-06-09 22:00",
          "s24-06-09 23:00",
          "s24-06-10 00:00",
          "s24-06-10 01:00",
          "s24-06-10 02:00",
          "s24-06-10 03:00",
          "s24-06-10 04:00",
          "s24-06-10 05:00",
          "s24-06-10 06:00",
          "s24-06-10 07:00",
          "s24-06-10 08:00",
          "s24-06-10 09:00",
          "s24-06-10 10:00",
          "s24-06-10 11:00",
          "s24-06-10 12:00",
          "s24-06-10 13:00",
          "s24-06-10 14:00",
          "s24-06-10 15:00",
          "s24-06-10 16:00",
          "s24-06-10 17:00",
          "s24-06-10 18:00",
          "s24-06-10 19:00",
          "s24-06-10 20:00",
          "s24-06-10 21:00",
          "s24-06-10 22:00",
          "s24-06-10 23:00",
          "s24-06-11 00:00",
          "s24-06-11 01:00",
          "s24-06-11 02:00",
          "s24-06-11 03:00",
          "s24-06-11 04:00",
          "s24-06-11 05:00",
          "s24-06-11 06:00",
          "s24-06-11 07:00",
          "s24-06-11 08:00",
          "s24-06-11 09:00",
          "s24-06-11 10:00",
          "s24-06-11 11:00",
          "s24-06-11 12:00",
          "s24-06-11 13:00",
          "s24-06-11 14:00",
          "s24-06-11 15:00",
          "s24-06-11 16:00",
          "s24-06-11 17:00",
          "s24-06-11 18:00",
          "s24-06-11 19:00",
          "s24-06-11 20:00",
          "s24-06-11 21:00",
          "s24-06-11 22:00",
          "s24-06-11 23:00",
          "s24-06-12 00:00",
          "s24-06-12 01:00",
          "s24-06-12 02:00",
          "s24-06-12 03:00",
          "s24-06-12 04:00",
          "s24-06-12 05:00",
          "s24-06-12 06:00",
          "s24-06-12 07:00",
          "s24-06-12 08:00",
          "s24-06-12 09:00",
          "s24-06-12 10:00",
          "s24-06-12 11:00",
          "s24-06-12 12:00",
          "s24-06-12 13:00",
          "s24-06-12 14:00",
          "s24-06-12 15:00",
          "s24-06-12 16:00",
          "s24-06-12 17:00",
          "s24-06-12 18:00",
          "s24-06-12 19:00",
          "s24-06-12 20:00",
          "s24-06-12 21:00",
          "s24-06-12 22:00",
          "s24-06-12 23:00",
          "s24-06-13 00:00",
          "s24-06-13 01:00",
          "s24-06-13 02:00",
          "s24-06-13 03:00",
          "s24-06-13 04:00",
          "s24-06-13 05:00",
          "s24-06-13 06:00",
          "s24-06-13 07:00",
          "s24-06-13 08:00",
          "s24-06-13 09:00",
          "s24-06-13 10:00",
          "s24-06-13 11:00",
          "s24-06-13 12:00",
          "s24-06-13 13:00",
          "s24-06-13 14:00",
          "s24-06-13 15:00",
          "s24-06-13 16:00",
          "s24-06-13 17:00",
          "s24-06-13 18:00",
          "s24-06-13 19:00",
          "s24-06-13 20:00",
          "s24-06-13 21:00",
          "s24-06-13 22:00",
          "s24-06-13 23:00",
          "s24-06-14 00:00",
          "s24-06-14 01:00",
          "s24-06-14 02:00",
          "s24-06-14 03:00",
          "s24-06-14 04:00",
          "s24-06-14 05:00",
          "s24-06-14 06:00",
          "s24-06-14 07:00",
          "s24-06-14 08:00",
          "s24-06-14 09:00",
          "s24-06-14 10:00",
          "s24-06-14 11:00",
          "s24-06-14 12:00",
          "s24-06-14 13:00",
          "s24-06-14 14:00",
          "s24-06-14 15:00",
          "s24-06-14 16:00",
          "s24-06-14 17:00",
          "s24-06-14 18:00",
          "s24-06-14 19:00",
          "s24-06-14 20:00",
          "s24-06-16 21:00",
          "s24-06-16 22:00",
          "s24-06-16 23:00",
          "s24-06-17 00:00",
          "s24-06-17 01:00",
          "s24-06-17 02:00",
          "s24-06-17 03:00",
          "s24-06-17 04:00",
          "s24-06-17 05:00",
          "s24-06-17 06:00",
          "s24-06-17 07:00"
         ]
        },
        {
         "close": [
          199.958,
          199.621
         ],
         "decreasing": {
          "fillcolor": "#0066FF",
          "line": {
           "color": "#0066FF"
          }
         },
         "high": [
          200.724,
          199.622
         ],
         "increasing": {
          "fillcolor": "#0066FF",
          "line": {
           "color": "#0066FF"
          }
         },
         "line": {
          "width": 1
         },
         "low": [
          199.956,
          199.443
         ],
         "opacity": 1,
         "open": [
          200.716,
          199.444
         ],
         "type": "candlestick",
         "x": [
          "s24-06-12 13:00",
          "s24-06-14 19:00"
         ]
        }
       ],
       "layout": {
        "font": {
         "color": "#e1e1e1",
         "size": 8
        },
        "height": 400,
        "margin": {
         "b": 10,
         "l": 10,
         "r": 10,
         "t": 10
        },
        "paper_bgcolor": "#2c303c",
        "plot_bgcolor": "#2c303c",
        "template": {
         "data": {
          "bar": [
           {
            "error_x": {
             "color": "#2a3f5f"
            },
            "error_y": {
             "color": "#2a3f5f"
            },
            "marker": {
             "line": {
              "color": "#E5ECF6",
              "width": 0.5
             },
             "pattern": {
              "fillmode": "overlay",
              "size": 10,
              "solidity": 0.2
             }
            },
            "type": "bar"
           }
          ],
          "barpolar": [
           {
            "marker": {
             "line": {
              "color": "#E5ECF6",
              "width": 0.5
             },
             "pattern": {
              "fillmode": "overlay",
              "size": 10,
              "solidity": 0.2
             }
            },
            "type": "barpolar"
           }
          ],
          "carpet": [
           {
            "aaxis": {
             "endlinecolor": "#2a3f5f",
             "gridcolor": "white",
             "linecolor": "white",
             "minorgridcolor": "white",
             "startlinecolor": "#2a3f5f"
            },
            "baxis": {
             "endlinecolor": "#2a3f5f",
             "gridcolor": "white",
             "linecolor": "white",
             "minorgridcolor": "white",
             "startlinecolor": "#2a3f5f"
            },
            "type": "carpet"
           }
          ],
          "choropleth": [
           {
            "colorbar": {
             "outlinewidth": 0,
             "ticks": ""
            },
            "type": "choropleth"
           }
          ],
          "contour": [
           {
            "colorbar": {
             "outlinewidth": 0,
             "ticks": ""
            },
            "colorscale": [
             [
              0,
              "#0d0887"
             ],
             [
              0.1111111111111111,
              "#46039f"
             ],
             [
              0.2222222222222222,
              "#7201a8"
             ],
             [
              0.3333333333333333,
              "#9c179e"
             ],
             [
              0.4444444444444444,
              "#bd3786"
             ],
             [
              0.5555555555555556,
              "#d8576b"
             ],
             [
              0.6666666666666666,
              "#ed7953"
             ],
             [
              0.7777777777777778,
              "#fb9f3a"
             ],
             [
              0.8888888888888888,
              "#fdca26"
             ],
             [
              1,
              "#f0f921"
             ]
            ],
            "type": "contour"
           }
          ],
          "contourcarpet": [
           {
            "colorbar": {
             "outlinewidth": 0,
             "ticks": ""
            },
            "type": "contourcarpet"
           }
          ],
          "heatmap": [
           {
            "colorbar": {
             "outlinewidth": 0,
             "ticks": ""
            },
            "colorscale": [
             [
              0,
              "#0d0887"
             ],
             [
              0.1111111111111111,
              "#46039f"
             ],
             [
              0.2222222222222222,
              "#7201a8"
             ],
             [
              0.3333333333333333,
              "#9c179e"
             ],
             [
              0.4444444444444444,
              "#bd3786"
             ],
             [
              0.5555555555555556,
              "#d8576b"
             ],
             [
              0.6666666666666666,
              "#ed7953"
             ],
             [
              0.7777777777777778,
              "#fb9f3a"
             ],
             [
              0.8888888888888888,
              "#fdca26"
             ],
             [
              1,
              "#f0f921"
             ]
            ],
            "type": "heatmap"
           }
          ],
          "heatmapgl": [
           {
            "colorbar": {
             "outlinewidth": 0,
             "ticks": ""
            },
            "colorscale": [
             [
              0,
              "#0d0887"
             ],
             [
              0.1111111111111111,
              "#46039f"
             ],
             [
              0.2222222222222222,
              "#7201a8"
             ],
             [
              0.3333333333333333,
              "#9c179e"
             ],
             [
              0.4444444444444444,
              "#bd3786"
             ],
             [
              0.5555555555555556,
              "#d8576b"
             ],
             [
              0.6666666666666666,
              "#ed7953"
             ],
             [
              0.7777777777777778,
              "#fb9f3a"
             ],
             [
              0.8888888888888888,
              "#fdca26"
             ],
             [
              1,
              "#f0f921"
             ]
            ],
            "type": "heatmapgl"
           }
          ],
          "histogram": [
           {
            "marker": {
             "pattern": {
              "fillmode": "overlay",
              "size": 10,
              "solidity": 0.2
             }
            },
            "type": "histogram"
           }
          ],
          "histogram2d": [
           {
            "colorbar": {
             "outlinewidth": 0,
             "ticks": ""
            },
            "colorscale": [
             [
              0,
              "#0d0887"
             ],
             [
              0.1111111111111111,
              "#46039f"
             ],
             [
              0.2222222222222222,
              "#7201a8"
             ],
             [
              0.3333333333333333,
              "#9c179e"
             ],
             [
              0.4444444444444444,
              "#bd3786"
             ],
             [
              0.5555555555555556,
              "#d8576b"
             ],
             [
              0.6666666666666666,
              "#ed7953"
             ],
             [
              0.7777777777777778,
              "#fb9f3a"
             ],
             [
              0.8888888888888888,
              "#fdca26"
             ],
             [
              1,
              "#f0f921"
             ]
            ],
            "type": "histogram2d"
           }
          ],
          "histogram2dcontour": [
           {
            "colorbar": {
             "outlinewidth": 0,
             "ticks": ""
            },
            "colorscale": [
             [
              0,
              "#0d0887"
             ],
             [
              0.1111111111111111,
              "#46039f"
             ],
             [
              0.2222222222222222,
              "#7201a8"
             ],
             [
              0.3333333333333333,
              "#9c179e"
             ],
             [
              0.4444444444444444,
              "#bd3786"
             ],
             [
              0.5555555555555556,
              "#d8576b"
             ],
             [
              0.6666666666666666,
              "#ed7953"
             ],
             [
              0.7777777777777778,
              "#fb9f3a"
             ],
             [
              0.8888888888888888,
              "#fdca26"
             ],
             [
              1,
              "#f0f921"
             ]
            ],
            "type": "histogram2dcontour"
           }
          ],
          "mesh3d": [
           {
            "colorbar": {
             "outlinewidth": 0,
             "ticks": ""
            },
            "type": "mesh3d"
           }
          ],
          "parcoords": [
           {
            "line": {
             "colorbar": {
              "outlinewidth": 0,
              "ticks": ""
             }
            },
            "type": "parcoords"
           }
          ],
          "pie": [
           {
            "automargin": true,
            "type": "pie"
           }
          ],
          "scatter": [
           {
            "fillpattern": {
             "fillmode": "overlay",
             "size": 10,
             "solidity": 0.2
            },
            "type": "scatter"
           }
          ],
          "scatter3d": [
           {
            "line": {
             "colorbar": {
              "outlinewidth": 0,
              "ticks": ""
             }
            },
            "marker": {
             "colorbar": {
              "outlinewidth": 0,
              "ticks": ""
             }
            },
            "type": "scatter3d"
           }
          ],
          "scattercarpet": [
           {
            "marker": {
             "colorbar": {
              "outlinewidth": 0,
              "ticks": ""
             }
            },
            "type": "scattercarpet"
           }
          ],
          "scattergeo": [
           {
            "marker": {
             "colorbar": {
              "outlinewidth": 0,
              "ticks": ""
             }
            },
            "type": "scattergeo"
           }
          ],
          "scattergl": [
           {
            "marker": {
             "colorbar": {
              "outlinewidth": 0,
              "ticks": ""
             }
            },
            "type": "scattergl"
           }
          ],
          "scattermapbox": [
           {
            "marker": {
             "colorbar": {
              "outlinewidth": 0,
              "ticks": ""
             }
            },
            "type": "scattermapbox"
           }
          ],
          "scatterpolar": [
           {
            "marker": {
             "colorbar": {
              "outlinewidth": 0,
              "ticks": ""
             }
            },
            "type": "scatterpolar"
           }
          ],
          "scatterpolargl": [
           {
            "marker": {
             "colorbar": {
              "outlinewidth": 0,
              "ticks": ""
             }
            },
            "type": "scatterpolargl"
           }
          ],
          "scatterternary": [
           {
            "marker": {
             "colorbar": {
              "outlinewidth": 0,
              "ticks": ""
             }
            },
            "type": "scatterternary"
           }
          ],
          "surface": [
           {
            "colorbar": {
             "outlinewidth": 0,
             "ticks": ""
            },
            "colorscale": [
             [
              0,
              "#0d0887"
             ],
             [
              0.1111111111111111,
              "#46039f"
             ],
             [
              0.2222222222222222,
              "#7201a8"
             ],
             [
              0.3333333333333333,
              "#9c179e"
             ],
             [
              0.4444444444444444,
              "#bd3786"
             ],
             [
              0.5555555555555556,
              "#d8576b"
             ],
             [
              0.6666666666666666,
              "#ed7953"
             ],
             [
              0.7777777777777778,
              "#fb9f3a"
             ],
             [
              0.8888888888888888,
              "#fdca26"
             ],
             [
              1,
              "#f0f921"
             ]
            ],
            "type": "surface"
           }
          ],
          "table": [
           {
            "cells": {
             "fill": {
              "color": "#EBF0F8"
             },
             "line": {
              "color": "white"
             }
            },
            "header": {
             "fill": {
              "color": "#C8D4E3"
             },
             "line": {
              "color": "white"
             }
            },
            "type": "table"
           }
          ]
         },
         "layout": {
          "annotationdefaults": {
           "arrowcolor": "#2a3f5f",
           "arrowhead": 0,
           "arrowwidth": 1
          },
          "autotypenumbers": "strict",
          "coloraxis": {
           "colorbar": {
            "outlinewidth": 0,
            "ticks": ""
           }
          },
          "colorscale": {
           "diverging": [
            [
             0,
             "#8e0152"
            ],
            [
             0.1,
             "#c51b7d"
            ],
            [
             0.2,
             "#de77ae"
            ],
            [
             0.3,
             "#f1b6da"
            ],
            [
             0.4,
             "#fde0ef"
            ],
            [
             0.5,
             "#f7f7f7"
            ],
            [
             0.6,
             "#e6f5d0"
            ],
            [
             0.7,
             "#b8e186"
            ],
            [
             0.8,
             "#7fbc41"
            ],
            [
             0.9,
             "#4d9221"
            ],
            [
             1,
             "#276419"
            ]
           ],
           "sequential": [
            [
             0,
             "#0d0887"
            ],
            [
             0.1111111111111111,
             "#46039f"
            ],
            [
             0.2222222222222222,
             "#7201a8"
            ],
            [
             0.3333333333333333,
             "#9c179e"
            ],
            [
             0.4444444444444444,
             "#bd3786"
            ],
            [
             0.5555555555555556,
             "#d8576b"
            ],
            [
             0.6666666666666666,
             "#ed7953"
            ],
            [
             0.7777777777777778,
             "#fb9f3a"
            ],
            [
             0.8888888888888888,
             "#fdca26"
            ],
            [
             1,
             "#f0f921"
            ]
           ],
           "sequentialminus": [
            [
             0,
             "#0d0887"
            ],
            [
             0.1111111111111111,
             "#46039f"
            ],
            [
             0.2222222222222222,
             "#7201a8"
            ],
            [
             0.3333333333333333,
             "#9c179e"
            ],
            [
             0.4444444444444444,
             "#bd3786"
            ],
            [
             0.5555555555555556,
             "#d8576b"
            ],
            [
             0.6666666666666666,
             "#ed7953"
            ],
            [
             0.7777777777777778,
             "#fb9f3a"
            ],
            [
             0.8888888888888888,
             "#fdca26"
            ],
            [
             1,
             "#f0f921"
            ]
           ]
          },
          "colorway": [
           "#636efa",
           "#EF553B",
           "#00cc96",
           "#ab63fa",
           "#FFA15A",
           "#19d3f3",
           "#FF6692",
           "#B6E880",
           "#FF97FF",
           "#FECB52"
          ],
          "font": {
           "color": "#2a3f5f"
          },
          "geo": {
           "bgcolor": "white",
           "lakecolor": "white",
           "landcolor": "#E5ECF6",
           "showlakes": true,
           "showland": true,
           "subunitcolor": "white"
          },
          "hoverlabel": {
           "align": "left"
          },
          "hovermode": "closest",
          "mapbox": {
           "style": "light"
          },
          "paper_bgcolor": "white",
          "plot_bgcolor": "#E5ECF6",
          "polar": {
           "angularaxis": {
            "gridcolor": "white",
            "linecolor": "white",
            "ticks": ""
           },
           "bgcolor": "#E5ECF6",
           "radialaxis": {
            "gridcolor": "white",
            "linecolor": "white",
            "ticks": ""
           }
          },
          "scene": {
           "xaxis": {
            "backgroundcolor": "#E5ECF6",
            "gridcolor": "white",
            "gridwidth": 2,
            "linecolor": "white",
            "showbackground": true,
            "ticks": "",
            "zerolinecolor": "white"
           },
           "yaxis": {
            "backgroundcolor": "#E5ECF6",
            "gridcolor": "white",
            "gridwidth": 2,
            "linecolor": "white",
            "showbackground": true,
            "ticks": "",
            "zerolinecolor": "white"
           },
           "zaxis": {
            "backgroundcolor": "#E5ECF6",
            "gridcolor": "white",
            "gridwidth": 2,
            "linecolor": "white",
            "showbackground": true,
            "ticks": "",
            "zerolinecolor": "white"
           }
          },
          "shapedefaults": {
           "line": {
            "color": "#2a3f5f"
           }
          },
          "ternary": {
           "aaxis": {
            "gridcolor": "white",
            "linecolor": "white",
            "ticks": ""
           },
           "baxis": {
            "gridcolor": "white",
            "linecolor": "white",
            "ticks": ""
           },
           "bgcolor": "#E5ECF6",
           "caxis": {
            "gridcolor": "white",
            "linecolor": "white",
            "ticks": ""
           }
          },
          "title": {
           "x": 0.05
          },
          "xaxis": {
           "automargin": true,
           "gridcolor": "white",
           "linecolor": "white",
           "ticks": "",
           "title": {
            "standoff": 15
           },
           "zerolinecolor": "white",
           "zerolinewidth": 2
          },
          "yaxis": {
           "automargin": true,
           "gridcolor": "white",
           "linecolor": "white",
           "ticks": "",
           "title": {
            "standoff": 15
           },
           "zerolinecolor": "white",
           "zerolinewidth": 2
          }
         }
        },
        "width": 900,
        "xaxis": {
         "anchor": "y",
         "domain": [
          0,
          0.94
         ],
         "gridcolor": "#1f292f",
         "nticks": 5,
         "rangeslider": {
          "visible": false
         }
        },
        "yaxis": {
         "anchor": "x",
         "domain": [
          0,
          1
         ],
         "gridcolor": "#1f292f"
        },
        "yaxis2": {
         "anchor": "x",
         "gridcolor": "#1f292f",
         "overlaying": "y",
         "side": "right"
        }
       }
      }
     },
     "metadata": {},
     "output_type": "display_data"
    }
   ],
   "source": [
    "MARKER = '#0066FF'\n",
    "dfp = df_an.iloc[600:800]\n",
    "cp = CandlePlot(dfp, candles=True)\n",
    "df_temp = cp.df_plot[cp.df_plot.MARUBOZU==True]\n",
    "cp.fig.add_trace(go.Candlestick(\n",
    "                x=df_temp.sTime,\n",
    "                open=df_temp.mid_o,\n",
    "                high=df_temp.mid_h,\n",
    "                low=df_temp.mid_l,\n",
    "                close=df_temp.mid_c,\n",
    "                line=dict(width=1), opacity=1,\n",
    "                increasing_fillcolor=MARKER,\n",
    "                decreasing_fillcolor=MARKER,\n",
    "                increasing_line_color=MARKER,  \n",
    "                decreasing_line_color=MARKER\n",
    "            ))\n",
    "\n",
    "cp.show_plot()"
   ]
  },
  {
   "cell_type": "code",
   "execution_count": null,
   "id": "9d13cc26",
   "metadata": {},
   "outputs": [],
   "source": []
  },
  {
   "cell_type": "code",
   "execution_count": null,
   "id": "4fad38b1",
   "metadata": {},
   "outputs": [],
   "source": []
  },
  {
   "cell_type": "code",
   "execution_count": null,
   "id": "910128bf",
   "metadata": {},
   "outputs": [],
   "source": []
  },
  {
   "cell_type": "code",
   "execution_count": null,
   "id": "4ffaa886",
   "metadata": {},
   "outputs": [],
   "source": []
  },
  {
   "cell_type": "code",
   "execution_count": null,
   "id": "87a51219",
   "metadata": {},
   "outputs": [],
   "source": []
  }
 ],
 "metadata": {
  "kernelspec": {
   "display_name": "venv",
   "language": "python",
   "name": "python3"
  },
  "language_info": {
   "codemirror_mode": {
    "name": "ipython",
    "version": 3
   },
   "file_extension": ".py",
   "mimetype": "text/x-python",
   "name": "python",
   "nbconvert_exporter": "python",
   "pygments_lexer": "ipython3",
   "version": "3.12.8"
  }
 },
 "nbformat": 4,
 "nbformat_minor": 5
}
