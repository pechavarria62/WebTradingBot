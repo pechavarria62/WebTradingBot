{
 "cells": [
  {
   "cell_type": "code",
   "execution_count": 1,
   "id": "5fed330a",
   "metadata": {},
   "outputs": [],
   "source": [
    "import pandas as pd\n",
    "import plotly.graph_objects as go\n",
    "import datetime as dt"
   ]
  },
  {
   "cell_type": "code",
   "execution_count": 2,
   "id": "b19a3cf7",
   "metadata": {},
   "outputs": [],
   "source": [
    "pair = \"EUR_USD\"\n",
    "granularity = \"H4\"\n",
    "df = pd.read_pickle(f\"../data/{pair}_{granularity}.pkl\")"
   ]
  },
  {
   "cell_type": "code",
   "execution_count": 7,
   "id": "df3f6e66",
   "metadata": {},
   "outputs": [
    {
     "data": {
      "text/html": [
       "<div>\n",
       "<style scoped>\n",
       "    .dataframe tbody tr th:only-of-type {\n",
       "        vertical-align: middle;\n",
       "    }\n",
       "\n",
       "    .dataframe tbody tr th {\n",
       "        vertical-align: top;\n",
       "    }\n",
       "\n",
       "    .dataframe thead th {\n",
       "        text-align: right;\n",
       "    }\n",
       "</style>\n",
       "<table border=\"1\" class=\"dataframe\">\n",
       "  <thead>\n",
       "    <tr style=\"text-align: right;\">\n",
       "      <th></th>\n",
       "      <th>time</th>\n",
       "      <th>volume</th>\n",
       "      <th>mid_o</th>\n",
       "      <th>mid_h</th>\n",
       "      <th>mid_l</th>\n",
       "      <th>mid_c</th>\n",
       "      <th>bid_o</th>\n",
       "      <th>bid_h</th>\n",
       "      <th>bid_l</th>\n",
       "      <th>bid_c</th>\n",
       "      <th>ask_o</th>\n",
       "      <th>ask_h</th>\n",
       "      <th>ask_l</th>\n",
       "      <th>ask_c</th>\n",
       "      <th>sTime</th>\n",
       "    </tr>\n",
       "  </thead>\n",
       "  <tbody>\n",
       "    <tr>\n",
       "      <th>3995</th>\n",
       "      <td>2024-12-18 18:00:00+00:00</td>\n",
       "      <td>74144</td>\n",
       "      <td>1.04754</td>\n",
       "      <td>1.04925</td>\n",
       "      <td>1.03439</td>\n",
       "      <td>1.03497</td>\n",
       "      <td>1.04746</td>\n",
       "      <td>1.04918</td>\n",
       "      <td>1.03432</td>\n",
       "      <td>1.03488</td>\n",
       "      <td>1.04763</td>\n",
       "      <td>1.04932</td>\n",
       "      <td>1.03446</td>\n",
       "      <td>1.03506</td>\n",
       "      <td>s24-12-18 18:00</td>\n",
       "    </tr>\n",
       "    <tr>\n",
       "      <th>3996</th>\n",
       "      <td>2024-12-18 22:00:00+00:00</td>\n",
       "      <td>19965</td>\n",
       "      <td>1.03537</td>\n",
       "      <td>1.03800</td>\n",
       "      <td>1.03475</td>\n",
       "      <td>1.03782</td>\n",
       "      <td>1.03489</td>\n",
       "      <td>1.03793</td>\n",
       "      <td>1.03466</td>\n",
       "      <td>1.03774</td>\n",
       "      <td>1.03585</td>\n",
       "      <td>1.03808</td>\n",
       "      <td>1.03484</td>\n",
       "      <td>1.03790</td>\n",
       "      <td>s24-12-18 22:00</td>\n",
       "    </tr>\n",
       "    <tr>\n",
       "      <th>3997</th>\n",
       "      <td>2024-12-19 02:00:00+00:00</td>\n",
       "      <td>16933</td>\n",
       "      <td>1.03784</td>\n",
       "      <td>1.03908</td>\n",
       "      <td>1.03726</td>\n",
       "      <td>1.03822</td>\n",
       "      <td>1.03776</td>\n",
       "      <td>1.03901</td>\n",
       "      <td>1.03717</td>\n",
       "      <td>1.03815</td>\n",
       "      <td>1.03791</td>\n",
       "      <td>1.03916</td>\n",
       "      <td>1.03734</td>\n",
       "      <td>1.03829</td>\n",
       "      <td>s24-12-19 02:00</td>\n",
       "    </tr>\n",
       "    <tr>\n",
       "      <th>3998</th>\n",
       "      <td>2024-12-19 06:00:00+00:00</td>\n",
       "      <td>43940</td>\n",
       "      <td>1.03820</td>\n",
       "      <td>1.04224</td>\n",
       "      <td>1.03774</td>\n",
       "      <td>1.04125</td>\n",
       "      <td>1.03813</td>\n",
       "      <td>1.04217</td>\n",
       "      <td>1.03766</td>\n",
       "      <td>1.04117</td>\n",
       "      <td>1.03827</td>\n",
       "      <td>1.04232</td>\n",
       "      <td>1.03782</td>\n",
       "      <td>1.04133</td>\n",
       "      <td>s24-12-19 06:00</td>\n",
       "    </tr>\n",
       "    <tr>\n",
       "      <th>3999</th>\n",
       "      <td>2024-12-19 10:00:00+00:00</td>\n",
       "      <td>45972</td>\n",
       "      <td>1.04126</td>\n",
       "      <td>1.04158</td>\n",
       "      <td>1.03859</td>\n",
       "      <td>1.03990</td>\n",
       "      <td>1.04118</td>\n",
       "      <td>1.04151</td>\n",
       "      <td>1.03851</td>\n",
       "      <td>1.03982</td>\n",
       "      <td>1.04135</td>\n",
       "      <td>1.04167</td>\n",
       "      <td>1.03867</td>\n",
       "      <td>1.03998</td>\n",
       "      <td>s24-12-19 10:00</td>\n",
       "    </tr>\n",
       "  </tbody>\n",
       "</table>\n",
       "</div>"
      ],
      "text/plain": [
       "                          time  volume    mid_o    mid_h    mid_l    mid_c  \\\n",
       "3995 2024-12-18 18:00:00+00:00   74144  1.04754  1.04925  1.03439  1.03497   \n",
       "3996 2024-12-18 22:00:00+00:00   19965  1.03537  1.03800  1.03475  1.03782   \n",
       "3997 2024-12-19 02:00:00+00:00   16933  1.03784  1.03908  1.03726  1.03822   \n",
       "3998 2024-12-19 06:00:00+00:00   43940  1.03820  1.04224  1.03774  1.04125   \n",
       "3999 2024-12-19 10:00:00+00:00   45972  1.04126  1.04158  1.03859  1.03990   \n",
       "\n",
       "        bid_o    bid_h    bid_l    bid_c    ask_o    ask_h    ask_l    ask_c  \\\n",
       "3995  1.04746  1.04918  1.03432  1.03488  1.04763  1.04932  1.03446  1.03506   \n",
       "3996  1.03489  1.03793  1.03466  1.03774  1.03585  1.03808  1.03484  1.03790   \n",
       "3997  1.03776  1.03901  1.03717  1.03815  1.03791  1.03916  1.03734  1.03829   \n",
       "3998  1.03813  1.04217  1.03766  1.04117  1.03827  1.04232  1.03782  1.04133   \n",
       "3999  1.04118  1.04151  1.03851  1.03982  1.04135  1.04167  1.03867  1.03998   \n",
       "\n",
       "                sTime  \n",
       "3995  s24-12-18 18:00  \n",
       "3996  s24-12-18 22:00  \n",
       "3997  s24-12-19 02:00  \n",
       "3998  s24-12-19 06:00  \n",
       "3999  s24-12-19 10:00  "
      ]
     },
     "execution_count": 7,
     "metadata": {},
     "output_type": "execute_result"
    }
   ],
   "source": [
    "df.tail()"
   ]
  },
  {
   "cell_type": "code",
   "execution_count": 4,
   "id": "d438e633",
   "metadata": {},
   "outputs": [],
   "source": [
    "df['sTime'] = [dt.datetime.strftime(x, \"s%y-%m-%d %H:%M\") for x in df.time]"
   ]
  },
  {
   "cell_type": "code",
   "execution_count": 5,
   "id": "2046e30d",
   "metadata": {},
   "outputs": [],
   "source": [
    "df_plot = df.iloc[:100]"
   ]
  },
  {
   "cell_type": "code",
   "execution_count": 10,
   "id": "0a1c446f",
   "metadata": {},
   "outputs": [
    {
     "data": {
      "application/vnd.plotly.v1+json": {
       "config": {
        "plotlyServerURL": "https://plot.ly"
       },
       "data": [
        {
         "close": [
          1.07401,
          1.07548,
          1.07305,
          1.07154,
          1.07102,
          1.07334,
          1.07302,
          1.07576,
          1.07634,
          1.07526,
          1.07864,
          1.078,
          1.07457,
          1.07446,
          1.07276,
          1.06818,
          1.07313,
          1.07322,
          1.0728,
          1.07143,
          1.07181,
          1.07262,
          1.06392,
          1.06518,
          1.06566,
          1.06576,
          1.06842,
          1.07032,
          1.07443,
          1.07488,
          1.07594,
          1.07462,
          1.07536,
          1.0716,
          1.0729,
          1.07194,
          1.07164,
          1.07276,
          1.07508,
          1.07228,
          1.07006,
          1.06958,
          1.06846,
          1.06826,
          1.06794,
          1.06556,
          1.07012,
          1.07054,
          1.06934,
          1.06788,
          1.06792,
          1.07317,
          1.07285,
          1.07164,
          1.07122,
          1.07266,
          1.07155,
          1.07344,
          1.06524,
          1.06188,
          1.06241,
          1.06308,
          1.06146,
          1.05225,
          1.05167,
          1.05204,
          1.0485,
          1.04911,
          1.04752,
          1.04655,
          1.04372,
          1.04086,
          1.04226,
          1.04246,
          1.04657,
          1.04488,
          1.04202,
          1.0417,
          1.04348,
          1.04268,
          1.04939,
          1.04148,
          1.03818,
          1.04466,
          1.04528,
          1.04385,
          1.04095,
          1.04284,
          1.05604,
          1.05524,
          1.05408,
          1.05278,
          1.052,
          1.04948,
          1.04676,
          1.04938,
          1.04934,
          1.0523,
          1.05246,
          1.05172
         ],
         "decreasing": {
          "fillcolor": "#CC2E3C",
          "line": {
           "color": "#FF3A4C"
          }
         },
         "high": [
          1.07404,
          1.07652,
          1.07571,
          1.07315,
          1.07505,
          1.07342,
          1.07375,
          1.07602,
          1.07702,
          1.07806,
          1.07866,
          1.0787,
          1.07798,
          1.0758,
          1.07554,
          1.07388,
          1.07382,
          1.07468,
          1.0738,
          1.07286,
          1.07394,
          1.07286,
          1.07308,
          1.06607,
          1.06596,
          1.06584,
          1.0695,
          1.07163,
          1.07449,
          1.07502,
          1.07631,
          1.07646,
          1.07624,
          1.07556,
          1.07522,
          1.07294,
          1.07318,
          1.07281,
          1.07519,
          1.07512,
          1.07239,
          1.07032,
          1.06986,
          1.07,
          1.07049,
          1.06918,
          1.071,
          1.07142,
          1.0708,
          1.06958,
          1.06952,
          1.0741,
          1.07486,
          1.07286,
          1.07209,
          1.07338,
          1.07296,
          1.07742,
          1.07432,
          1.0655,
          1.06246,
          1.06356,
          1.06424,
          1.06178,
          1.05447,
          1.05334,
          1.05203,
          1.04942,
          1.04956,
          1.04818,
          1.04686,
          1.04586,
          1.04244,
          1.04362,
          1.0485,
          1.04685,
          1.04598,
          1.04435,
          1.04406,
          1.04517,
          1.05078,
          1.04978,
          1.04322,
          1.04698,
          1.04694,
          1.0459,
          1.04441,
          1.04366,
          1.0573,
          1.06014,
          1.05612,
          1.05429,
          1.05308,
          1.05359,
          1.05002,
          1.05028,
          1.04968,
          1.05306,
          1.0543,
          1.0546
         ],
         "increasing": {
          "fillcolor": "#24A06B",
          "line": {
           "color": "#2EC886"
          }
         },
         "line": {
          "width": 1
         },
         "low": [
          1.07248,
          1.07342,
          1.07258,
          1.06968,
          1.07014,
          1.07062,
          1.07262,
          1.07268,
          1.07402,
          1.07483,
          1.07506,
          1.07772,
          1.0743,
          1.07342,
          1.07252,
          1.068,
          1.0679,
          1.07256,
          1.07266,
          1.07071,
          1.07052,
          1.0702,
          1.06273,
          1.06372,
          1.06458,
          1.06451,
          1.06496,
          1.06808,
          1.06923,
          1.07379,
          1.0741,
          1.07462,
          1.0745,
          1.07041,
          1.07106,
          1.0715,
          1.07147,
          1.07102,
          1.07182,
          1.07156,
          1.06839,
          1.06853,
          1.06801,
          1.06706,
          1.06652,
          1.0654,
          1.0652,
          1.06932,
          1.06912,
          1.06784,
          1.06758,
          1.06715,
          1.07249,
          1.07127,
          1.07093,
          1.07096,
          1.0694,
          1.06882,
          1.06452,
          1.06113,
          1.06112,
          1.06174,
          1.06075,
          1.05212,
          1.05059,
          1.05134,
          1.04806,
          1.04758,
          1.04564,
          1.04451,
          1.04183,
          1.03998,
          1.04036,
          1.0397,
          1.04179,
          1.04254,
          1.04068,
          1.03999,
          1.04114,
          1.04242,
          1.04244,
          1.04042,
          1.038,
          1.03593,
          1.04426,
          1.04312,
          1.03809,
          1.03836,
          1.04278,
          1.05461,
          1.05354,
          1.05176,
          1.0494,
          1.04758,
          1.04445,
          1.04666,
          1.04746,
          1.04913,
          1.05103,
          1.0515
         ],
         "opacity": 1,
         "open": [
          1.07257,
          1.07399,
          1.07548,
          1.07303,
          1.07155,
          1.07101,
          1.07375,
          1.07302,
          1.07576,
          1.07633,
          1.07526,
          1.07862,
          1.07775,
          1.07456,
          1.07448,
          1.0728,
          1.06818,
          1.07311,
          1.07348,
          1.07278,
          1.07143,
          1.07181,
          1.07263,
          1.06392,
          1.06476,
          1.06566,
          1.06575,
          1.06841,
          1.0703,
          1.07444,
          1.07466,
          1.07596,
          1.07464,
          1.07535,
          1.07162,
          1.07288,
          1.07222,
          1.07164,
          1.07276,
          1.07509,
          1.07228,
          1.07008,
          1.06965,
          1.06846,
          1.06828,
          1.06796,
          1.06554,
          1.07011,
          1.07018,
          1.06933,
          1.06787,
          1.06791,
          1.07318,
          1.07284,
          1.0718,
          1.07122,
          1.07266,
          1.07156,
          1.07344,
          1.06526,
          1.06172,
          1.06241,
          1.06307,
          1.06145,
          1.05226,
          1.05167,
          1.05154,
          1.04852,
          1.0491,
          1.04751,
          1.04654,
          1.04372,
          1.04081,
          1.04225,
          1.04246,
          1.04654,
          1.04488,
          1.04201,
          1.04114,
          1.04343,
          1.0427,
          1.04938,
          1.04144,
          1.03818,
          1.04444,
          1.04528,
          1.0439,
          1.04092,
          1.04286,
          1.05602,
          1.05496,
          1.05408,
          1.05278,
          1.05197,
          1.04948,
          1.04674,
          1.04841,
          1.04934,
          1.0523,
          1.0525
         ],
         "type": "candlestick",
         "x": [
          "s22-05-26 21:00",
          "s22-05-27 01:00",
          "s22-05-27 05:00",
          "s22-05-27 09:00",
          "s22-05-27 13:00",
          "s22-05-27 17:00",
          "s22-05-29 21:00",
          "s22-05-30 01:00",
          "s22-05-30 05:00",
          "s22-05-30 09:00",
          "s22-05-30 13:00",
          "s22-05-30 17:00",
          "s22-05-30 21:00",
          "s22-05-31 01:00",
          "s22-05-31 05:00",
          "s22-05-31 09:00",
          "s22-05-31 13:00",
          "s22-05-31 17:00",
          "s22-05-31 21:00",
          "s22-06-01 01:00",
          "s22-06-01 05:00",
          "s22-06-01 09:00",
          "s22-06-01 13:00",
          "s22-06-01 17:00",
          "s22-06-01 21:00",
          "s22-06-02 01:00",
          "s22-06-02 05:00",
          "s22-06-02 09:00",
          "s22-06-02 13:00",
          "s22-06-02 17:00",
          "s22-06-02 21:00",
          "s22-06-03 01:00",
          "s22-06-03 05:00",
          "s22-06-03 09:00",
          "s22-06-03 13:00",
          "s22-06-03 17:00",
          "s22-06-05 21:00",
          "s22-06-06 01:00",
          "s22-06-06 05:00",
          "s22-06-06 09:00",
          "s22-06-06 13:00",
          "s22-06-06 17:00",
          "s22-06-06 21:00",
          "s22-06-07 01:00",
          "s22-06-07 05:00",
          "s22-06-07 09:00",
          "s22-06-07 13:00",
          "s22-06-07 17:00",
          "s22-06-07 21:00",
          "s22-06-08 01:00",
          "s22-06-08 05:00",
          "s22-06-08 09:00",
          "s22-06-08 13:00",
          "s22-06-08 17:00",
          "s22-06-08 21:00",
          "s22-06-09 01:00",
          "s22-06-09 05:00",
          "s22-06-09 09:00",
          "s22-06-09 13:00",
          "s22-06-09 17:00",
          "s22-06-09 21:00",
          "s22-06-10 01:00",
          "s22-06-10 05:00",
          "s22-06-10 09:00",
          "s22-06-10 13:00",
          "s22-06-10 17:00",
          "s22-06-12 21:00",
          "s22-06-13 01:00",
          "s22-06-13 05:00",
          "s22-06-13 09:00",
          "s22-06-13 13:00",
          "s22-06-13 17:00",
          "s22-06-13 21:00",
          "s22-06-14 01:00",
          "s22-06-14 05:00",
          "s22-06-14 09:00",
          "s22-06-14 13:00",
          "s22-06-14 17:00",
          "s22-06-14 21:00",
          "s22-06-15 01:00",
          "s22-06-15 05:00",
          "s22-06-15 09:00",
          "s22-06-15 13:00",
          "s22-06-15 17:00",
          "s22-06-15 21:00",
          "s22-06-16 01:00",
          "s22-06-16 05:00",
          "s22-06-16 09:00",
          "s22-06-16 13:00",
          "s22-06-16 17:00",
          "s22-06-16 21:00",
          "s22-06-17 01:00",
          "s22-06-17 05:00",
          "s22-06-17 09:00",
          "s22-06-17 13:00",
          "s22-06-17 17:00",
          "s22-06-19 21:00",
          "s22-06-20 01:00",
          "s22-06-20 05:00",
          "s22-06-20 09:00"
         ]
        }
       ],
       "layout": {
        "font": {
         "color": "#e1e1e1",
         "size": 8
        },
        "height": 400,
        "margin": {
         "b": 10,
         "l": 10,
         "r": 10,
         "t": 10
        },
        "paper_bgcolor": "#2c303c",
        "plot_bgcolor": "#2c303c",
        "template": {
         "data": {
          "bar": [
           {
            "error_x": {
             "color": "#2a3f5f"
            },
            "error_y": {
             "color": "#2a3f5f"
            },
            "marker": {
             "line": {
              "color": "#E5ECF6",
              "width": 0.5
             },
             "pattern": {
              "fillmode": "overlay",
              "size": 10,
              "solidity": 0.2
             }
            },
            "type": "bar"
           }
          ],
          "barpolar": [
           {
            "marker": {
             "line": {
              "color": "#E5ECF6",
              "width": 0.5
             },
             "pattern": {
              "fillmode": "overlay",
              "size": 10,
              "solidity": 0.2
             }
            },
            "type": "barpolar"
           }
          ],
          "carpet": [
           {
            "aaxis": {
             "endlinecolor": "#2a3f5f",
             "gridcolor": "white",
             "linecolor": "white",
             "minorgridcolor": "white",
             "startlinecolor": "#2a3f5f"
            },
            "baxis": {
             "endlinecolor": "#2a3f5f",
             "gridcolor": "white",
             "linecolor": "white",
             "minorgridcolor": "white",
             "startlinecolor": "#2a3f5f"
            },
            "type": "carpet"
           }
          ],
          "choropleth": [
           {
            "colorbar": {
             "outlinewidth": 0,
             "ticks": ""
            },
            "type": "choropleth"
           }
          ],
          "contour": [
           {
            "colorbar": {
             "outlinewidth": 0,
             "ticks": ""
            },
            "colorscale": [
             [
              0,
              "#0d0887"
             ],
             [
              0.1111111111111111,
              "#46039f"
             ],
             [
              0.2222222222222222,
              "#7201a8"
             ],
             [
              0.3333333333333333,
              "#9c179e"
             ],
             [
              0.4444444444444444,
              "#bd3786"
             ],
             [
              0.5555555555555556,
              "#d8576b"
             ],
             [
              0.6666666666666666,
              "#ed7953"
             ],
             [
              0.7777777777777778,
              "#fb9f3a"
             ],
             [
              0.8888888888888888,
              "#fdca26"
             ],
             [
              1,
              "#f0f921"
             ]
            ],
            "type": "contour"
           }
          ],
          "contourcarpet": [
           {
            "colorbar": {
             "outlinewidth": 0,
             "ticks": ""
            },
            "type": "contourcarpet"
           }
          ],
          "heatmap": [
           {
            "colorbar": {
             "outlinewidth": 0,
             "ticks": ""
            },
            "colorscale": [
             [
              0,
              "#0d0887"
             ],
             [
              0.1111111111111111,
              "#46039f"
             ],
             [
              0.2222222222222222,
              "#7201a8"
             ],
             [
              0.3333333333333333,
              "#9c179e"
             ],
             [
              0.4444444444444444,
              "#bd3786"
             ],
             [
              0.5555555555555556,
              "#d8576b"
             ],
             [
              0.6666666666666666,
              "#ed7953"
             ],
             [
              0.7777777777777778,
              "#fb9f3a"
             ],
             [
              0.8888888888888888,
              "#fdca26"
             ],
             [
              1,
              "#f0f921"
             ]
            ],
            "type": "heatmap"
           }
          ],
          "heatmapgl": [
           {
            "colorbar": {
             "outlinewidth": 0,
             "ticks": ""
            },
            "colorscale": [
             [
              0,
              "#0d0887"
             ],
             [
              0.1111111111111111,
              "#46039f"
             ],
             [
              0.2222222222222222,
              "#7201a8"
             ],
             [
              0.3333333333333333,
              "#9c179e"
             ],
             [
              0.4444444444444444,
              "#bd3786"
             ],
             [
              0.5555555555555556,
              "#d8576b"
             ],
             [
              0.6666666666666666,
              "#ed7953"
             ],
             [
              0.7777777777777778,
              "#fb9f3a"
             ],
             [
              0.8888888888888888,
              "#fdca26"
             ],
             [
              1,
              "#f0f921"
             ]
            ],
            "type": "heatmapgl"
           }
          ],
          "histogram": [
           {
            "marker": {
             "pattern": {
              "fillmode": "overlay",
              "size": 10,
              "solidity": 0.2
             }
            },
            "type": "histogram"
           }
          ],
          "histogram2d": [
           {
            "colorbar": {
             "outlinewidth": 0,
             "ticks": ""
            },
            "colorscale": [
             [
              0,
              "#0d0887"
             ],
             [
              0.1111111111111111,
              "#46039f"
             ],
             [
              0.2222222222222222,
              "#7201a8"
             ],
             [
              0.3333333333333333,
              "#9c179e"
             ],
             [
              0.4444444444444444,
              "#bd3786"
             ],
             [
              0.5555555555555556,
              "#d8576b"
             ],
             [
              0.6666666666666666,
              "#ed7953"
             ],
             [
              0.7777777777777778,
              "#fb9f3a"
             ],
             [
              0.8888888888888888,
              "#fdca26"
             ],
             [
              1,
              "#f0f921"
             ]
            ],
            "type": "histogram2d"
           }
          ],
          "histogram2dcontour": [
           {
            "colorbar": {
             "outlinewidth": 0,
             "ticks": ""
            },
            "colorscale": [
             [
              0,
              "#0d0887"
             ],
             [
              0.1111111111111111,
              "#46039f"
             ],
             [
              0.2222222222222222,
              "#7201a8"
             ],
             [
              0.3333333333333333,
              "#9c179e"
             ],
             [
              0.4444444444444444,
              "#bd3786"
             ],
             [
              0.5555555555555556,
              "#d8576b"
             ],
             [
              0.6666666666666666,
              "#ed7953"
             ],
             [
              0.7777777777777778,
              "#fb9f3a"
             ],
             [
              0.8888888888888888,
              "#fdca26"
             ],
             [
              1,
              "#f0f921"
             ]
            ],
            "type": "histogram2dcontour"
           }
          ],
          "mesh3d": [
           {
            "colorbar": {
             "outlinewidth": 0,
             "ticks": ""
            },
            "type": "mesh3d"
           }
          ],
          "parcoords": [
           {
            "line": {
             "colorbar": {
              "outlinewidth": 0,
              "ticks": ""
             }
            },
            "type": "parcoords"
           }
          ],
          "pie": [
           {
            "automargin": true,
            "type": "pie"
           }
          ],
          "scatter": [
           {
            "fillpattern": {
             "fillmode": "overlay",
             "size": 10,
             "solidity": 0.2
            },
            "type": "scatter"
           }
          ],
          "scatter3d": [
           {
            "line": {
             "colorbar": {
              "outlinewidth": 0,
              "ticks": ""
             }
            },
            "marker": {
             "colorbar": {
              "outlinewidth": 0,
              "ticks": ""
             }
            },
            "type": "scatter3d"
           }
          ],
          "scattercarpet": [
           {
            "marker": {
             "colorbar": {
              "outlinewidth": 0,
              "ticks": ""
             }
            },
            "type": "scattercarpet"
           }
          ],
          "scattergeo": [
           {
            "marker": {
             "colorbar": {
              "outlinewidth": 0,
              "ticks": ""
             }
            },
            "type": "scattergeo"
           }
          ],
          "scattergl": [
           {
            "marker": {
             "colorbar": {
              "outlinewidth": 0,
              "ticks": ""
             }
            },
            "type": "scattergl"
           }
          ],
          "scattermapbox": [
           {
            "marker": {
             "colorbar": {
              "outlinewidth": 0,
              "ticks": ""
             }
            },
            "type": "scattermapbox"
           }
          ],
          "scatterpolar": [
           {
            "marker": {
             "colorbar": {
              "outlinewidth": 0,
              "ticks": ""
             }
            },
            "type": "scatterpolar"
           }
          ],
          "scatterpolargl": [
           {
            "marker": {
             "colorbar": {
              "outlinewidth": 0,
              "ticks": ""
             }
            },
            "type": "scatterpolargl"
           }
          ],
          "scatterternary": [
           {
            "marker": {
             "colorbar": {
              "outlinewidth": 0,
              "ticks": ""
             }
            },
            "type": "scatterternary"
           }
          ],
          "surface": [
           {
            "colorbar": {
             "outlinewidth": 0,
             "ticks": ""
            },
            "colorscale": [
             [
              0,
              "#0d0887"
             ],
             [
              0.1111111111111111,
              "#46039f"
             ],
             [
              0.2222222222222222,
              "#7201a8"
             ],
             [
              0.3333333333333333,
              "#9c179e"
             ],
             [
              0.4444444444444444,
              "#bd3786"
             ],
             [
              0.5555555555555556,
              "#d8576b"
             ],
             [
              0.6666666666666666,
              "#ed7953"
             ],
             [
              0.7777777777777778,
              "#fb9f3a"
             ],
             [
              0.8888888888888888,
              "#fdca26"
             ],
             [
              1,
              "#f0f921"
             ]
            ],
            "type": "surface"
           }
          ],
          "table": [
           {
            "cells": {
             "fill": {
              "color": "#EBF0F8"
             },
             "line": {
              "color": "white"
             }
            },
            "header": {
             "fill": {
              "color": "#C8D4E3"
             },
             "line": {
              "color": "white"
             }
            },
            "type": "table"
           }
          ]
         },
         "layout": {
          "annotationdefaults": {
           "arrowcolor": "#2a3f5f",
           "arrowhead": 0,
           "arrowwidth": 1
          },
          "autotypenumbers": "strict",
          "coloraxis": {
           "colorbar": {
            "outlinewidth": 0,
            "ticks": ""
           }
          },
          "colorscale": {
           "diverging": [
            [
             0,
             "#8e0152"
            ],
            [
             0.1,
             "#c51b7d"
            ],
            [
             0.2,
             "#de77ae"
            ],
            [
             0.3,
             "#f1b6da"
            ],
            [
             0.4,
             "#fde0ef"
            ],
            [
             0.5,
             "#f7f7f7"
            ],
            [
             0.6,
             "#e6f5d0"
            ],
            [
             0.7,
             "#b8e186"
            ],
            [
             0.8,
             "#7fbc41"
            ],
            [
             0.9,
             "#4d9221"
            ],
            [
             1,
             "#276419"
            ]
           ],
           "sequential": [
            [
             0,
             "#0d0887"
            ],
            [
             0.1111111111111111,
             "#46039f"
            ],
            [
             0.2222222222222222,
             "#7201a8"
            ],
            [
             0.3333333333333333,
             "#9c179e"
            ],
            [
             0.4444444444444444,
             "#bd3786"
            ],
            [
             0.5555555555555556,
             "#d8576b"
            ],
            [
             0.6666666666666666,
             "#ed7953"
            ],
            [
             0.7777777777777778,
             "#fb9f3a"
            ],
            [
             0.8888888888888888,
             "#fdca26"
            ],
            [
             1,
             "#f0f921"
            ]
           ],
           "sequentialminus": [
            [
             0,
             "#0d0887"
            ],
            [
             0.1111111111111111,
             "#46039f"
            ],
            [
             0.2222222222222222,
             "#7201a8"
            ],
            [
             0.3333333333333333,
             "#9c179e"
            ],
            [
             0.4444444444444444,
             "#bd3786"
            ],
            [
             0.5555555555555556,
             "#d8576b"
            ],
            [
             0.6666666666666666,
             "#ed7953"
            ],
            [
             0.7777777777777778,
             "#fb9f3a"
            ],
            [
             0.8888888888888888,
             "#fdca26"
            ],
            [
             1,
             "#f0f921"
            ]
           ]
          },
          "colorway": [
           "#636efa",
           "#EF553B",
           "#00cc96",
           "#ab63fa",
           "#FFA15A",
           "#19d3f3",
           "#FF6692",
           "#B6E880",
           "#FF97FF",
           "#FECB52"
          ],
          "font": {
           "color": "#2a3f5f"
          },
          "geo": {
           "bgcolor": "white",
           "lakecolor": "white",
           "landcolor": "#E5ECF6",
           "showlakes": true,
           "showland": true,
           "subunitcolor": "white"
          },
          "hoverlabel": {
           "align": "left"
          },
          "hovermode": "closest",
          "mapbox": {
           "style": "light"
          },
          "paper_bgcolor": "white",
          "plot_bgcolor": "#E5ECF6",
          "polar": {
           "angularaxis": {
            "gridcolor": "white",
            "linecolor": "white",
            "ticks": ""
           },
           "bgcolor": "#E5ECF6",
           "radialaxis": {
            "gridcolor": "white",
            "linecolor": "white",
            "ticks": ""
           }
          },
          "scene": {
           "xaxis": {
            "backgroundcolor": "#E5ECF6",
            "gridcolor": "white",
            "gridwidth": 2,
            "linecolor": "white",
            "showbackground": true,
            "ticks": "",
            "zerolinecolor": "white"
           },
           "yaxis": {
            "backgroundcolor": "#E5ECF6",
            "gridcolor": "white",
            "gridwidth": 2,
            "linecolor": "white",
            "showbackground": true,
            "ticks": "",
            "zerolinecolor": "white"
           },
           "zaxis": {
            "backgroundcolor": "#E5ECF6",
            "gridcolor": "white",
            "gridwidth": 2,
            "linecolor": "white",
            "showbackground": true,
            "ticks": "",
            "zerolinecolor": "white"
           }
          },
          "shapedefaults": {
           "line": {
            "color": "#2a3f5f"
           }
          },
          "ternary": {
           "aaxis": {
            "gridcolor": "white",
            "linecolor": "white",
            "ticks": ""
           },
           "baxis": {
            "gridcolor": "white",
            "linecolor": "white",
            "ticks": ""
           },
           "bgcolor": "#E5ECF6",
           "caxis": {
            "gridcolor": "white",
            "linecolor": "white",
            "ticks": ""
           }
          },
          "title": {
           "x": 0.05
          },
          "xaxis": {
           "automargin": true,
           "gridcolor": "white",
           "linecolor": "white",
           "ticks": "",
           "title": {
            "standoff": 15
           },
           "zerolinecolor": "white",
           "zerolinewidth": 2
          },
          "yaxis": {
           "automargin": true,
           "gridcolor": "white",
           "linecolor": "white",
           "ticks": "",
           "title": {
            "standoff": 15
           },
           "zerolinecolor": "white",
           "zerolinewidth": 2
          }
         }
        },
        "width": 900,
        "xaxis": {
         "gridcolor": "#1f292f",
         "nticks": 5,
         "rangeslider": {
          "visible": false
         }
        },
        "yaxis": {
         "gridcolor": "#1f292f"
        }
       }
      }
     },
     "metadata": {},
     "output_type": "display_data"
    }
   ],
   "source": [
    "fig = go.Figure()\n",
    "fig.add_trace(go.Candlestick(\n",
    "    x=df_plot.sTime,\n",
    "    open=df_plot.mid_o,\n",
    "    high=df_plot.mid_h,\n",
    "    low=df_plot.mid_l,\n",
    "    close=df_plot.mid_c,\n",
    "    line=dict(width=1), opacity=1,\n",
    "    increasing_fillcolor='#24A06B',\n",
    "    decreasing_fillcolor=\"#CC2E3C\",\n",
    "    increasing_line_color='#2EC886',  \n",
    "    decreasing_line_color='#FF3A4C'\n",
    "))\n",
    "\n",
    "fig.update_yaxes(\n",
    "    gridcolor=\"#1f292f\"\n",
    ")\n",
    "fig.update_xaxes(\n",
    "    gridcolor=\"#1f292f\",\n",
    "    rangeslider=dict(visible=False),\n",
    "    nticks=5\n",
    ")\n",
    "\n",
    "fig.update_layout(\n",
    "    width=900,\n",
    "    height=400,\n",
    "    margin=dict(l=10,r=10,b=10,t=10),\n",
    "    paper_bgcolor=\"#2c303c\",\n",
    "    plot_bgcolor=\"#2c303c\",\n",
    "    font=dict(size=8, color=\"#e1e1e1\")\n",
    ")\n",
    "\n",
    "fig.show()"
   ]
  },
  {
   "cell_type": "code",
   "execution_count": null,
   "id": "e82b7f77",
   "metadata": {},
   "outputs": [],
   "source": []
  },
  {
   "cell_type": "code",
   "execution_count": null,
   "id": "fdb6f2c5",
   "metadata": {},
   "outputs": [],
   "source": []
  },
  {
   "cell_type": "code",
   "execution_count": null,
   "id": "210c53e5",
   "metadata": {},
   "outputs": [],
   "source": []
  },
  {
   "cell_type": "code",
   "execution_count": null,
   "id": "1f25826c",
   "metadata": {},
   "outputs": [],
   "source": []
  },
  {
   "cell_type": "code",
   "execution_count": null,
   "id": "43f3bf12",
   "metadata": {},
   "outputs": [],
   "source": []
  },
  {
   "cell_type": "code",
   "execution_count": null,
   "id": "29ec4abb",
   "metadata": {},
   "outputs": [],
   "source": []
  }
 ],
 "metadata": {
  "kernelspec": {
   "display_name": ".venv",
   "language": "python",
   "name": "python3"
  },
  "language_info": {
   "codemirror_mode": {
    "name": "ipython",
    "version": 3
   },
   "file_extension": ".py",
   "mimetype": "text/x-python",
   "name": "python",
   "nbconvert_exporter": "python",
   "pygments_lexer": "ipython3",
   "version": "3.13.1"
  }
 },
 "nbformat": 4,
 "nbformat_minor": 5
}
