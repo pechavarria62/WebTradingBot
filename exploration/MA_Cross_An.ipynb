{
 "cells": [
  {
   "cell_type": "code",
   "execution_count": 1,
   "id": "ed1e3197",
   "metadata": {},
   "outputs": [],
   "source": [
    "import pandas as pd\n",
    "from plotting import CandlePlot\n",
    "pd.set_option(\"display.max_columns\", None)"
   ]
  },
  {
   "cell_type": "code",
   "execution_count": 2,
   "id": "c69a1c64",
   "metadata": {},
   "outputs": [],
   "source": [
    "df_ma_res = pd.read_pickle(\"../data/ma_res.pkl\")\n",
    "df_ma_trades = pd.read_pickle(\"../data/ma_trades.pkl\")"
   ]
  },
  {
   "cell_type": "code",
   "execution_count": 3,
   "id": "002dc629",
   "metadata": {},
   "outputs": [
    {
     "data": {
      "text/plain": [
       "array(['H1', 'H4'], dtype=object)"
      ]
     },
     "execution_count": 3,
     "metadata": {},
     "output_type": "execute_result"
    }
   ],
   "source": [
    "df_ma_res.granularity.unique()"
   ]
  },
  {
   "cell_type": "code",
   "execution_count": 4,
   "id": "3bc85f28",
   "metadata": {},
   "outputs": [],
   "source": [
    "df_ma_res_h1 = df_ma_res[df_ma_res.granularity == \"H1\"].copy()\n",
    "df_ma_trades_h1 = df_ma_trades[df_ma_trades.granularity == \"H1\"].copy()"
   ]
  },
  {
   "cell_type": "code",
   "execution_count": 5,
   "id": "a4cae280",
   "metadata": {},
   "outputs": [
    {
     "data": {
      "text/plain": [
       "(8553, 29)"
      ]
     },
     "execution_count": 5,
     "metadata": {},
     "output_type": "execute_result"
    }
   ],
   "source": [
    "df_ma_trades_h1.shape"
   ]
  },
  {
   "cell_type": "code",
   "execution_count": 6,
   "id": "1f1357db",
   "metadata": {},
   "outputs": [
    {
     "data": {
      "text/plain": [
       "Index(['pair', 'num_trades', 'total_gain', 'mean_gain', 'min_gain', 'max_gain',\n",
       "       'ma_l', 'ma_s', 'cross', 'granularity'],\n",
       "      dtype='object')"
      ]
     },
     "execution_count": 6,
     "metadata": {},
     "output_type": "execute_result"
    }
   ],
   "source": [
    "df_ma_res_h1.columns"
   ]
  },
  {
   "cell_type": "code",
   "execution_count": 7,
   "id": "596ecfa0",
   "metadata": {},
   "outputs": [],
   "source": [
    "df_cross_summary = df_ma_res_h1[['pair', 'num_trades', 'total_gain','cross']].copy()"
   ]
  },
  {
   "cell_type": "code",
   "execution_count": 8,
   "id": "28376ea9",
   "metadata": {},
   "outputs": [],
   "source": [
    "df_cross_gr = df_cross_summary.groupby(by=\"cross\", as_index=False).sum(numeric_only=True)\n",
    "df_cross_gr.sort_values(by=\"total_gain\", ascending=False, inplace=True)"
   ]
  },
  {
   "cell_type": "code",
   "execution_count": 9,
   "id": "6885b252",
   "metadata": {},
   "outputs": [
    {
     "data": {
      "text/html": [
       "<div>\n",
       "<style scoped>\n",
       "    .dataframe tbody tr th:only-of-type {\n",
       "        vertical-align: middle;\n",
       "    }\n",
       "\n",
       "    .dataframe tbody tr th {\n",
       "        vertical-align: top;\n",
       "    }\n",
       "\n",
       "    .dataframe thead th {\n",
       "        text-align: right;\n",
       "    }\n",
       "</style>\n",
       "<table border=\"1\" class=\"dataframe\">\n",
       "  <thead>\n",
       "    <tr style=\"text-align: right;\">\n",
       "      <th></th>\n",
       "      <th>cross</th>\n",
       "      <th>num_trades</th>\n",
       "      <th>total_gain</th>\n",
       "    </tr>\n",
       "  </thead>\n",
       "  <tbody>\n",
       "    <tr>\n",
       "      <th>2</th>\n",
       "      <td>MA_10_MA_80</td>\n",
       "      <td>1107</td>\n",
       "      <td>2331</td>\n",
       "    </tr>\n",
       "    <tr>\n",
       "      <th>4</th>\n",
       "      <td>MA_20_MA_80</td>\n",
       "      <td>868</td>\n",
       "      <td>803</td>\n",
       "    </tr>\n",
       "    <tr>\n",
       "      <th>1</th>\n",
       "      <td>MA_10_MA_40</td>\n",
       "      <td>1762</td>\n",
       "      <td>372</td>\n",
       "    </tr>\n",
       "    <tr>\n",
       "      <th>0</th>\n",
       "      <td>MA_10_MA_20</td>\n",
       "      <td>3251</td>\n",
       "      <td>-1545</td>\n",
       "    </tr>\n",
       "    <tr>\n",
       "      <th>3</th>\n",
       "      <td>MA_20_MA_40</td>\n",
       "      <td>1565</td>\n",
       "      <td>-2954</td>\n",
       "    </tr>\n",
       "  </tbody>\n",
       "</table>\n",
       "</div>"
      ],
      "text/plain": [
       "         cross  num_trades  total_gain\n",
       "2  MA_10_MA_80        1107        2331\n",
       "4  MA_20_MA_80         868         803\n",
       "1  MA_10_MA_40        1762         372\n",
       "0  MA_10_MA_20        3251       -1545\n",
       "3  MA_20_MA_40        1565       -2954"
      ]
     },
     "execution_count": 9,
     "metadata": {},
     "output_type": "execute_result"
    }
   ],
   "source": [
    "df_cross_gr.head()"
   ]
  },
  {
   "cell_type": "code",
   "execution_count": 10,
   "id": "2aede132",
   "metadata": {},
   "outputs": [],
   "source": [
    "total_pairs = len(df_ma_res_h1.pair.unique())"
   ]
  },
  {
   "cell_type": "code",
   "execution_count": 11,
   "id": "1b460708",
   "metadata": {},
   "outputs": [
    {
     "data": {
      "text/plain": [
       "15"
      ]
     },
     "execution_count": 11,
     "metadata": {},
     "output_type": "execute_result"
    }
   ],
   "source": [
    "total_pairs"
   ]
  },
  {
   "cell_type": "code",
   "execution_count": 12,
   "id": "dfe06d16",
   "metadata": {},
   "outputs": [],
   "source": [
    "temp = df_ma_res_h1[df_ma_res_h1.cross == \"MA_10_MA_40\"]"
   ]
  },
  {
   "cell_type": "code",
   "execution_count": 13,
   "id": "f8d15622",
   "metadata": {},
   "outputs": [
    {
     "data": {
      "text/plain": [
       "7"
      ]
     },
     "execution_count": 13,
     "metadata": {},
     "output_type": "execute_result"
    }
   ],
   "source": [
    "temp[temp.total_gain > 0].shape[0]"
   ]
  },
  {
   "cell_type": "code",
   "execution_count": 14,
   "id": "e290be51",
   "metadata": {},
   "outputs": [
    {
     "name": "stdout",
     "output_type": "stream",
     "text": [
      "MA_10_MA_20 pg:7 perc gain:47%\n",
      "MA_10_MA_40 pg:7 perc gain:47%\n",
      "MA_20_MA_40 pg:5 perc gain:33%\n",
      "MA_10_MA_80 pg:9 perc gain:60%\n",
      "MA_20_MA_80 pg:7 perc gain:47%\n"
     ]
    }
   ],
   "source": [
    "for c in df_ma_res_h1.cross.unique():\n",
    "    temp = df_ma_res_h1[df_ma_res_h1.cross == c]\n",
    "    pg = temp[temp.total_gain > 0].shape[0]\n",
    "    print(f\"{c} pg:{pg} perc gain:{(pg / total_pairs) * 100:.0f}%\")"
   ]
  },
  {
   "cell_type": "code",
   "execution_count": 15,
   "id": "5ac6b45f",
   "metadata": {},
   "outputs": [],
   "source": [
    "cross = \"MA_10_MA_20\"\n",
    "df_MA_10_MA_20 = df_ma_res_h1[df_ma_res_h1.cross == cross].copy()\n",
    "df_MA_10_MA_20.sort_values(by=\"total_gain\", ascending=False, inplace=True)"
   ]
  },
  {
   "cell_type": "code",
   "execution_count": 16,
   "id": "c2d5205b",
   "metadata": {},
   "outputs": [
    {
     "data": {
      "text/html": [
       "<div>\n",
       "<style scoped>\n",
       "    .dataframe tbody tr th:only-of-type {\n",
       "        vertical-align: middle;\n",
       "    }\n",
       "\n",
       "    .dataframe tbody tr th {\n",
       "        vertical-align: top;\n",
       "    }\n",
       "\n",
       "    .dataframe thead th {\n",
       "        text-align: right;\n",
       "    }\n",
       "</style>\n",
       "<table border=\"1\" class=\"dataframe\">\n",
       "  <thead>\n",
       "    <tr style=\"text-align: right;\">\n",
       "      <th></th>\n",
       "      <th>pair</th>\n",
       "      <th>num_trades</th>\n",
       "      <th>total_gain</th>\n",
       "      <th>mean_gain</th>\n",
       "      <th>min_gain</th>\n",
       "      <th>max_gain</th>\n",
       "      <th>ma_l</th>\n",
       "      <th>ma_s</th>\n",
       "      <th>cross</th>\n",
       "      <th>granularity</th>\n",
       "    </tr>\n",
       "  </thead>\n",
       "  <tbody>\n",
       "    <tr>\n",
       "      <th>25</th>\n",
       "      <td>USD_JPY</td>\n",
       "      <td>200</td>\n",
       "      <td>804</td>\n",
       "      <td>4</td>\n",
       "      <td>-210</td>\n",
       "      <td>523</td>\n",
       "      <td>MA_20</td>\n",
       "      <td>MA_10</td>\n",
       "      <td>MA_10_MA_20</td>\n",
       "      <td>H1</td>\n",
       "    </tr>\n",
       "    <tr>\n",
       "      <th>15</th>\n",
       "      <td>EUR_AUD</td>\n",
       "      <td>216</td>\n",
       "      <td>605</td>\n",
       "      <td>2</td>\n",
       "      <td>-111</td>\n",
       "      <td>212</td>\n",
       "      <td>MA_20</td>\n",
       "      <td>MA_10</td>\n",
       "      <td>MA_10_MA_20</td>\n",
       "      <td>H1</td>\n",
       "    </tr>\n",
       "    <tr>\n",
       "      <th>20</th>\n",
       "      <td>EUR_CAD</td>\n",
       "      <td>223</td>\n",
       "      <td>563</td>\n",
       "      <td>2</td>\n",
       "      <td>-66</td>\n",
       "      <td>240</td>\n",
       "      <td>MA_20</td>\n",
       "      <td>MA_10</td>\n",
       "      <td>MA_10_MA_20</td>\n",
       "      <td>H1</td>\n",
       "    </tr>\n",
       "    <tr>\n",
       "      <th>70</th>\n",
       "      <td>CAD_JPY</td>\n",
       "      <td>206</td>\n",
       "      <td>469</td>\n",
       "      <td>2</td>\n",
       "      <td>-143</td>\n",
       "      <td>334</td>\n",
       "      <td>MA_20</td>\n",
       "      <td>MA_10</td>\n",
       "      <td>MA_10_MA_20</td>\n",
       "      <td>H1</td>\n",
       "    </tr>\n",
       "    <tr>\n",
       "      <th>50</th>\n",
       "      <td>GBP_CAD</td>\n",
       "      <td>217</td>\n",
       "      <td>245</td>\n",
       "      <td>1</td>\n",
       "      <td>-159</td>\n",
       "      <td>279</td>\n",
       "      <td>MA_20</td>\n",
       "      <td>MA_10</td>\n",
       "      <td>MA_10_MA_20</td>\n",
       "      <td>H1</td>\n",
       "    </tr>\n",
       "    <tr>\n",
       "      <th>60</th>\n",
       "      <td>AUD_JPY</td>\n",
       "      <td>206</td>\n",
       "      <td>153</td>\n",
       "      <td>0</td>\n",
       "      <td>-174</td>\n",
       "      <td>450</td>\n",
       "      <td>MA_20</td>\n",
       "      <td>MA_10</td>\n",
       "      <td>MA_10_MA_20</td>\n",
       "      <td>H1</td>\n",
       "    </tr>\n",
       "    <tr>\n",
       "      <th>30</th>\n",
       "      <td>USD_CAD</td>\n",
       "      <td>227</td>\n",
       "      <td>106</td>\n",
       "      <td>0</td>\n",
       "      <td>-70</td>\n",
       "      <td>258</td>\n",
       "      <td>MA_20</td>\n",
       "      <td>MA_10</td>\n",
       "      <td>MA_10_MA_20</td>\n",
       "      <td>H1</td>\n",
       "    </tr>\n",
       "    <tr>\n",
       "      <th>5</th>\n",
       "      <td>EUR_GBP</td>\n",
       "      <td>228</td>\n",
       "      <td>-44</td>\n",
       "      <td>0</td>\n",
       "      <td>-60</td>\n",
       "      <td>119</td>\n",
       "      <td>MA_20</td>\n",
       "      <td>MA_10</td>\n",
       "      <td>MA_10_MA_20</td>\n",
       "      <td>H1</td>\n",
       "    </tr>\n",
       "    <tr>\n",
       "      <th>45</th>\n",
       "      <td>GBP_AUD</td>\n",
       "      <td>220</td>\n",
       "      <td>-63</td>\n",
       "      <td>0</td>\n",
       "      <td>-195</td>\n",
       "      <td>332</td>\n",
       "      <td>MA_20</td>\n",
       "      <td>MA_10</td>\n",
       "      <td>MA_10_MA_20</td>\n",
       "      <td>H1</td>\n",
       "    </tr>\n",
       "    <tr>\n",
       "      <th>55</th>\n",
       "      <td>AUD_USD</td>\n",
       "      <td>222</td>\n",
       "      <td>-82</td>\n",
       "      <td>0</td>\n",
       "      <td>-61</td>\n",
       "      <td>187</td>\n",
       "      <td>MA_20</td>\n",
       "      <td>MA_10</td>\n",
       "      <td>MA_10_MA_20</td>\n",
       "      <td>H1</td>\n",
       "    </tr>\n",
       "    <tr>\n",
       "      <th>0</th>\n",
       "      <td>EUR_USD</td>\n",
       "      <td>219</td>\n",
       "      <td>-171</td>\n",
       "      <td>0</td>\n",
       "      <td>-131</td>\n",
       "      <td>158</td>\n",
       "      <td>MA_20</td>\n",
       "      <td>MA_10</td>\n",
       "      <td>MA_10_MA_20</td>\n",
       "      <td>H1</td>\n",
       "    </tr>\n",
       "    <tr>\n",
       "      <th>65</th>\n",
       "      <td>AUD_CAD</td>\n",
       "      <td>222</td>\n",
       "      <td>-237</td>\n",
       "      <td>-1</td>\n",
       "      <td>-58</td>\n",
       "      <td>164</td>\n",
       "      <td>MA_20</td>\n",
       "      <td>MA_10</td>\n",
       "      <td>MA_10_MA_20</td>\n",
       "      <td>H1</td>\n",
       "    </tr>\n",
       "    <tr>\n",
       "      <th>35</th>\n",
       "      <td>GBP_USD</td>\n",
       "      <td>211</td>\n",
       "      <td>-243</td>\n",
       "      <td>-1</td>\n",
       "      <td>-114</td>\n",
       "      <td>224</td>\n",
       "      <td>MA_20</td>\n",
       "      <td>MA_10</td>\n",
       "      <td>MA_10_MA_20</td>\n",
       "      <td>H1</td>\n",
       "    </tr>\n",
       "    <tr>\n",
       "      <th>40</th>\n",
       "      <td>GBP_JPY</td>\n",
       "      <td>212</td>\n",
       "      <td>-1543</td>\n",
       "      <td>-7</td>\n",
       "      <td>-323</td>\n",
       "      <td>1250</td>\n",
       "      <td>MA_20</td>\n",
       "      <td>MA_10</td>\n",
       "      <td>MA_10_MA_20</td>\n",
       "      <td>H1</td>\n",
       "    </tr>\n",
       "    <tr>\n",
       "      <th>10</th>\n",
       "      <td>EUR_JPY</td>\n",
       "      <td>222</td>\n",
       "      <td>-2107</td>\n",
       "      <td>-9</td>\n",
       "      <td>-222</td>\n",
       "      <td>374</td>\n",
       "      <td>MA_20</td>\n",
       "      <td>MA_10</td>\n",
       "      <td>MA_10_MA_20</td>\n",
       "      <td>H1</td>\n",
       "    </tr>\n",
       "  </tbody>\n",
       "</table>\n",
       "</div>"
      ],
      "text/plain": [
       "       pair  num_trades  total_gain  mean_gain  min_gain  max_gain   ma_l  \\\n",
       "25  USD_JPY         200         804          4      -210       523  MA_20   \n",
       "15  EUR_AUD         216         605          2      -111       212  MA_20   \n",
       "20  EUR_CAD         223         563          2       -66       240  MA_20   \n",
       "70  CAD_JPY         206         469          2      -143       334  MA_20   \n",
       "50  GBP_CAD         217         245          1      -159       279  MA_20   \n",
       "60  AUD_JPY         206         153          0      -174       450  MA_20   \n",
       "30  USD_CAD         227         106          0       -70       258  MA_20   \n",
       "5   EUR_GBP         228         -44          0       -60       119  MA_20   \n",
       "45  GBP_AUD         220         -63          0      -195       332  MA_20   \n",
       "55  AUD_USD         222         -82          0       -61       187  MA_20   \n",
       "0   EUR_USD         219        -171          0      -131       158  MA_20   \n",
       "65  AUD_CAD         222        -237         -1       -58       164  MA_20   \n",
       "35  GBP_USD         211        -243         -1      -114       224  MA_20   \n",
       "40  GBP_JPY         212       -1543         -7      -323      1250  MA_20   \n",
       "10  EUR_JPY         222       -2107         -9      -222       374  MA_20   \n",
       "\n",
       "     ma_s        cross granularity  \n",
       "25  MA_10  MA_10_MA_20          H1  \n",
       "15  MA_10  MA_10_MA_20          H1  \n",
       "20  MA_10  MA_10_MA_20          H1  \n",
       "70  MA_10  MA_10_MA_20          H1  \n",
       "50  MA_10  MA_10_MA_20          H1  \n",
       "60  MA_10  MA_10_MA_20          H1  \n",
       "30  MA_10  MA_10_MA_20          H1  \n",
       "5   MA_10  MA_10_MA_20          H1  \n",
       "45  MA_10  MA_10_MA_20          H1  \n",
       "55  MA_10  MA_10_MA_20          H1  \n",
       "0   MA_10  MA_10_MA_20          H1  \n",
       "65  MA_10  MA_10_MA_20          H1  \n",
       "35  MA_10  MA_10_MA_20          H1  \n",
       "40  MA_10  MA_10_MA_20          H1  \n",
       "10  MA_10  MA_10_MA_20          H1  "
      ]
     },
     "execution_count": 16,
     "metadata": {},
     "output_type": "execute_result"
    }
   ],
   "source": [
    "df_MA_10_MA_20"
   ]
  },
  {
   "cell_type": "code",
   "execution_count": 17,
   "id": "5d5f1c99",
   "metadata": {},
   "outputs": [],
   "source": [
    "df_gains = df_ma_trades_h1[(df_ma_trades_h1.cross==cross)&\n",
    "                           (df_ma_trades_h1.pair==\"CAD_JPY\")].copy()"
   ]
  },
  {
   "cell_type": "code",
   "execution_count": 18,
   "id": "51bca4a1",
   "metadata": {},
   "outputs": [
    {
     "data": {
      "text/html": [
       "<div>\n",
       "<style scoped>\n",
       "    .dataframe tbody tr th:only-of-type {\n",
       "        vertical-align: middle;\n",
       "    }\n",
       "\n",
       "    .dataframe tbody tr th {\n",
       "        vertical-align: top;\n",
       "    }\n",
       "\n",
       "    .dataframe thead th {\n",
       "        text-align: right;\n",
       "    }\n",
       "</style>\n",
       "<table border=\"1\" class=\"dataframe\">\n",
       "  <thead>\n",
       "    <tr style=\"text-align: right;\">\n",
       "      <th></th>\n",
       "      <th>time</th>\n",
       "      <th>volume</th>\n",
       "      <th>mid_o</th>\n",
       "      <th>mid_h</th>\n",
       "      <th>mid_l</th>\n",
       "      <th>mid_c</th>\n",
       "      <th>bid_o</th>\n",
       "      <th>bid_h</th>\n",
       "      <th>bid_l</th>\n",
       "      <th>bid_c</th>\n",
       "      <th>ask_o</th>\n",
       "      <th>ask_h</th>\n",
       "      <th>ask_l</th>\n",
       "      <th>ask_c</th>\n",
       "      <th>MA_40</th>\n",
       "      <th>MA_10</th>\n",
       "      <th>MA_80</th>\n",
       "      <th>MA_20</th>\n",
       "      <th>DELTA</th>\n",
       "      <th>DELTA_PREV</th>\n",
       "      <th>TRADE</th>\n",
       "      <th>DIFF</th>\n",
       "      <th>GAIN</th>\n",
       "      <th>granularity</th>\n",
       "      <th>pair</th>\n",
       "      <th>GAIN_C</th>\n",
       "      <th>ma_l</th>\n",
       "      <th>ma_s</th>\n",
       "      <th>cross</th>\n",
       "    </tr>\n",
       "  </thead>\n",
       "  <tbody>\n",
       "    <tr>\n",
       "      <th>8000</th>\n",
       "      <td>2024-05-07 16:00:00+00:00</td>\n",
       "      <td>1994</td>\n",
       "      <td>112.734</td>\n",
       "      <td>112.744</td>\n",
       "      <td>112.640</td>\n",
       "      <td>112.674</td>\n",
       "      <td>112.724</td>\n",
       "      <td>112.735</td>\n",
       "      <td>112.630</td>\n",
       "      <td>112.664</td>\n",
       "      <td>112.743</td>\n",
       "      <td>112.754</td>\n",
       "      <td>112.649</td>\n",
       "      <td>112.683</td>\n",
       "      <td>112.676875</td>\n",
       "      <td>112.8364</td>\n",
       "      <td>112.395125</td>\n",
       "      <td>112.83670</td>\n",
       "      <td>-0.00030</td>\n",
       "      <td>0.01460</td>\n",
       "      <td>-1</td>\n",
       "      <td>0.190</td>\n",
       "      <td>-19.0</td>\n",
       "      <td>H1</td>\n",
       "      <td>CAD_JPY</td>\n",
       "      <td>-19.0</td>\n",
       "      <td>MA_20</td>\n",
       "      <td>MA_10</td>\n",
       "      <td>MA_10_MA_20</td>\n",
       "    </tr>\n",
       "    <tr>\n",
       "      <th>8001</th>\n",
       "      <td>2024-05-08 06:00:00+00:00</td>\n",
       "      <td>2640</td>\n",
       "      <td>112.816</td>\n",
       "      <td>112.916</td>\n",
       "      <td>112.784</td>\n",
       "      <td>112.864</td>\n",
       "      <td>112.805</td>\n",
       "      <td>112.906</td>\n",
       "      <td>112.773</td>\n",
       "      <td>112.853</td>\n",
       "      <td>112.826</td>\n",
       "      <td>112.926</td>\n",
       "      <td>112.794</td>\n",
       "      <td>112.874</td>\n",
       "      <td>112.778250</td>\n",
       "      <td>112.7811</td>\n",
       "      <td>112.448250</td>\n",
       "      <td>112.77415</td>\n",
       "      <td>0.00695</td>\n",
       "      <td>-0.01200</td>\n",
       "      <td>1</td>\n",
       "      <td>0.976</td>\n",
       "      <td>97.6</td>\n",
       "      <td>H1</td>\n",
       "      <td>CAD_JPY</td>\n",
       "      <td>78.6</td>\n",
       "      <td>MA_20</td>\n",
       "      <td>MA_10</td>\n",
       "      <td>MA_10_MA_20</td>\n",
       "    </tr>\n",
       "    <tr>\n",
       "      <th>8002</th>\n",
       "      <td>2024-05-13 02:00:00+00:00</td>\n",
       "      <td>1601</td>\n",
       "      <td>113.848</td>\n",
       "      <td>113.906</td>\n",
       "      <td>113.810</td>\n",
       "      <td>113.840</td>\n",
       "      <td>113.837</td>\n",
       "      <td>113.896</td>\n",
       "      <td>113.800</td>\n",
       "      <td>113.831</td>\n",
       "      <td>113.858</td>\n",
       "      <td>113.917</td>\n",
       "      <td>113.820</td>\n",
       "      <td>113.850</td>\n",
       "      <td>113.811800</td>\n",
       "      <td>113.9265</td>\n",
       "      <td>113.474625</td>\n",
       "      <td>113.93685</td>\n",
       "      <td>-0.01035</td>\n",
       "      <td>0.00765</td>\n",
       "      <td>-1</td>\n",
       "      <td>0.079</td>\n",
       "      <td>-7.9</td>\n",
       "      <td>H1</td>\n",
       "      <td>CAD_JPY</td>\n",
       "      <td>70.7</td>\n",
       "      <td>MA_20</td>\n",
       "      <td>MA_10</td>\n",
       "      <td>MA_10_MA_20</td>\n",
       "    </tr>\n",
       "  </tbody>\n",
       "</table>\n",
       "</div>"
      ],
      "text/plain": [
       "                          time  volume    mid_o    mid_h    mid_l    mid_c  \\\n",
       "8000 2024-05-07 16:00:00+00:00    1994  112.734  112.744  112.640  112.674   \n",
       "8001 2024-05-08 06:00:00+00:00    2640  112.816  112.916  112.784  112.864   \n",
       "8002 2024-05-13 02:00:00+00:00    1601  113.848  113.906  113.810  113.840   \n",
       "\n",
       "        bid_o    bid_h    bid_l    bid_c    ask_o    ask_h    ask_l    ask_c  \\\n",
       "8000  112.724  112.735  112.630  112.664  112.743  112.754  112.649  112.683   \n",
       "8001  112.805  112.906  112.773  112.853  112.826  112.926  112.794  112.874   \n",
       "8002  113.837  113.896  113.800  113.831  113.858  113.917  113.820  113.850   \n",
       "\n",
       "           MA_40     MA_10       MA_80      MA_20    DELTA  DELTA_PREV  TRADE  \\\n",
       "8000  112.676875  112.8364  112.395125  112.83670 -0.00030     0.01460     -1   \n",
       "8001  112.778250  112.7811  112.448250  112.77415  0.00695    -0.01200      1   \n",
       "8002  113.811800  113.9265  113.474625  113.93685 -0.01035     0.00765     -1   \n",
       "\n",
       "       DIFF  GAIN granularity     pair  GAIN_C   ma_l   ma_s        cross  \n",
       "8000  0.190 -19.0          H1  CAD_JPY   -19.0  MA_20  MA_10  MA_10_MA_20  \n",
       "8001  0.976  97.6          H1  CAD_JPY    78.6  MA_20  MA_10  MA_10_MA_20  \n",
       "8002  0.079  -7.9          H1  CAD_JPY    70.7  MA_20  MA_10  MA_10_MA_20  "
      ]
     },
     "execution_count": 18,
     "metadata": {},
     "output_type": "execute_result"
    }
   ],
   "source": [
    "df_gains.head(3)"
   ]
  },
  {
   "cell_type": "code",
   "execution_count": 19,
   "id": "ab9653d6",
   "metadata": {},
   "outputs": [
    {
     "data": {
      "application/vnd.plotly.v1+json": {
       "config": {
        "plotlyServerURL": "https://plot.ly"
       },
       "data": [
        {
         "line": {
          "shape": "spline",
          "width": 2
         },
         "name": "GAIN_C",
         "type": "scatter",
         "x": [
          "s24-05-07 16:00",
          "s24-05-08 06:00",
          "s24-05-13 02:00",
          "s24-05-13 12:00",
          "s24-05-15 06:00",
          "s24-05-16 14:00",
          "s24-05-20 12:00",
          "s24-05-20 13:00",
          "s24-05-21 09:00",
          "s24-05-22 02:00",
          "s24-05-22 14:00",
          "s24-05-23 04:00",
          "s24-05-23 19:00",
          "s24-05-24 10:00",
          "s24-05-27 06:00",
          "s24-05-27 12:00",
          "s24-05-28 17:00",
          "s24-05-28 22:00",
          "s24-05-29 08:00",
          "s24-05-30 19:00",
          "s24-06-03 09:00",
          "s24-06-05 02:00",
          "s24-06-05 22:00",
          "s24-06-06 10:00",
          "s24-06-06 20:00",
          "s24-06-07 16:00",
          "s24-06-10 14:00",
          "s24-06-10 20:00",
          "s24-06-11 13:00",
          "s24-06-11 22:00",
          "s24-06-12 15:00",
          "s24-06-13 02:00",
          "s24-06-13 17:00",
          "s24-06-14 02:00",
          "s24-06-14 14:00",
          "s24-06-16 23:00",
          "s24-06-18 10:00",
          "s24-06-18 11:00",
          "s24-06-19 08:00",
          "s24-06-19 13:00",
          "s24-06-21 12:00",
          "s24-06-21 17:00",
          "s24-06-25 07:00",
          "s24-06-25 17:00",
          "s24-06-27 05:00",
          "s24-06-27 14:00",
          "s24-06-28 05:00",
          "s24-06-28 15:00",
          "s24-07-01 16:00",
          "s24-07-02 08:00",
          "s24-07-04 05:00",
          "s24-07-04 21:00",
          "s24-07-05 04:00",
          "s24-07-08 11:00",
          "s24-07-08 22:00",
          "s24-07-09 03:00",
          "s24-07-11 06:00",
          "s24-07-12 06:00",
          "s24-07-12 14:00",
          "s24-07-16 03:00",
          "s24-07-16 18:00",
          "s24-07-17 00:00",
          "s24-07-17 05:00",
          "s24-07-18 09:00",
          "s24-07-19 14:00",
          "s24-07-22 02:00",
          "s24-07-22 05:00",
          "s24-07-22 23:00",
          "s24-07-23 02:00",
          "s24-07-25 17:00",
          "s24-07-26 07:00",
          "s24-07-26 09:00",
          "s24-07-26 19:00",
          "s24-07-29 16:00",
          "s24-07-30 18:00",
          "s24-08-01 13:00",
          "s24-08-01 20:00",
          "s24-08-05 20:00",
          "s24-08-06 14:00",
          "s24-08-06 22:00",
          "s24-08-07 23:00",
          "s24-08-08 15:00",
          "s24-08-09 09:00",
          "s24-08-12 03:00",
          "s24-08-12 22:00",
          "s24-08-13 07:00",
          "s24-08-13 17:00",
          "s24-08-14 06:00",
          "s24-08-16 07:00",
          "s24-08-19 19:00",
          "s24-08-20 14:00",
          "s24-08-21 07:00",
          "s24-08-21 19:00",
          "s24-08-22 07:00",
          "s24-08-23 02:00",
          "s24-08-23 13:00",
          "s24-08-23 20:00",
          "s24-08-26 13:00",
          "s24-08-27 17:00",
          "s24-08-28 05:00",
          "s24-08-28 23:00",
          "s24-08-29 07:00",
          "s24-08-30 00:00",
          "s24-08-30 11:00",
          "s24-09-03 02:00",
          "s24-09-05 23:00",
          "s24-09-06 00:00",
          "s24-09-09 07:00",
          "s24-09-09 20:00",
          "s24-09-10 03:00",
          "s24-09-10 13:00",
          "s24-09-11 16:00",
          "s24-09-12 14:00",
          "s24-09-16 18:00",
          "s24-09-17 08:00",
          "s24-09-17 13:00",
          "s24-09-18 07:00",
          "s24-09-18 15:00",
          "s24-09-19 23:00",
          "s24-09-20 10:00",
          "s24-09-23 11:00",
          "s24-09-23 19:00",
          "s24-09-24 23:00",
          "s24-09-25 05:00",
          "s24-09-26 13:00",
          "s24-09-26 14:00",
          "s24-09-26 15:00",
          "s24-09-26 22:00",
          "s24-09-27 08:00",
          "s24-09-30 13:00",
          "s24-10-01 16:00",
          "s24-10-02 00:00",
          "s24-10-03 12:00",
          "s24-10-04 14:00",
          "s24-10-07 07:00",
          "s24-10-08 19:00",
          "s24-10-10 03:00",
          "s24-10-11 10:00",
          "s24-10-11 11:00",
          "s24-10-11 12:00",
          "s24-10-14 07:00",
          "s24-10-14 10:00",
          "s24-10-15 02:00",
          "s24-10-15 22:00",
          "s24-10-17 07:00",
          "s24-10-17 16:00",
          "s24-10-18 05:00",
          "s24-10-21 11:00",
          "s24-10-24 00:00",
          "s24-10-25 08:00",
          "s24-10-25 19:00",
          "s24-10-27 21:00",
          "s24-10-28 14:00",
          "s24-10-28 22:00",
          "s24-10-29 06:00",
          "s24-10-29 11:00",
          "s24-10-29 22:00",
          "s24-10-30 20:00",
          "s24-10-31 06:00",
          "s24-11-01 09:00",
          "s24-11-04 01:00",
          "s24-11-04 18:00",
          "s24-11-05 19:00",
          "s24-11-06 00:00",
          "s24-11-07 13:00",
          "s24-11-11 01:00",
          "s24-11-12 03:00",
          "s24-11-12 14:00",
          "s24-11-13 18:00",
          "s24-11-13 23:00",
          "s24-11-14 18:00",
          "s24-11-15 05:00",
          "s24-11-15 08:00",
          "s24-11-18 08:00",
          "s24-11-19 05:00",
          "s24-11-19 19:00",
          "s24-11-20 20:00",
          "s24-11-22 14:00",
          "s24-11-22 17:00",
          "s24-11-22 18:00",
          "s24-11-25 05:00",
          "s24-11-28 02:00",
          "s24-11-28 20:00",
          "s24-12-02 05:00",
          "s24-12-02 14:00",
          "s24-12-03 06:00",
          "s24-12-03 15:00",
          "s24-12-04 04:00",
          "s24-12-04 23:00",
          "s24-12-05 15:00",
          "s24-12-06 02:00",
          "s24-12-06 11:00",
          "s24-12-06 14:00",
          "s24-12-09 09:00",
          "s24-12-10 03:00",
          "s24-12-10 12:00",
          "s24-12-11 03:00",
          "s24-12-11 12:00",
          "s24-12-12 04:00",
          "s24-12-12 10:00",
          "s24-12-12 15:00",
          "s24-12-13 07:00",
          "s24-12-17 04:00",
          "s24-12-18 14:00",
          "s24-12-19 00:00",
          "s24-12-19 06:00"
         ],
         "xaxis": "x",
         "y": [
          -18.999999999999773,
          78.60000000000014,
          70.70000000000078,
          136.40000000000043,
          188.7999999999991,
          238.29999999999814,
          225.1999999999981,
          211.99999999999903,
          201.9999999999996,
          185.99999999999994,
          179.50000000000017,
          146.20000000000033,
          123.30000000000041,
          157.99999999999983,
          150.19999999999953,
          172.79999999999944,
          161.19999999999948,
          140.69999999999965,
          177.59999999999962,
          209.19999999999987,
          329.9999999999997,
          338.7999999999991,
          322.1999999999994,
          306.7999999999998,
          293.39999999999975,
          285.2000000000004,
          260.00000000000085,
          245.80000000000126,
          222.80000000000229,
          183.6000000000027,
          140.40000000000248,
          128.60000000000298,
          90.70000000000391,
          77.60000000000389,
          47.20000000000368,
          76.20000000000431,
          82.90000000000504,
          93.80000000000592,
          76.60000000000622,
          156.0000000000059,
          111.30000000000564,
          151.00000000000477,
          138.50000000000477,
          153.60000000000582,
          135.20000000000607,
          127.00000000000529,
          95.00000000000455,
          98.00000000000466,
          87.4000000000052,
          167.00000000000585,
          171.80000000000604,
          134.7000000000051,
          130.80000000000496,
          112.8000000000057,
          95.2000000000055,
          155.60000000000542,
          346.200000000006,
          245.20000000000692,
          229.40000000000822,
          211.80000000000945,
          202.30000000000956,
          159.80000000000842,
          260.2000000000075,
          280.8000000000078,
          267.80000000000825,
          223.80000000000848,
          255.2000000000092,
          233.40000000001027,
          458.10000000001025,
          446.60000000000935,
          428.30000000000865,
          383.5000000000079,
          392.6000000000073,
          349.6000000000066,
          507.50000000000597,
          364.00000000000574,
          698.3000000000061,
          734.800000000007,
          713.0000000000081,
          863.7000000000086,
          797.7000000000089,
          813.4000000000085,
          816.9000000000082,
          809.0000000000089,
          747.0000000000098,
          683.8000000000106,
          658.2000000000106,
          781.4000000000106,
          884.2000000000112,
          813.4000000000113,
          764.0000000000114,
          697.0000000000111,
          662.8000000000113,
          670.8000000000111,
          606.6000000000101,
          522.2000000000094,
          499.60000000000946,
          504.80000000001013,
          494.60000000000974,
          487.80000000000996,
          448.30000000001036,
          423.2000000000099,
          366.0000000000096,
          427.2000000000091,
          655.8000000000093,
          640.20000000001,
          693.1000000000097,
          698.0000000000089,
          697.6000000000083,
          660.1000000000083,
          732.4000000000083,
          764.200000000008,
          893.0000000000077,
          889.2000000000066,
          829.6000000000063,
          862.4000000000066,
          872.4000000000074,
          974.8000000000075,
          877.0000000000066,
          845.6000000000058,
          822.2000000000049,
          850.300000000004,
          838.0000000000036,
          899.8000000000031,
          873.2000000000025,
          863.6000000000022,
          848.6000000000016,
          707.8000000000015,
          726.4000000000023,
          766.0000000000023,
          741.3000000000022,
          924.000000000002,
          830.4000000000013,
          802.4000000000012,
          848.2000000000011,
          871.3000000000005,
          931.5999999999999,
          921.6000000000005,
          898.0000000000015,
          894.6000000000023,
          895.0000000000027,
          896.8000000000028,
          902.500000000003,
          936.0000000000038,
          909.3000000000042,
          881.7000000000046,
          897.8000000000047,
          1090.3000000000045,
          1160.0000000000048,
          1143.400000000005,
          1089.800000000005,
          1089.4000000000044,
          1065.200000000004,
          1046.0000000000032,
          996.1000000000022,
          947.6000000000022,
          928.6000000000024,
          830.7000000000025,
          799.2000000000028,
          746.6000000000031,
          716.8000000000043,
          713.2000000000055,
          642.4000000000057,
          689.8000000000046,
          738.0000000000045,
          743.7000000000048,
          684.000000000004,
          733.3000000000035,
          752.0000000000032,
          749.900000000003,
          730.6000000000033,
          676.0000000000027,
          757.400000000002,
          781.200000000002,
          717.4000000000015,
          761.6000000000008,
          806.0000000000011,
          801.7000000000019,
          803.6000000000024,
          794.800000000003,
          1048.600000000004,
          1049.800000000004,
          1117.0000000000036,
          1034.6000000000038,
          1006.1000000000041,
          922.2000000000043,
          863.0000000000043,
          898.3000000000052,
          890.6000000000054,
          860.6000000000056,
          820.200000000006,
          695.6000000000065,
          651.6000000000067,
          667.8000000000059,
          600.8000000000056,
          581.6000000000063,
          519.6000000000072,
          516.6000000000071,
          505.4000000000062,
          472.6000000000059,
          474.6000000000055,
          543.4000000000058,
          602.000000000007,
          571.6000000000083,
          469.0000000000087,
          469.0000000000087
         ],
         "yaxis": "y"
        }
       ],
       "layout": {
        "font": {
         "color": "#e1e1e1",
         "size": 8
        },
        "height": 400,
        "margin": {
         "b": 10,
         "l": 10,
         "r": 10,
         "t": 10
        },
        "paper_bgcolor": "#2c303c",
        "plot_bgcolor": "#2c303c",
        "template": {
         "data": {
          "bar": [
           {
            "error_x": {
             "color": "#2a3f5f"
            },
            "error_y": {
             "color": "#2a3f5f"
            },
            "marker": {
             "line": {
              "color": "#E5ECF6",
              "width": 0.5
             },
             "pattern": {
              "fillmode": "overlay",
              "size": 10,
              "solidity": 0.2
             }
            },
            "type": "bar"
           }
          ],
          "barpolar": [
           {
            "marker": {
             "line": {
              "color": "#E5ECF6",
              "width": 0.5
             },
             "pattern": {
              "fillmode": "overlay",
              "size": 10,
              "solidity": 0.2
             }
            },
            "type": "barpolar"
           }
          ],
          "carpet": [
           {
            "aaxis": {
             "endlinecolor": "#2a3f5f",
             "gridcolor": "white",
             "linecolor": "white",
             "minorgridcolor": "white",
             "startlinecolor": "#2a3f5f"
            },
            "baxis": {
             "endlinecolor": "#2a3f5f",
             "gridcolor": "white",
             "linecolor": "white",
             "minorgridcolor": "white",
             "startlinecolor": "#2a3f5f"
            },
            "type": "carpet"
           }
          ],
          "choropleth": [
           {
            "colorbar": {
             "outlinewidth": 0,
             "ticks": ""
            },
            "type": "choropleth"
           }
          ],
          "contour": [
           {
            "colorbar": {
             "outlinewidth": 0,
             "ticks": ""
            },
            "colorscale": [
             [
              0,
              "#0d0887"
             ],
             [
              0.1111111111111111,
              "#46039f"
             ],
             [
              0.2222222222222222,
              "#7201a8"
             ],
             [
              0.3333333333333333,
              "#9c179e"
             ],
             [
              0.4444444444444444,
              "#bd3786"
             ],
             [
              0.5555555555555556,
              "#d8576b"
             ],
             [
              0.6666666666666666,
              "#ed7953"
             ],
             [
              0.7777777777777778,
              "#fb9f3a"
             ],
             [
              0.8888888888888888,
              "#fdca26"
             ],
             [
              1,
              "#f0f921"
             ]
            ],
            "type": "contour"
           }
          ],
          "contourcarpet": [
           {
            "colorbar": {
             "outlinewidth": 0,
             "ticks": ""
            },
            "type": "contourcarpet"
           }
          ],
          "heatmap": [
           {
            "colorbar": {
             "outlinewidth": 0,
             "ticks": ""
            },
            "colorscale": [
             [
              0,
              "#0d0887"
             ],
             [
              0.1111111111111111,
              "#46039f"
             ],
             [
              0.2222222222222222,
              "#7201a8"
             ],
             [
              0.3333333333333333,
              "#9c179e"
             ],
             [
              0.4444444444444444,
              "#bd3786"
             ],
             [
              0.5555555555555556,
              "#d8576b"
             ],
             [
              0.6666666666666666,
              "#ed7953"
             ],
             [
              0.7777777777777778,
              "#fb9f3a"
             ],
             [
              0.8888888888888888,
              "#fdca26"
             ],
             [
              1,
              "#f0f921"
             ]
            ],
            "type": "heatmap"
           }
          ],
          "heatmapgl": [
           {
            "colorbar": {
             "outlinewidth": 0,
             "ticks": ""
            },
            "colorscale": [
             [
              0,
              "#0d0887"
             ],
             [
              0.1111111111111111,
              "#46039f"
             ],
             [
              0.2222222222222222,
              "#7201a8"
             ],
             [
              0.3333333333333333,
              "#9c179e"
             ],
             [
              0.4444444444444444,
              "#bd3786"
             ],
             [
              0.5555555555555556,
              "#d8576b"
             ],
             [
              0.6666666666666666,
              "#ed7953"
             ],
             [
              0.7777777777777778,
              "#fb9f3a"
             ],
             [
              0.8888888888888888,
              "#fdca26"
             ],
             [
              1,
              "#f0f921"
             ]
            ],
            "type": "heatmapgl"
           }
          ],
          "histogram": [
           {
            "marker": {
             "pattern": {
              "fillmode": "overlay",
              "size": 10,
              "solidity": 0.2
             }
            },
            "type": "histogram"
           }
          ],
          "histogram2d": [
           {
            "colorbar": {
             "outlinewidth": 0,
             "ticks": ""
            },
            "colorscale": [
             [
              0,
              "#0d0887"
             ],
             [
              0.1111111111111111,
              "#46039f"
             ],
             [
              0.2222222222222222,
              "#7201a8"
             ],
             [
              0.3333333333333333,
              "#9c179e"
             ],
             [
              0.4444444444444444,
              "#bd3786"
             ],
             [
              0.5555555555555556,
              "#d8576b"
             ],
             [
              0.6666666666666666,
              "#ed7953"
             ],
             [
              0.7777777777777778,
              "#fb9f3a"
             ],
             [
              0.8888888888888888,
              "#fdca26"
             ],
             [
              1,
              "#f0f921"
             ]
            ],
            "type": "histogram2d"
           }
          ],
          "histogram2dcontour": [
           {
            "colorbar": {
             "outlinewidth": 0,
             "ticks": ""
            },
            "colorscale": [
             [
              0,
              "#0d0887"
             ],
             [
              0.1111111111111111,
              "#46039f"
             ],
             [
              0.2222222222222222,
              "#7201a8"
             ],
             [
              0.3333333333333333,
              "#9c179e"
             ],
             [
              0.4444444444444444,
              "#bd3786"
             ],
             [
              0.5555555555555556,
              "#d8576b"
             ],
             [
              0.6666666666666666,
              "#ed7953"
             ],
             [
              0.7777777777777778,
              "#fb9f3a"
             ],
             [
              0.8888888888888888,
              "#fdca26"
             ],
             [
              1,
              "#f0f921"
             ]
            ],
            "type": "histogram2dcontour"
           }
          ],
          "mesh3d": [
           {
            "colorbar": {
             "outlinewidth": 0,
             "ticks": ""
            },
            "type": "mesh3d"
           }
          ],
          "parcoords": [
           {
            "line": {
             "colorbar": {
              "outlinewidth": 0,
              "ticks": ""
             }
            },
            "type": "parcoords"
           }
          ],
          "pie": [
           {
            "automargin": true,
            "type": "pie"
           }
          ],
          "scatter": [
           {
            "fillpattern": {
             "fillmode": "overlay",
             "size": 10,
             "solidity": 0.2
            },
            "type": "scatter"
           }
          ],
          "scatter3d": [
           {
            "line": {
             "colorbar": {
              "outlinewidth": 0,
              "ticks": ""
             }
            },
            "marker": {
             "colorbar": {
              "outlinewidth": 0,
              "ticks": ""
             }
            },
            "type": "scatter3d"
           }
          ],
          "scattercarpet": [
           {
            "marker": {
             "colorbar": {
              "outlinewidth": 0,
              "ticks": ""
             }
            },
            "type": "scattercarpet"
           }
          ],
          "scattergeo": [
           {
            "marker": {
             "colorbar": {
              "outlinewidth": 0,
              "ticks": ""
             }
            },
            "type": "scattergeo"
           }
          ],
          "scattergl": [
           {
            "marker": {
             "colorbar": {
              "outlinewidth": 0,
              "ticks": ""
             }
            },
            "type": "scattergl"
           }
          ],
          "scattermapbox": [
           {
            "marker": {
             "colorbar": {
              "outlinewidth": 0,
              "ticks": ""
             }
            },
            "type": "scattermapbox"
           }
          ],
          "scatterpolar": [
           {
            "marker": {
             "colorbar": {
              "outlinewidth": 0,
              "ticks": ""
             }
            },
            "type": "scatterpolar"
           }
          ],
          "scatterpolargl": [
           {
            "marker": {
             "colorbar": {
              "outlinewidth": 0,
              "ticks": ""
             }
            },
            "type": "scatterpolargl"
           }
          ],
          "scatterternary": [
           {
            "marker": {
             "colorbar": {
              "outlinewidth": 0,
              "ticks": ""
             }
            },
            "type": "scatterternary"
           }
          ],
          "surface": [
           {
            "colorbar": {
             "outlinewidth": 0,
             "ticks": ""
            },
            "colorscale": [
             [
              0,
              "#0d0887"
             ],
             [
              0.1111111111111111,
              "#46039f"
             ],
             [
              0.2222222222222222,
              "#7201a8"
             ],
             [
              0.3333333333333333,
              "#9c179e"
             ],
             [
              0.4444444444444444,
              "#bd3786"
             ],
             [
              0.5555555555555556,
              "#d8576b"
             ],
             [
              0.6666666666666666,
              "#ed7953"
             ],
             [
              0.7777777777777778,
              "#fb9f3a"
             ],
             [
              0.8888888888888888,
              "#fdca26"
             ],
             [
              1,
              "#f0f921"
             ]
            ],
            "type": "surface"
           }
          ],
          "table": [
           {
            "cells": {
             "fill": {
              "color": "#EBF0F8"
             },
             "line": {
              "color": "white"
             }
            },
            "header": {
             "fill": {
              "color": "#C8D4E3"
             },
             "line": {
              "color": "white"
             }
            },
            "type": "table"
           }
          ]
         },
         "layout": {
          "annotationdefaults": {
           "arrowcolor": "#2a3f5f",
           "arrowhead": 0,
           "arrowwidth": 1
          },
          "autotypenumbers": "strict",
          "coloraxis": {
           "colorbar": {
            "outlinewidth": 0,
            "ticks": ""
           }
          },
          "colorscale": {
           "diverging": [
            [
             0,
             "#8e0152"
            ],
            [
             0.1,
             "#c51b7d"
            ],
            [
             0.2,
             "#de77ae"
            ],
            [
             0.3,
             "#f1b6da"
            ],
            [
             0.4,
             "#fde0ef"
            ],
            [
             0.5,
             "#f7f7f7"
            ],
            [
             0.6,
             "#e6f5d0"
            ],
            [
             0.7,
             "#b8e186"
            ],
            [
             0.8,
             "#7fbc41"
            ],
            [
             0.9,
             "#4d9221"
            ],
            [
             1,
             "#276419"
            ]
           ],
           "sequential": [
            [
             0,
             "#0d0887"
            ],
            [
             0.1111111111111111,
             "#46039f"
            ],
            [
             0.2222222222222222,
             "#7201a8"
            ],
            [
             0.3333333333333333,
             "#9c179e"
            ],
            [
             0.4444444444444444,
             "#bd3786"
            ],
            [
             0.5555555555555556,
             "#d8576b"
            ],
            [
             0.6666666666666666,
             "#ed7953"
            ],
            [
             0.7777777777777778,
             "#fb9f3a"
            ],
            [
             0.8888888888888888,
             "#fdca26"
            ],
            [
             1,
             "#f0f921"
            ]
           ],
           "sequentialminus": [
            [
             0,
             "#0d0887"
            ],
            [
             0.1111111111111111,
             "#46039f"
            ],
            [
             0.2222222222222222,
             "#7201a8"
            ],
            [
             0.3333333333333333,
             "#9c179e"
            ],
            [
             0.4444444444444444,
             "#bd3786"
            ],
            [
             0.5555555555555556,
             "#d8576b"
            ],
            [
             0.6666666666666666,
             "#ed7953"
            ],
            [
             0.7777777777777778,
             "#fb9f3a"
            ],
            [
             0.8888888888888888,
             "#fdca26"
            ],
            [
             1,
             "#f0f921"
            ]
           ]
          },
          "colorway": [
           "#636efa",
           "#EF553B",
           "#00cc96",
           "#ab63fa",
           "#FFA15A",
           "#19d3f3",
           "#FF6692",
           "#B6E880",
           "#FF97FF",
           "#FECB52"
          ],
          "font": {
           "color": "#2a3f5f"
          },
          "geo": {
           "bgcolor": "white",
           "lakecolor": "white",
           "landcolor": "#E5ECF6",
           "showlakes": true,
           "showland": true,
           "subunitcolor": "white"
          },
          "hoverlabel": {
           "align": "left"
          },
          "hovermode": "closest",
          "mapbox": {
           "style": "light"
          },
          "paper_bgcolor": "white",
          "plot_bgcolor": "#E5ECF6",
          "polar": {
           "angularaxis": {
            "gridcolor": "white",
            "linecolor": "white",
            "ticks": ""
           },
           "bgcolor": "#E5ECF6",
           "radialaxis": {
            "gridcolor": "white",
            "linecolor": "white",
            "ticks": ""
           }
          },
          "scene": {
           "xaxis": {
            "backgroundcolor": "#E5ECF6",
            "gridcolor": "white",
            "gridwidth": 2,
            "linecolor": "white",
            "showbackground": true,
            "ticks": "",
            "zerolinecolor": "white"
           },
           "yaxis": {
            "backgroundcolor": "#E5ECF6",
            "gridcolor": "white",
            "gridwidth": 2,
            "linecolor": "white",
            "showbackground": true,
            "ticks": "",
            "zerolinecolor": "white"
           },
           "zaxis": {
            "backgroundcolor": "#E5ECF6",
            "gridcolor": "white",
            "gridwidth": 2,
            "linecolor": "white",
            "showbackground": true,
            "ticks": "",
            "zerolinecolor": "white"
           }
          },
          "shapedefaults": {
           "line": {
            "color": "#2a3f5f"
           }
          },
          "ternary": {
           "aaxis": {
            "gridcolor": "white",
            "linecolor": "white",
            "ticks": ""
           },
           "baxis": {
            "gridcolor": "white",
            "linecolor": "white",
            "ticks": ""
           },
           "bgcolor": "#E5ECF6",
           "caxis": {
            "gridcolor": "white",
            "linecolor": "white",
            "ticks": ""
           }
          },
          "title": {
           "x": 0.05
          },
          "xaxis": {
           "automargin": true,
           "gridcolor": "white",
           "linecolor": "white",
           "ticks": "",
           "title": {
            "standoff": 15
           },
           "zerolinecolor": "white",
           "zerolinewidth": 2
          },
          "yaxis": {
           "automargin": true,
           "gridcolor": "white",
           "linecolor": "white",
           "ticks": "",
           "title": {
            "standoff": 15
           },
           "zerolinecolor": "white",
           "zerolinewidth": 2
          }
         }
        },
        "width": 900,
        "xaxis": {
         "anchor": "y",
         "domain": [
          0,
          0.94
         ],
         "gridcolor": "#1f292f",
         "nticks": 5,
         "rangeslider": {
          "visible": false
         }
        },
        "yaxis": {
         "anchor": "x",
         "domain": [
          0,
          1
         ],
         "gridcolor": "#1f292f"
        },
        "yaxis2": {
         "anchor": "x",
         "gridcolor": "#1f292f",
         "overlaying": "y",
         "side": "right"
        }
       }
      }
     },
     "metadata": {},
     "output_type": "display_data"
    }
   ],
   "source": [
    "cp = CandlePlot(df_gains, candles=False)\n",
    "cp.show_plot(line_traces=['GAIN_C'])"
   ]
  },
  {
   "cell_type": "code",
   "execution_count": 20,
   "id": "8b8a946d",
   "metadata": {
    "scrolled": false
   },
   "outputs": [
    {
     "name": "stdout",
     "output_type": "stream",
     "text": [
      "USD_JPY 804\n"
     ]
    },
    {
     "data": {
      "application/vnd.plotly.v1+json": {
       "config": {
        "plotlyServerURL": "https://plot.ly"
       },
       "data": [
        {
         "line": {
          "shape": "spline",
          "width": 2
         },
         "name": "GAIN_C",
         "type": "scatter",
         "x": [
          "s24-05-09 19:00",
          "s24-05-10 07:00",
          "s24-05-15 02:00",
          "s24-05-16 12:00",
          "s24-05-17 18:00",
          "s24-05-20 03:00",
          "s24-05-21 12:00",
          "s24-05-22 01:00",
          "s24-05-23 12:00",
          "s24-05-23 13:00",
          "s24-05-24 15:00",
          "s24-05-27 14:00",
          "s24-05-28 02:00",
          "s24-05-28 14:00",
          "s24-05-29 12:00",
          "s24-05-29 15:00",
          "s24-05-30 05:00",
          "s24-05-31 01:00",
          "s24-06-03 09:00",
          "s24-06-05 03:00",
          "s24-06-06 00:00",
          "s24-06-06 12:00",
          "s24-06-06 21:00",
          "s24-06-07 13:00",
          "s24-06-10 16:00",
          "s24-06-10 23:00",
          "s24-06-11 17:00",
          "s24-06-12 05:00",
          "s24-06-12 13:00",
          "s24-06-13 02:00",
          "s24-06-13 18:00",
          "s24-06-14 02:00",
          "s24-06-14 15:00",
          "s24-06-17 01:00",
          "s24-06-18 01:00",
          "s24-06-18 08:00",
          "s24-06-18 20:00",
          "s24-06-19 15:00",
          "s24-06-21 11:00",
          "s24-06-21 14:00",
          "s24-06-24 11:00",
          "s24-06-24 22:00",
          "s24-06-25 02:00",
          "s24-06-25 15:00",
          "s24-06-27 06:00",
          "s24-06-27 16:00",
          "s24-06-28 12:00",
          "s24-06-30 23:00",
          "s24-07-02 15:00",
          "s24-07-03 04:00",
          "s24-07-03 18:00",
          "s24-07-05 00:00",
          "s24-07-05 03:00",
          "s24-07-05 18:00",
          "s24-07-07 23:00",
          "s24-07-08 11:00",
          "s24-07-08 21:00",
          "s24-07-09 02:00",
          "s24-07-11 05:00",
          "s24-07-12 06:00",
          "s24-07-12 14:00",
          "s24-07-15 07:00",
          "s24-07-15 10:00",
          "s24-07-16 00:00",
          "s24-07-16 18:00",
          "s24-07-18 09:00",
          "s24-07-21 22:00",
          "s24-07-22 01:00",
          "s24-07-22 05:00",
          "s24-07-22 21:00",
          "s24-07-23 03:00",
          "s24-07-25 16:00",
          "s24-07-26 07:00",
          "s24-07-26 10:00",
          "s24-07-26 20:00",
          "s24-07-29 14:00",
          "s24-07-30 18:00",
          "s24-08-01 12:00",
          "s24-08-01 22:00",
          "s24-08-05 21:00",
          "s24-08-06 15:00",
          "s24-08-07 01:00",
          "s24-08-07 21:00",
          "s24-08-08 15:00",
          "s24-08-09 09:00",
          "s24-08-12 03:00",
          "s24-08-12 23:00",
          "s24-08-13 07:00",
          "s24-08-13 16:00",
          "s24-08-14 07:00",
          "s24-08-16 07:00",
          "s24-08-19 20:00",
          "s24-08-20 13:00",
          "s24-08-21 07:00",
          "s24-08-21 18:00",
          "s24-08-22 08:00",
          "s24-08-23 04:00",
          "s24-08-26 14:00",
          "s24-08-27 15:00",
          "s24-08-28 06:00",
          "s24-08-29 04:00",
          "s24-08-29 08:00",
          "s24-08-30 02:00",
          "s24-08-30 10:00",
          "s24-09-03 03:00",
          "s24-09-05 23:00",
          "s24-09-06 00:00",
          "s24-09-09 06:00",
          "s24-09-09 20:00",
          "s24-09-10 03:00",
          "s24-09-10 14:00",
          "s24-09-11 17:00",
          "s24-09-12 14:00",
          "s24-09-15 23:00",
          "s24-09-16 03:00",
          "s24-09-16 18:00",
          "s24-09-17 08:00",
          "s24-09-17 12:00",
          "s24-09-18 07:00",
          "s24-09-18 15:00",
          "s24-09-19 22:00",
          "s24-09-20 09:00",
          "s24-09-23 11:00",
          "s24-09-24 04:00",
          "s24-09-24 18:00",
          "s24-09-25 09:00",
          "s24-09-26 12:00",
          "s24-09-26 21:00",
          "s24-09-27 09:00",
          "s24-09-30 13:00",
          "s24-10-01 15:00",
          "s24-10-02 03:00",
          "s24-10-04 03:00",
          "s24-10-04 13:00",
          "s24-10-07 07:00",
          "s24-10-08 15:00",
          "s24-10-10 07:00",
          "s24-10-11 07:00",
          "s24-10-15 04:00",
          "s24-10-16 00:00",
          "s24-10-16 03:00",
          "s24-10-16 09:00",
          "s24-10-17 05:00",
          "s24-10-17 12:00",
          "s24-10-18 06:00",
          "s24-10-21 10:00",
          "s24-10-24 01:00",
          "s24-10-25 08:00",
          "s24-10-28 14:00",
          "s24-10-28 22:00",
          "s24-10-29 06:00",
          "s24-10-29 12:00",
          "s24-10-30 01:00",
          "s24-10-30 20:00",
          "s24-10-31 06:00",
          "s24-11-01 08:00",
          "s24-11-04 02:00",
          "s24-11-04 20:00",
          "s24-11-05 14:00",
          "s24-11-06 03:00",
          "s24-11-07 06:00",
          "s24-11-10 22:00",
          "s24-11-12 03:00",
          "s24-11-12 09:00",
          "s24-11-14 19:00",
          "s24-11-14 21:00",
          "s24-11-15 10:00",
          "s24-11-18 08:00",
          "s24-11-18 22:00",
          "s24-11-19 20:00",
          "s24-11-20 22:00",
          "s24-11-22 01:00",
          "s24-11-22 02:00",
          "s24-11-22 03:00",
          "s24-11-22 04:00",
          "s24-11-22 05:00",
          "s24-11-25 01:00",
          "s24-11-25 13:00",
          "s24-11-25 20:00",
          "s24-11-28 04:00",
          "s24-11-28 19:00",
          "s24-12-02 04:00",
          "s24-12-02 15:00",
          "s24-12-03 06:00",
          "s24-12-03 14:00",
          "s24-12-04 02:00",
          "s24-12-04 23:00",
          "s24-12-05 17:00",
          "s24-12-05 23:00",
          "s24-12-06 11:00",
          "s24-12-06 19:00",
          "s24-12-09 07:00",
          "s24-12-11 03:00",
          "s24-12-11 11:00",
          "s24-12-12 04:00",
          "s24-12-12 14:00",
          "s24-12-12 16:00",
          "s24-12-12 23:00",
          "s24-12-17 06:00",
          "s24-12-18 07:00"
         ],
         "xaxis": "x",
         "y": [
          -25.7000000000005,
          51.200000000000045,
          165.99999999999966,
          202.49999999999773,
          197.4999999999966,
          249.29999999999666,
          248.0999999999966,
          297.59999999999707,
          263.6999999999972,
          245.3999999999951,
          263.4999999999934,
          266.1999999999921,
          254.69999999999118,
          287.59999999999195,
          244.5999999999941,
          178.39999999999634,
          207.09999999999695,
          246.19999999999607,
          404.1999999999945,
          420.19999999999413,
          356.899999999996,
          289.9999999999977,
          155.59999999999832,
          159.29999999999893,
          154.39999999999827,
          162.0999999999981,
          149.79999999999905,
          3.3999999999991815,
          -118.50000000000023,
          -128.7000000000006,
          -171.80000000000177,
          -175.90000000000146,
          -196.10000000000127,
          -185.6000000000023,
          -241.30000000000393,
          -270.8000000000055,
          -278.6000000000058,
          -182.000000000005,
          -249.60000000000377,
          -260.7000000000028,
          -278.70000000000346,
          -310.4000000000042,
          -346.00000000000364,
          -272.40000000000464,
          -301.4000000000067,
          -321.10000000000696,
          -362.2000000000071,
          -300.80000000000666,
          -318.8000000000045,
          -324.4000000000028,
          -265.60000000000343,
          -311.30000000000564,
          -321.80000000000746,
          -330.00000000000966,
          -367.2000000000111,
          -387.80000000000996,
          -407.8000000000088,
          -339.00000000001,
          -83.6000000000098,
          -225.4000000000076,
          -246.00000000000648,
          -243.5000000000059,
          -284.90000000000464,
          -285.80000000000325,
          -99.00000000000375,
          -21.200000000004593,
          -48.80000000000564,
          -99.30000000000803,
          -91.10000000000866,
          -158.8000000000079,
          66.59999999999116,
          55.99999999998886,
          -9.00000000001171,
          -90.50000000001148,
          -119.80000000001212,
          -198.40000000001226,
          41.499999999987836,
          -113.70000000001141,
          409.4999999999885,
          512.7999999999872,
          349.7999999999877,
          349.7999999999877,
          314.5999999999873,
          328.89999999998736,
          332.19999999998606,
          314.59999999998445,
          231.5999999999832,
          119.59999999998274,
          52.59999999998399,
          213.49999999998488,
          454.599999999985,
          405.2999999999855,
          401.9999999999868,
          261.9999999999891,
          172.7999999999895,
          186.39999999998906,
          348.99999999998954,
          360.99999999999,
          334.3999999999909,
          348.2999999999919,
          346.4999999999918,
          354.4999999999902,
          302.19999999998777,
          427.3999999999859,
          742.5999999999846,
          721.0999999999842,
          738.4999999999849,
          754.599999999985,
          747.5999999999857,
          695.8999999999861,
          747.1999999999866,
          774.9999999999886,
          938.4999999999906,
          865.9999999999911,
          806.7999999999898,
          792.7999999999884,
          752.9999999999887,
          843.5999999999893,
          837.7999999999901,
          910.5999999999909,
          783.1999999999908,
          750.2999999999901,
          726.9999999999897,
          680.9999999999889,
          600.8999999999872,
          638.9999999999873,
          615.1999999999873,
          448.1999999999857,
          448.4999999999843,
          502.4999999999835,
          456.09999999998365,
          680.0999999999846,
          476.5999999999849,
          463.0999999999858,
          467.7999999999855,
          546.9999999999857,
          571.3999999999857,
          661.5999999999843,
          702.1999999999849,
          692.3999999999864,
          682.2999999999865,
          706.199999999987,
          674.1999999999877,
          686.5999999999872,
          687.9999999999882,
          961.59999999999,
          1033.1999999999907,
          1131.9999999999907,
          1096.6999999999898,
          1066.2999999999897,
          989.7999999999911,
          934.9999999999909,
          915.7999999999902,
          792.3999999999893,
          745.9999999999894,
          663.599999999991,
          630.1999999999907,
          598.699999999991,
          387.999999999991,
          387.399999999991,
          512.399999999991,
          609.599999999989,
          564.7999999999882,
          746.6999999999899,
          711.3999999999919,
          614.2999999999915,
          649.4999999999891,
          618.9999999999884,
          615.0999999999897,
          680.9999999999917,
          774.2999999999938,
          772.1999999999952,
          784.7999999999956,
          800.5999999999943,
          772.5999999999942,
          679.099999999994,
          663.3999999999929,
          684.6999999999923,
          936.0999999999905,
          923.5999999999905,
          1015.8999999999907,
          945.1999999999913,
          921.1999999999932,
          792.399999999995,
          696.999999999997,
          773.8999999999976,
          815.2999999999963,
          814.1999999999967,
          775.2999999999986,
          721.599999999998,
          684.3999999999966,
          804.5999999999964,
          703.8999999999959,
          667.799999999994,
          662.3999999999938,
          645.3999999999951,
          593.599999999995,
          748.1999999999942,
          804.699999999994,
          804.699999999994
         ],
         "yaxis": "y"
        }
       ],
       "layout": {
        "font": {
         "color": "#e1e1e1",
         "size": 8
        },
        "height": 400,
        "margin": {
         "b": 10,
         "l": 10,
         "r": 10,
         "t": 10
        },
        "paper_bgcolor": "#2c303c",
        "plot_bgcolor": "#2c303c",
        "template": {
         "data": {
          "bar": [
           {
            "error_x": {
             "color": "#2a3f5f"
            },
            "error_y": {
             "color": "#2a3f5f"
            },
            "marker": {
             "line": {
              "color": "#E5ECF6",
              "width": 0.5
             },
             "pattern": {
              "fillmode": "overlay",
              "size": 10,
              "solidity": 0.2
             }
            },
            "type": "bar"
           }
          ],
          "barpolar": [
           {
            "marker": {
             "line": {
              "color": "#E5ECF6",
              "width": 0.5
             },
             "pattern": {
              "fillmode": "overlay",
              "size": 10,
              "solidity": 0.2
             }
            },
            "type": "barpolar"
           }
          ],
          "carpet": [
           {
            "aaxis": {
             "endlinecolor": "#2a3f5f",
             "gridcolor": "white",
             "linecolor": "white",
             "minorgridcolor": "white",
             "startlinecolor": "#2a3f5f"
            },
            "baxis": {
             "endlinecolor": "#2a3f5f",
             "gridcolor": "white",
             "linecolor": "white",
             "minorgridcolor": "white",
             "startlinecolor": "#2a3f5f"
            },
            "type": "carpet"
           }
          ],
          "choropleth": [
           {
            "colorbar": {
             "outlinewidth": 0,
             "ticks": ""
            },
            "type": "choropleth"
           }
          ],
          "contour": [
           {
            "colorbar": {
             "outlinewidth": 0,
             "ticks": ""
            },
            "colorscale": [
             [
              0,
              "#0d0887"
             ],
             [
              0.1111111111111111,
              "#46039f"
             ],
             [
              0.2222222222222222,
              "#7201a8"
             ],
             [
              0.3333333333333333,
              "#9c179e"
             ],
             [
              0.4444444444444444,
              "#bd3786"
             ],
             [
              0.5555555555555556,
              "#d8576b"
             ],
             [
              0.6666666666666666,
              "#ed7953"
             ],
             [
              0.7777777777777778,
              "#fb9f3a"
             ],
             [
              0.8888888888888888,
              "#fdca26"
             ],
             [
              1,
              "#f0f921"
             ]
            ],
            "type": "contour"
           }
          ],
          "contourcarpet": [
           {
            "colorbar": {
             "outlinewidth": 0,
             "ticks": ""
            },
            "type": "contourcarpet"
           }
          ],
          "heatmap": [
           {
            "colorbar": {
             "outlinewidth": 0,
             "ticks": ""
            },
            "colorscale": [
             [
              0,
              "#0d0887"
             ],
             [
              0.1111111111111111,
              "#46039f"
             ],
             [
              0.2222222222222222,
              "#7201a8"
             ],
             [
              0.3333333333333333,
              "#9c179e"
             ],
             [
              0.4444444444444444,
              "#bd3786"
             ],
             [
              0.5555555555555556,
              "#d8576b"
             ],
             [
              0.6666666666666666,
              "#ed7953"
             ],
             [
              0.7777777777777778,
              "#fb9f3a"
             ],
             [
              0.8888888888888888,
              "#fdca26"
             ],
             [
              1,
              "#f0f921"
             ]
            ],
            "type": "heatmap"
           }
          ],
          "heatmapgl": [
           {
            "colorbar": {
             "outlinewidth": 0,
             "ticks": ""
            },
            "colorscale": [
             [
              0,
              "#0d0887"
             ],
             [
              0.1111111111111111,
              "#46039f"
             ],
             [
              0.2222222222222222,
              "#7201a8"
             ],
             [
              0.3333333333333333,
              "#9c179e"
             ],
             [
              0.4444444444444444,
              "#bd3786"
             ],
             [
              0.5555555555555556,
              "#d8576b"
             ],
             [
              0.6666666666666666,
              "#ed7953"
             ],
             [
              0.7777777777777778,
              "#fb9f3a"
             ],
             [
              0.8888888888888888,
              "#fdca26"
             ],
             [
              1,
              "#f0f921"
             ]
            ],
            "type": "heatmapgl"
           }
          ],
          "histogram": [
           {
            "marker": {
             "pattern": {
              "fillmode": "overlay",
              "size": 10,
              "solidity": 0.2
             }
            },
            "type": "histogram"
           }
          ],
          "histogram2d": [
           {
            "colorbar": {
             "outlinewidth": 0,
             "ticks": ""
            },
            "colorscale": [
             [
              0,
              "#0d0887"
             ],
             [
              0.1111111111111111,
              "#46039f"
             ],
             [
              0.2222222222222222,
              "#7201a8"
             ],
             [
              0.3333333333333333,
              "#9c179e"
             ],
             [
              0.4444444444444444,
              "#bd3786"
             ],
             [
              0.5555555555555556,
              "#d8576b"
             ],
             [
              0.6666666666666666,
              "#ed7953"
             ],
             [
              0.7777777777777778,
              "#fb9f3a"
             ],
             [
              0.8888888888888888,
              "#fdca26"
             ],
             [
              1,
              "#f0f921"
             ]
            ],
            "type": "histogram2d"
           }
          ],
          "histogram2dcontour": [
           {
            "colorbar": {
             "outlinewidth": 0,
             "ticks": ""
            },
            "colorscale": [
             [
              0,
              "#0d0887"
             ],
             [
              0.1111111111111111,
              "#46039f"
             ],
             [
              0.2222222222222222,
              "#7201a8"
             ],
             [
              0.3333333333333333,
              "#9c179e"
             ],
             [
              0.4444444444444444,
              "#bd3786"
             ],
             [
              0.5555555555555556,
              "#d8576b"
             ],
             [
              0.6666666666666666,
              "#ed7953"
             ],
             [
              0.7777777777777778,
              "#fb9f3a"
             ],
             [
              0.8888888888888888,
              "#fdca26"
             ],
             [
              1,
              "#f0f921"
             ]
            ],
            "type": "histogram2dcontour"
           }
          ],
          "mesh3d": [
           {
            "colorbar": {
             "outlinewidth": 0,
             "ticks": ""
            },
            "type": "mesh3d"
           }
          ],
          "parcoords": [
           {
            "line": {
             "colorbar": {
              "outlinewidth": 0,
              "ticks": ""
             }
            },
            "type": "parcoords"
           }
          ],
          "pie": [
           {
            "automargin": true,
            "type": "pie"
           }
          ],
          "scatter": [
           {
            "fillpattern": {
             "fillmode": "overlay",
             "size": 10,
             "solidity": 0.2
            },
            "type": "scatter"
           }
          ],
          "scatter3d": [
           {
            "line": {
             "colorbar": {
              "outlinewidth": 0,
              "ticks": ""
             }
            },
            "marker": {
             "colorbar": {
              "outlinewidth": 0,
              "ticks": ""
             }
            },
            "type": "scatter3d"
           }
          ],
          "scattercarpet": [
           {
            "marker": {
             "colorbar": {
              "outlinewidth": 0,
              "ticks": ""
             }
            },
            "type": "scattercarpet"
           }
          ],
          "scattergeo": [
           {
            "marker": {
             "colorbar": {
              "outlinewidth": 0,
              "ticks": ""
             }
            },
            "type": "scattergeo"
           }
          ],
          "scattergl": [
           {
            "marker": {
             "colorbar": {
              "outlinewidth": 0,
              "ticks": ""
             }
            },
            "type": "scattergl"
           }
          ],
          "scattermapbox": [
           {
            "marker": {
             "colorbar": {
              "outlinewidth": 0,
              "ticks": ""
             }
            },
            "type": "scattermapbox"
           }
          ],
          "scatterpolar": [
           {
            "marker": {
             "colorbar": {
              "outlinewidth": 0,
              "ticks": ""
             }
            },
            "type": "scatterpolar"
           }
          ],
          "scatterpolargl": [
           {
            "marker": {
             "colorbar": {
              "outlinewidth": 0,
              "ticks": ""
             }
            },
            "type": "scatterpolargl"
           }
          ],
          "scatterternary": [
           {
            "marker": {
             "colorbar": {
              "outlinewidth": 0,
              "ticks": ""
             }
            },
            "type": "scatterternary"
           }
          ],
          "surface": [
           {
            "colorbar": {
             "outlinewidth": 0,
             "ticks": ""
            },
            "colorscale": [
             [
              0,
              "#0d0887"
             ],
             [
              0.1111111111111111,
              "#46039f"
             ],
             [
              0.2222222222222222,
              "#7201a8"
             ],
             [
              0.3333333333333333,
              "#9c179e"
             ],
             [
              0.4444444444444444,
              "#bd3786"
             ],
             [
              0.5555555555555556,
              "#d8576b"
             ],
             [
              0.6666666666666666,
              "#ed7953"
             ],
             [
              0.7777777777777778,
              "#fb9f3a"
             ],
             [
              0.8888888888888888,
              "#fdca26"
             ],
             [
              1,
              "#f0f921"
             ]
            ],
            "type": "surface"
           }
          ],
          "table": [
           {
            "cells": {
             "fill": {
              "color": "#EBF0F8"
             },
             "line": {
              "color": "white"
             }
            },
            "header": {
             "fill": {
              "color": "#C8D4E3"
             },
             "line": {
              "color": "white"
             }
            },
            "type": "table"
           }
          ]
         },
         "layout": {
          "annotationdefaults": {
           "arrowcolor": "#2a3f5f",
           "arrowhead": 0,
           "arrowwidth": 1
          },
          "autotypenumbers": "strict",
          "coloraxis": {
           "colorbar": {
            "outlinewidth": 0,
            "ticks": ""
           }
          },
          "colorscale": {
           "diverging": [
            [
             0,
             "#8e0152"
            ],
            [
             0.1,
             "#c51b7d"
            ],
            [
             0.2,
             "#de77ae"
            ],
            [
             0.3,
             "#f1b6da"
            ],
            [
             0.4,
             "#fde0ef"
            ],
            [
             0.5,
             "#f7f7f7"
            ],
            [
             0.6,
             "#e6f5d0"
            ],
            [
             0.7,
             "#b8e186"
            ],
            [
             0.8,
             "#7fbc41"
            ],
            [
             0.9,
             "#4d9221"
            ],
            [
             1,
             "#276419"
            ]
           ],
           "sequential": [
            [
             0,
             "#0d0887"
            ],
            [
             0.1111111111111111,
             "#46039f"
            ],
            [
             0.2222222222222222,
             "#7201a8"
            ],
            [
             0.3333333333333333,
             "#9c179e"
            ],
            [
             0.4444444444444444,
             "#bd3786"
            ],
            [
             0.5555555555555556,
             "#d8576b"
            ],
            [
             0.6666666666666666,
             "#ed7953"
            ],
            [
             0.7777777777777778,
             "#fb9f3a"
            ],
            [
             0.8888888888888888,
             "#fdca26"
            ],
            [
             1,
             "#f0f921"
            ]
           ],
           "sequentialminus": [
            [
             0,
             "#0d0887"
            ],
            [
             0.1111111111111111,
             "#46039f"
            ],
            [
             0.2222222222222222,
             "#7201a8"
            ],
            [
             0.3333333333333333,
             "#9c179e"
            ],
            [
             0.4444444444444444,
             "#bd3786"
            ],
            [
             0.5555555555555556,
             "#d8576b"
            ],
            [
             0.6666666666666666,
             "#ed7953"
            ],
            [
             0.7777777777777778,
             "#fb9f3a"
            ],
            [
             0.8888888888888888,
             "#fdca26"
            ],
            [
             1,
             "#f0f921"
            ]
           ]
          },
          "colorway": [
           "#636efa",
           "#EF553B",
           "#00cc96",
           "#ab63fa",
           "#FFA15A",
           "#19d3f3",
           "#FF6692",
           "#B6E880",
           "#FF97FF",
           "#FECB52"
          ],
          "font": {
           "color": "#2a3f5f"
          },
          "geo": {
           "bgcolor": "white",
           "lakecolor": "white",
           "landcolor": "#E5ECF6",
           "showlakes": true,
           "showland": true,
           "subunitcolor": "white"
          },
          "hoverlabel": {
           "align": "left"
          },
          "hovermode": "closest",
          "mapbox": {
           "style": "light"
          },
          "paper_bgcolor": "white",
          "plot_bgcolor": "#E5ECF6",
          "polar": {
           "angularaxis": {
            "gridcolor": "white",
            "linecolor": "white",
            "ticks": ""
           },
           "bgcolor": "#E5ECF6",
           "radialaxis": {
            "gridcolor": "white",
            "linecolor": "white",
            "ticks": ""
           }
          },
          "scene": {
           "xaxis": {
            "backgroundcolor": "#E5ECF6",
            "gridcolor": "white",
            "gridwidth": 2,
            "linecolor": "white",
            "showbackground": true,
            "ticks": "",
            "zerolinecolor": "white"
           },
           "yaxis": {
            "backgroundcolor": "#E5ECF6",
            "gridcolor": "white",
            "gridwidth": 2,
            "linecolor": "white",
            "showbackground": true,
            "ticks": "",
            "zerolinecolor": "white"
           },
           "zaxis": {
            "backgroundcolor": "#E5ECF6",
            "gridcolor": "white",
            "gridwidth": 2,
            "linecolor": "white",
            "showbackground": true,
            "ticks": "",
            "zerolinecolor": "white"
           }
          },
          "shapedefaults": {
           "line": {
            "color": "#2a3f5f"
           }
          },
          "ternary": {
           "aaxis": {
            "gridcolor": "white",
            "linecolor": "white",
            "ticks": ""
           },
           "baxis": {
            "gridcolor": "white",
            "linecolor": "white",
            "ticks": ""
           },
           "bgcolor": "#E5ECF6",
           "caxis": {
            "gridcolor": "white",
            "linecolor": "white",
            "ticks": ""
           }
          },
          "title": {
           "x": 0.05
          },
          "xaxis": {
           "automargin": true,
           "gridcolor": "white",
           "linecolor": "white",
           "ticks": "",
           "title": {
            "standoff": 15
           },
           "zerolinecolor": "white",
           "zerolinewidth": 2
          },
          "yaxis": {
           "automargin": true,
           "gridcolor": "white",
           "linecolor": "white",
           "ticks": "",
           "title": {
            "standoff": 15
           },
           "zerolinecolor": "white",
           "zerolinewidth": 2
          }
         }
        },
        "width": 900,
        "xaxis": {
         "anchor": "y",
         "domain": [
          0,
          0.94
         ],
         "gridcolor": "#1f292f",
         "nticks": 5,
         "rangeslider": {
          "visible": false
         }
        },
        "yaxis": {
         "anchor": "x",
         "domain": [
          0,
          1
         ],
         "gridcolor": "#1f292f"
        },
        "yaxis2": {
         "anchor": "x",
         "gridcolor": "#1f292f",
         "overlaying": "y",
         "side": "right"
        }
       }
      }
     },
     "metadata": {},
     "output_type": "display_data"
    },
    {
     "name": "stdout",
     "output_type": "stream",
     "text": [
      "EUR_AUD 605\n"
     ]
    },
    {
     "data": {
      "application/vnd.plotly.v1+json": {
       "config": {
        "plotlyServerURL": "https://plot.ly"
       },
       "data": [
        {
         "line": {
          "shape": "spline",
          "width": 2
         },
         "name": "GAIN_C",
         "type": "scatter",
         "x": [
          "s24-05-06 21:00",
          "s24-05-07 00:00",
          "s24-05-07 06:00",
          "s24-05-08 21:00",
          "s24-05-10 06:00",
          "s24-05-10 18:00",
          "s24-05-12 22:00",
          "s24-05-13 13:00",
          "s24-05-13 21:00",
          "s24-05-14 13:00",
          "s24-05-14 22:00",
          "s24-05-15 01:00",
          "s24-05-16 09:00",
          "s24-05-16 22:00",
          "s24-05-17 07:00",
          "s24-05-17 16:00",
          "s24-05-20 11:00",
          "s24-05-21 15:00",
          "s24-05-22 06:00",
          "s24-05-22 09:00",
          "s24-05-22 12:00",
          "s24-05-23 10:00",
          "s24-05-23 20:00",
          "s24-05-24 17:00",
          "s24-05-28 06:00",
          "s24-05-29 04:00",
          "s24-05-29 13:00",
          "s24-05-30 03:00",
          "s24-05-30 07:00",
          "s24-05-30 15:00",
          "s24-05-31 16:00",
          "s24-06-03 00:00",
          "s24-06-03 08:00",
          "s24-06-03 15:00",
          "s24-06-04 00:00",
          "s24-06-05 02:00",
          "s24-06-05 14:00",
          "s24-06-06 00:00",
          "s24-06-06 11:00",
          "s24-06-06 21:00",
          "s24-06-07 10:00",
          "s24-06-10 03:00",
          "s24-06-11 03:00",
          "s24-06-11 12:00",
          "s24-06-13 02:00",
          "s24-06-13 15:00",
          "s24-06-17 00:00",
          "s24-06-18 02:00",
          "s24-06-19 19:00",
          "s24-06-19 22:00",
          "s24-06-19 23:00",
          "s24-06-20 02:00",
          "s24-06-21 17:00",
          "s24-06-24 23:00",
          "s24-06-25 00:00",
          "s24-06-25 03:00",
          "s24-06-25 19:00",
          "s24-06-26 02:00",
          "s24-06-26 18:00",
          "s24-06-27 07:00",
          "s24-06-27 15:00",
          "s24-06-28 12:00",
          "s24-07-01 02:00",
          "s24-07-02 12:00",
          "s24-07-03 13:00",
          "s24-07-03 18:00",
          "s24-07-04 20:00",
          "s24-07-05 08:00",
          "s24-07-05 11:00",
          "s24-07-05 17:00",
          "s24-07-08 10:00",
          "s24-07-09 01:00",
          "s24-07-10 09:00",
          "s24-07-11 00:00",
          "s24-07-11 14:00",
          "s24-07-12 08:00",
          "s24-07-12 15:00",
          "s24-07-18 06:00",
          "s24-07-18 20:00",
          "s24-07-23 15:00",
          "s24-07-24 01:00",
          "s24-07-25 21:00",
          "s24-07-26 20:00",
          "s24-07-29 07:00",
          "s24-07-30 12:00",
          "s24-07-31 17:00",
          "s24-08-01 08:00",
          "s24-08-01 12:00",
          "s24-08-01 21:00",
          "s24-08-02 10:00",
          "s24-08-02 12:00",
          "s24-08-05 21:00",
          "s24-08-07 19:00",
          "s24-08-08 08:00",
          "s24-08-09 11:00",
          "s24-08-12 03:00",
          "s24-08-12 20:00",
          "s24-08-13 08:00",
          "s24-08-13 21:00",
          "s24-08-15 06:00",
          "s24-08-20 06:00",
          "s24-08-20 13:00",
          "s24-08-20 20:00",
          "s24-08-22 13:00",
          "s24-08-22 15:00",
          "s24-08-23 07:00",
          "s24-08-26 06:00",
          "s24-08-26 16:00",
          "s24-08-27 20:00",
          "s24-08-27 23:00",
          "s24-08-30 02:00",
          "s24-08-30 05:00",
          "s24-08-30 14:00",
          "s24-09-02 06:00",
          "s24-09-03 03:00",
          "s24-09-04 13:00",
          "s24-09-04 22:00",
          "s24-09-05 09:00",
          "s24-09-05 10:00",
          "s24-09-05 21:00",
          "s24-09-06 03:00",
          "s24-09-09 08:00",
          "s24-09-10 22:00",
          "s24-09-11 15:00",
          "s24-09-12 14:00",
          "s24-09-12 20:00",
          "s24-09-13 08:00",
          "s24-09-16 02:00",
          "s24-09-18 21:00",
          "s24-09-19 03:00",
          "s24-09-19 20:00",
          "s24-09-23 00:00",
          "s24-09-24 08:00",
          "s24-09-24 17:00",
          "s24-09-25 05:00",
          "s24-09-26 05:00",
          "s24-09-27 02:00",
          "s24-09-27 11:00",
          "s24-09-30 15:00",
          "s24-09-30 18:00",
          "s24-10-01 22:00",
          "s24-10-02 03:00",
          "s24-10-03 01:00",
          "s24-10-04 04:00",
          "s24-10-04 06:00",
          "s24-10-04 07:00",
          "s24-10-04 09:00",
          "s24-10-07 05:00",
          "s24-10-07 10:00",
          "s24-10-08 19:00",
          "s24-10-09 08:00",
          "s24-10-10 02:00",
          "s24-10-11 09:00",
          "s24-10-11 18:00",
          "s24-10-14 05:00",
          "s24-10-14 20:00",
          "s24-10-15 08:00",
          "s24-10-17 01:00",
          "s24-10-18 15:00",
          "s24-10-21 07:00",
          "s24-10-21 08:00",
          "s24-10-22 04:00",
          "s24-10-23 06:00",
          "s24-10-24 06:00",
          "s24-10-24 16:00",
          "s24-10-30 13:00",
          "s24-10-30 21:00",
          "s24-11-01 01:00",
          "s24-11-01 09:00",
          "s24-11-01 15:00",
          "s24-11-04 10:00",
          "s24-11-04 23:00",
          "s24-11-06 00:00",
          "s24-11-06 06:00",
          "s24-11-08 06:00",
          "s24-11-11 05:00",
          "s24-11-12 02:00",
          "s24-11-14 03:00",
          "s24-11-14 04:00",
          "s24-11-14 06:00",
          "s24-11-14 07:00",
          "s24-11-15 21:00",
          "s24-11-18 10:00",
          "s24-11-18 20:00",
          "s24-11-20 10:00",
          "s24-11-20 15:00",
          "s24-11-25 03:00",
          "s24-11-27 03:00",
          "s24-11-27 13:00",
          "s24-11-28 04:00",
          "s24-11-29 02:00",
          "s24-11-29 06:00",
          "s24-12-02 16:00",
          "s24-12-03 04:00",
          "s24-12-03 17:00",
          "s24-12-05 00:00",
          "s24-12-05 09:00",
          "s24-12-05 10:00",
          "s24-12-05 11:00",
          "s24-12-09 05:00",
          "s24-12-10 02:00",
          "s24-12-10 18:00",
          "s24-12-10 23:00",
          "s24-12-11 18:00",
          "s24-12-12 17:00",
          "s24-12-13 10:00",
          "s24-12-13 12:00",
          "s24-12-16 09:00",
          "s24-12-16 17:00",
          "s24-12-16 21:00",
          "s24-12-16 22:00",
          "s24-12-16 23:00",
          "s24-12-17 02:00",
          "s24-12-18 19:00",
          "s24-12-18 23:00",
          "s24-12-19 14:00"
         ],
         "xaxis": "x",
         "y": [
          -26.999999999999247,
          -124.2999999999994,
          -116.40000000000094,
          -82.7000000000022,
          -74.60000000000244,
          -79.10000000000083,
          -76.30000000000025,
          -91.30000000000082,
          -95.20000000000195,
          -92.40000000000359,
          -98.80000000000332,
          -55.60000000000231,
          -59.700000000002525,
          -83.40000000000236,
          -122.0000000000021,
          -116.60000000000225,
          -83.20000000000104,
          -100.89999999999931,
          -129.3999999999995,
          -155.40000000000106,
          -122.00000000000207,
          -159.70000000000258,
          -172.90000000000245,
          -147.900000000003,
          -167.80000000000456,
          -207.50000000000483,
          -221.60000000000394,
          -239.10000000000312,
          -277.1000000000034,
          -294.6000000000048,
          -333.20000000000454,
          -356.10000000000355,
          -378.70000000000283,
          -398.6000000000022,
          -374.6000000000026,
          -422.6000000000017,
          -484.60000000000156,
          -530.3000000000034,
          -572.6000000000051,
          -596.7000000000054,
          -624.8000000000052,
          -622.200000000006,
          -694.400000000006,
          -694.3000000000053,
          -747.9000000000057,
          -745.5000000000055,
          -719.2000000000041,
          -603.4000000000027,
          -604.4000000000026,
          -602.8000000000033,
          -606.8000000000028,
          -611.2000000000028,
          -585.6000000000038,
          -589.4000000000043,
          -600.200000000004,
          -595.800000000004,
          -657.0000000000031,
          -658.9000000000021,
          -673.0000000000013,
          -736.4000000000013,
          -790.400000000002,
          -859.1000000000014,
          -855.800000000002,
          -842.2000000000039,
          -872.5000000000048,
          -865.7000000000046,
          -864.600000000004,
          -858.000000000003,
          -871.2000000000029,
          -889.8000000000026,
          -898.0000000000008,
          -883.8999999999994,
          -886.5999999999993,
          -875.3999999999993,
          -849.4999999999984,
          -847.1999999999966,
          -689.8999999999965,
          -718.4999999999973,
          -565.9999999999974,
          -585.1999999999966,
          -416.5999999999957,
          -409.2999999999967,
          -417.7999999999969,
          -375.99999999999613,
          -342.99999999999534,
          -325.1999999999942,
          -376.9999999999938,
          -488.5999999999944,
          -477.09999999999457,
          -537.3999999999944,
          -350.99999999999454,
          -241.4999999999944,
          -314.9999999999941,
          -232.89999999999358,
          -254.49999999999298,
          -275.699999999992,
          -331.1999999999914,
          -366.199999999992,
          -306.5999999999923,
          -135.79999999999245,
          -131.5999999999938,
          -156.59999999999548,
          -99.29999999999535,
          -114.59999999999344,
          -144.0999999999935,
          -108.99999999999449,
          -141.39999999999358,
          -134.39999999999213,
          -130.99999999999207,
          54.00000000000753,
          49.70000000000823,
          12.800000000008524,
          20.000000000009063,
          -51.799999999990575,
          -21.19999999999217,
          -84.29999999999255,
          -63.79999999999148,
          -53.89999999999101,
          -71.49999999999085,
          -107.59999999998976,
          -24.5999999999878,
          14.600000000013651,
          13.500000000013106,
          73.30000000001185,
          45.80000000001155,
          -0.3999999999891344,
          -1.3999999999890242,
          77.20000000001076,
          5.000000000010715,
          -7.399999999988363,
          -11.699999999987668,
          67.20000000001185,
          -5.199999999989501,
          -56.799999999990035,
          -84.69999999999074,
          -77.19999999999045,
          -126.9999999999903,
          -13.799999999990334,
          -1.199999999989945,
          7.800000000009064,
          -42.99999999999289,
          -76.3999999999941,
          -18.399999999993824,
          -25.799999999993453,
          -40.19999999999453,
          -43.399999999995515,
          -27.399999999995057,
          -58.499999999994515,
          43.2000000000056,
          27.400000000006454,
          12.600000000007196,
          39.50000000000801,
          -9.799999999990781,
          -32.59999999999138,
          -28.399999999992733,
          -57.49999999999241,
          -100.99999999999095,
          -98.49999999999011,
          -81.79999999998951,
          -86.99999999998805,
          -127.699999999986,
          -139.39999999998494,
          -120.09999999998507,
          -207.5999999999854,
          -50.799999999986255,
          -112.79999999998608,
          -88.7999999999843,
          -82.49999999998299,
          -139.69999999998245,
          -188.59999999998305,
          -201.99999999998425,
          -128.39999999998392,
          -164.99999999998388,
          48.000000000014865,
          117.60000000001341,
          142.60000000001287,
          208.0000000000128,
          207.6000000000124,
          214.20000000001343,
          225.60000000001483,
          233.80000000001525,
          207.4000000000155,
          152.6000000000162,
          211.20000000001596,
          202.20000000001474,
          350.60000000001435,
          464.4000000000138,
          365.4000000000136,
          350.8000000000134,
          368.80000000001365,
          351.30000000001445,
          339.700000000014,
          309.6000000000144,
          294.80000000001513,
          444.0000000000156,
          461.6000000000154,
          459.7000000000141,
          447.000000000013,
          586.0000000000132,
          642.7000000000138,
          693.0000000000147,
          671.2000000000162,
          628.1000000000158,
          644.4000000000138,
          645.6000000000129,
          625.6000000000129,
          649.6000000000124,
          658.0000000000119,
          661.400000000012,
          661.8000000000125,
          656.800000000013,
          629.6000000000124,
          736.8000000000109,
          683.8000000000101,
          605.2000000000103,
          605.2000000000103
         ],
         "yaxis": "y"
        }
       ],
       "layout": {
        "font": {
         "color": "#e1e1e1",
         "size": 8
        },
        "height": 400,
        "margin": {
         "b": 10,
         "l": 10,
         "r": 10,
         "t": 10
        },
        "paper_bgcolor": "#2c303c",
        "plot_bgcolor": "#2c303c",
        "template": {
         "data": {
          "bar": [
           {
            "error_x": {
             "color": "#2a3f5f"
            },
            "error_y": {
             "color": "#2a3f5f"
            },
            "marker": {
             "line": {
              "color": "#E5ECF6",
              "width": 0.5
             },
             "pattern": {
              "fillmode": "overlay",
              "size": 10,
              "solidity": 0.2
             }
            },
            "type": "bar"
           }
          ],
          "barpolar": [
           {
            "marker": {
             "line": {
              "color": "#E5ECF6",
              "width": 0.5
             },
             "pattern": {
              "fillmode": "overlay",
              "size": 10,
              "solidity": 0.2
             }
            },
            "type": "barpolar"
           }
          ],
          "carpet": [
           {
            "aaxis": {
             "endlinecolor": "#2a3f5f",
             "gridcolor": "white",
             "linecolor": "white",
             "minorgridcolor": "white",
             "startlinecolor": "#2a3f5f"
            },
            "baxis": {
             "endlinecolor": "#2a3f5f",
             "gridcolor": "white",
             "linecolor": "white",
             "minorgridcolor": "white",
             "startlinecolor": "#2a3f5f"
            },
            "type": "carpet"
           }
          ],
          "choropleth": [
           {
            "colorbar": {
             "outlinewidth": 0,
             "ticks": ""
            },
            "type": "choropleth"
           }
          ],
          "contour": [
           {
            "colorbar": {
             "outlinewidth": 0,
             "ticks": ""
            },
            "colorscale": [
             [
              0,
              "#0d0887"
             ],
             [
              0.1111111111111111,
              "#46039f"
             ],
             [
              0.2222222222222222,
              "#7201a8"
             ],
             [
              0.3333333333333333,
              "#9c179e"
             ],
             [
              0.4444444444444444,
              "#bd3786"
             ],
             [
              0.5555555555555556,
              "#d8576b"
             ],
             [
              0.6666666666666666,
              "#ed7953"
             ],
             [
              0.7777777777777778,
              "#fb9f3a"
             ],
             [
              0.8888888888888888,
              "#fdca26"
             ],
             [
              1,
              "#f0f921"
             ]
            ],
            "type": "contour"
           }
          ],
          "contourcarpet": [
           {
            "colorbar": {
             "outlinewidth": 0,
             "ticks": ""
            },
            "type": "contourcarpet"
           }
          ],
          "heatmap": [
           {
            "colorbar": {
             "outlinewidth": 0,
             "ticks": ""
            },
            "colorscale": [
             [
              0,
              "#0d0887"
             ],
             [
              0.1111111111111111,
              "#46039f"
             ],
             [
              0.2222222222222222,
              "#7201a8"
             ],
             [
              0.3333333333333333,
              "#9c179e"
             ],
             [
              0.4444444444444444,
              "#bd3786"
             ],
             [
              0.5555555555555556,
              "#d8576b"
             ],
             [
              0.6666666666666666,
              "#ed7953"
             ],
             [
              0.7777777777777778,
              "#fb9f3a"
             ],
             [
              0.8888888888888888,
              "#fdca26"
             ],
             [
              1,
              "#f0f921"
             ]
            ],
            "type": "heatmap"
           }
          ],
          "heatmapgl": [
           {
            "colorbar": {
             "outlinewidth": 0,
             "ticks": ""
            },
            "colorscale": [
             [
              0,
              "#0d0887"
             ],
             [
              0.1111111111111111,
              "#46039f"
             ],
             [
              0.2222222222222222,
              "#7201a8"
             ],
             [
              0.3333333333333333,
              "#9c179e"
             ],
             [
              0.4444444444444444,
              "#bd3786"
             ],
             [
              0.5555555555555556,
              "#d8576b"
             ],
             [
              0.6666666666666666,
              "#ed7953"
             ],
             [
              0.7777777777777778,
              "#fb9f3a"
             ],
             [
              0.8888888888888888,
              "#fdca26"
             ],
             [
              1,
              "#f0f921"
             ]
            ],
            "type": "heatmapgl"
           }
          ],
          "histogram": [
           {
            "marker": {
             "pattern": {
              "fillmode": "overlay",
              "size": 10,
              "solidity": 0.2
             }
            },
            "type": "histogram"
           }
          ],
          "histogram2d": [
           {
            "colorbar": {
             "outlinewidth": 0,
             "ticks": ""
            },
            "colorscale": [
             [
              0,
              "#0d0887"
             ],
             [
              0.1111111111111111,
              "#46039f"
             ],
             [
              0.2222222222222222,
              "#7201a8"
             ],
             [
              0.3333333333333333,
              "#9c179e"
             ],
             [
              0.4444444444444444,
              "#bd3786"
             ],
             [
              0.5555555555555556,
              "#d8576b"
             ],
             [
              0.6666666666666666,
              "#ed7953"
             ],
             [
              0.7777777777777778,
              "#fb9f3a"
             ],
             [
              0.8888888888888888,
              "#fdca26"
             ],
             [
              1,
              "#f0f921"
             ]
            ],
            "type": "histogram2d"
           }
          ],
          "histogram2dcontour": [
           {
            "colorbar": {
             "outlinewidth": 0,
             "ticks": ""
            },
            "colorscale": [
             [
              0,
              "#0d0887"
             ],
             [
              0.1111111111111111,
              "#46039f"
             ],
             [
              0.2222222222222222,
              "#7201a8"
             ],
             [
              0.3333333333333333,
              "#9c179e"
             ],
             [
              0.4444444444444444,
              "#bd3786"
             ],
             [
              0.5555555555555556,
              "#d8576b"
             ],
             [
              0.6666666666666666,
              "#ed7953"
             ],
             [
              0.7777777777777778,
              "#fb9f3a"
             ],
             [
              0.8888888888888888,
              "#fdca26"
             ],
             [
              1,
              "#f0f921"
             ]
            ],
            "type": "histogram2dcontour"
           }
          ],
          "mesh3d": [
           {
            "colorbar": {
             "outlinewidth": 0,
             "ticks": ""
            },
            "type": "mesh3d"
           }
          ],
          "parcoords": [
           {
            "line": {
             "colorbar": {
              "outlinewidth": 0,
              "ticks": ""
             }
            },
            "type": "parcoords"
           }
          ],
          "pie": [
           {
            "automargin": true,
            "type": "pie"
           }
          ],
          "scatter": [
           {
            "fillpattern": {
             "fillmode": "overlay",
             "size": 10,
             "solidity": 0.2
            },
            "type": "scatter"
           }
          ],
          "scatter3d": [
           {
            "line": {
             "colorbar": {
              "outlinewidth": 0,
              "ticks": ""
             }
            },
            "marker": {
             "colorbar": {
              "outlinewidth": 0,
              "ticks": ""
             }
            },
            "type": "scatter3d"
           }
          ],
          "scattercarpet": [
           {
            "marker": {
             "colorbar": {
              "outlinewidth": 0,
              "ticks": ""
             }
            },
            "type": "scattercarpet"
           }
          ],
          "scattergeo": [
           {
            "marker": {
             "colorbar": {
              "outlinewidth": 0,
              "ticks": ""
             }
            },
            "type": "scattergeo"
           }
          ],
          "scattergl": [
           {
            "marker": {
             "colorbar": {
              "outlinewidth": 0,
              "ticks": ""
             }
            },
            "type": "scattergl"
           }
          ],
          "scattermapbox": [
           {
            "marker": {
             "colorbar": {
              "outlinewidth": 0,
              "ticks": ""
             }
            },
            "type": "scattermapbox"
           }
          ],
          "scatterpolar": [
           {
            "marker": {
             "colorbar": {
              "outlinewidth": 0,
              "ticks": ""
             }
            },
            "type": "scatterpolar"
           }
          ],
          "scatterpolargl": [
           {
            "marker": {
             "colorbar": {
              "outlinewidth": 0,
              "ticks": ""
             }
            },
            "type": "scatterpolargl"
           }
          ],
          "scatterternary": [
           {
            "marker": {
             "colorbar": {
              "outlinewidth": 0,
              "ticks": ""
             }
            },
            "type": "scatterternary"
           }
          ],
          "surface": [
           {
            "colorbar": {
             "outlinewidth": 0,
             "ticks": ""
            },
            "colorscale": [
             [
              0,
              "#0d0887"
             ],
             [
              0.1111111111111111,
              "#46039f"
             ],
             [
              0.2222222222222222,
              "#7201a8"
             ],
             [
              0.3333333333333333,
              "#9c179e"
             ],
             [
              0.4444444444444444,
              "#bd3786"
             ],
             [
              0.5555555555555556,
              "#d8576b"
             ],
             [
              0.6666666666666666,
              "#ed7953"
             ],
             [
              0.7777777777777778,
              "#fb9f3a"
             ],
             [
              0.8888888888888888,
              "#fdca26"
             ],
             [
              1,
              "#f0f921"
             ]
            ],
            "type": "surface"
           }
          ],
          "table": [
           {
            "cells": {
             "fill": {
              "color": "#EBF0F8"
             },
             "line": {
              "color": "white"
             }
            },
            "header": {
             "fill": {
              "color": "#C8D4E3"
             },
             "line": {
              "color": "white"
             }
            },
            "type": "table"
           }
          ]
         },
         "layout": {
          "annotationdefaults": {
           "arrowcolor": "#2a3f5f",
           "arrowhead": 0,
           "arrowwidth": 1
          },
          "autotypenumbers": "strict",
          "coloraxis": {
           "colorbar": {
            "outlinewidth": 0,
            "ticks": ""
           }
          },
          "colorscale": {
           "diverging": [
            [
             0,
             "#8e0152"
            ],
            [
             0.1,
             "#c51b7d"
            ],
            [
             0.2,
             "#de77ae"
            ],
            [
             0.3,
             "#f1b6da"
            ],
            [
             0.4,
             "#fde0ef"
            ],
            [
             0.5,
             "#f7f7f7"
            ],
            [
             0.6,
             "#e6f5d0"
            ],
            [
             0.7,
             "#b8e186"
            ],
            [
             0.8,
             "#7fbc41"
            ],
            [
             0.9,
             "#4d9221"
            ],
            [
             1,
             "#276419"
            ]
           ],
           "sequential": [
            [
             0,
             "#0d0887"
            ],
            [
             0.1111111111111111,
             "#46039f"
            ],
            [
             0.2222222222222222,
             "#7201a8"
            ],
            [
             0.3333333333333333,
             "#9c179e"
            ],
            [
             0.4444444444444444,
             "#bd3786"
            ],
            [
             0.5555555555555556,
             "#d8576b"
            ],
            [
             0.6666666666666666,
             "#ed7953"
            ],
            [
             0.7777777777777778,
             "#fb9f3a"
            ],
            [
             0.8888888888888888,
             "#fdca26"
            ],
            [
             1,
             "#f0f921"
            ]
           ],
           "sequentialminus": [
            [
             0,
             "#0d0887"
            ],
            [
             0.1111111111111111,
             "#46039f"
            ],
            [
             0.2222222222222222,
             "#7201a8"
            ],
            [
             0.3333333333333333,
             "#9c179e"
            ],
            [
             0.4444444444444444,
             "#bd3786"
            ],
            [
             0.5555555555555556,
             "#d8576b"
            ],
            [
             0.6666666666666666,
             "#ed7953"
            ],
            [
             0.7777777777777778,
             "#fb9f3a"
            ],
            [
             0.8888888888888888,
             "#fdca26"
            ],
            [
             1,
             "#f0f921"
            ]
           ]
          },
          "colorway": [
           "#636efa",
           "#EF553B",
           "#00cc96",
           "#ab63fa",
           "#FFA15A",
           "#19d3f3",
           "#FF6692",
           "#B6E880",
           "#FF97FF",
           "#FECB52"
          ],
          "font": {
           "color": "#2a3f5f"
          },
          "geo": {
           "bgcolor": "white",
           "lakecolor": "white",
           "landcolor": "#E5ECF6",
           "showlakes": true,
           "showland": true,
           "subunitcolor": "white"
          },
          "hoverlabel": {
           "align": "left"
          },
          "hovermode": "closest",
          "mapbox": {
           "style": "light"
          },
          "paper_bgcolor": "white",
          "plot_bgcolor": "#E5ECF6",
          "polar": {
           "angularaxis": {
            "gridcolor": "white",
            "linecolor": "white",
            "ticks": ""
           },
           "bgcolor": "#E5ECF6",
           "radialaxis": {
            "gridcolor": "white",
            "linecolor": "white",
            "ticks": ""
           }
          },
          "scene": {
           "xaxis": {
            "backgroundcolor": "#E5ECF6",
            "gridcolor": "white",
            "gridwidth": 2,
            "linecolor": "white",
            "showbackground": true,
            "ticks": "",
            "zerolinecolor": "white"
           },
           "yaxis": {
            "backgroundcolor": "#E5ECF6",
            "gridcolor": "white",
            "gridwidth": 2,
            "linecolor": "white",
            "showbackground": true,
            "ticks": "",
            "zerolinecolor": "white"
           },
           "zaxis": {
            "backgroundcolor": "#E5ECF6",
            "gridcolor": "white",
            "gridwidth": 2,
            "linecolor": "white",
            "showbackground": true,
            "ticks": "",
            "zerolinecolor": "white"
           }
          },
          "shapedefaults": {
           "line": {
            "color": "#2a3f5f"
           }
          },
          "ternary": {
           "aaxis": {
            "gridcolor": "white",
            "linecolor": "white",
            "ticks": ""
           },
           "baxis": {
            "gridcolor": "white",
            "linecolor": "white",
            "ticks": ""
           },
           "bgcolor": "#E5ECF6",
           "caxis": {
            "gridcolor": "white",
            "linecolor": "white",
            "ticks": ""
           }
          },
          "title": {
           "x": 0.05
          },
          "xaxis": {
           "automargin": true,
           "gridcolor": "white",
           "linecolor": "white",
           "ticks": "",
           "title": {
            "standoff": 15
           },
           "zerolinecolor": "white",
           "zerolinewidth": 2
          },
          "yaxis": {
           "automargin": true,
           "gridcolor": "white",
           "linecolor": "white",
           "ticks": "",
           "title": {
            "standoff": 15
           },
           "zerolinecolor": "white",
           "zerolinewidth": 2
          }
         }
        },
        "width": 900,
        "xaxis": {
         "anchor": "y",
         "domain": [
          0,
          0.94
         ],
         "gridcolor": "#1f292f",
         "nticks": 5,
         "rangeslider": {
          "visible": false
         }
        },
        "yaxis": {
         "anchor": "x",
         "domain": [
          0,
          1
         ],
         "gridcolor": "#1f292f"
        },
        "yaxis2": {
         "anchor": "x",
         "gridcolor": "#1f292f",
         "overlaying": "y",
         "side": "right"
        }
       }
      }
     },
     "metadata": {},
     "output_type": "display_data"
    },
    {
     "name": "stdout",
     "output_type": "stream",
     "text": [
      "EUR_CAD 563\n"
     ]
    },
    {
     "data": {
      "application/vnd.plotly.v1+json": {
       "config": {
        "plotlyServerURL": "https://plot.ly"
       },
       "data": [
        {
         "line": {
          "shape": "spline",
          "width": 2
         },
         "name": "GAIN_C",
         "type": "scatter",
         "x": [
          "s24-05-06 09:00",
          "s24-05-07 07:00",
          "s24-05-08 17:00",
          "s24-05-09 20:00",
          "s24-05-10 07:00",
          "s24-05-10 08:00",
          "s24-05-10 09:00",
          "s24-05-10 10:00",
          "s24-05-10 12:00",
          "s24-05-13 03:00",
          "s24-05-14 01:00",
          "s24-05-14 10:00",
          "s24-05-15 07:00",
          "s24-05-15 13:00",
          "s24-05-16 16:00",
          "s24-05-19 21:00",
          "s24-05-20 17:00",
          "s24-05-21 02:00",
          "s24-05-21 23:00",
          "s24-05-22 11:00",
          "s24-05-22 17:00",
          "s24-05-22 20:00",
          "s24-05-24 17:00",
          "s24-05-27 09:00",
          "s24-05-27 13:00",
          "s24-05-28 06:00",
          "s24-05-29 00:00",
          "s24-05-29 11:00",
          "s24-05-29 22:00",
          "s24-05-30 09:00",
          "s24-05-30 19:00",
          "s24-05-31 17:00",
          "s24-06-02 22:00",
          "s24-06-03 09:00",
          "s24-06-04 19:00",
          "s24-06-04 21:00",
          "s24-06-05 07:00",
          "s24-06-05 14:00",
          "s24-06-06 07:00",
          "s24-06-06 09:00",
          "s24-06-06 22:00",
          "s24-06-07 08:00",
          "s24-06-07 14:00",
          "s24-06-10 23:00",
          "s24-06-11 11:00",
          "s24-06-12 11:00",
          "s24-06-13 14:00",
          "s24-06-17 04:00",
          "s24-06-18 05:00",
          "s24-06-18 08:00",
          "s24-06-18 21:00",
          "s24-06-19 12:00",
          "s24-06-19 13:00",
          "s24-06-19 16:00",
          "s24-06-19 21:00",
          "s24-06-19 23:00",
          "s24-06-20 02:00",
          "s24-06-23 21:00",
          "s24-06-24 04:00",
          "s24-06-24 05:00",
          "s24-06-24 06:00",
          "s24-06-24 07:00",
          "s24-06-24 22:00",
          "s24-06-26 05:00",
          "s24-06-26 06:00",
          "s24-06-26 18:00",
          "s24-06-28 13:00",
          "s24-07-01 00:00",
          "s24-07-02 09:00",
          "s24-07-03 08:00",
          "s24-07-04 00:00",
          "s24-07-04 16:00",
          "s24-07-08 20:00",
          "s24-07-10 06:00",
          "s24-07-10 17:00",
          "s24-07-11 01:00",
          "s24-07-12 07:00",
          "s24-07-12 12:00",
          "s24-07-16 17:00",
          "s24-07-17 03:00",
          "s24-07-18 06:00",
          "s24-07-19 15:00",
          "s24-07-23 11:00",
          "s24-07-24 02:00",
          "s24-07-24 15:00",
          "s24-07-24 17:00",
          "s24-07-25 21:00",
          "s24-07-26 06:00",
          "s24-07-29 05:00",
          "s24-07-30 00:00",
          "s24-07-30 07:00",
          "s24-07-31 03:00",
          "s24-07-31 13:00",
          "s24-08-01 20:00",
          "s24-08-05 19:00",
          "s24-08-08 00:00",
          "s24-08-08 12:00",
          "s24-08-09 06:00",
          "s24-08-09 20:00",
          "s24-08-12 06:00",
          "s24-08-12 07:00",
          "s24-08-12 09:00",
          "s24-08-12 10:00",
          "s24-08-12 13:00",
          "s24-08-13 09:00",
          "s24-08-13 17:00",
          "s24-08-15 01:00",
          "s24-08-16 03:00",
          "s24-08-20 07:00",
          "s24-08-20 16:00",
          "s24-08-21 07:00",
          "s24-08-21 20:00",
          "s24-08-22 07:00",
          "s24-08-23 03:00",
          "s24-08-23 10:00",
          "s24-08-25 23:00",
          "s24-08-26 08:00",
          "s24-08-27 07:00",
          "s24-08-27 10:00",
          "s24-08-29 02:00",
          "s24-08-29 09:00",
          "s24-08-30 02:00",
          "s24-08-30 11:00",
          "s24-09-02 07:00",
          "s24-09-04 21:00",
          "s24-09-05 09:00",
          "s24-09-06 10:00",
          "s24-09-06 14:00",
          "s24-09-09 07:00",
          "s24-09-10 07:00",
          "s24-09-11 13:00",
          "s24-09-12 12:00",
          "s24-09-16 02:00",
          "s24-09-16 06:00",
          "s24-09-17 07:00",
          "s24-09-17 08:00",
          "s24-09-17 19:00",
          "s24-09-18 07:00",
          "s24-09-19 02:00",
          "s24-09-19 11:00",
          "s24-09-19 13:00",
          "s24-09-19 18:00",
          "s24-09-19 19:00",
          "s24-09-19 22:00",
          "s24-09-20 17:00",
          "s24-09-23 05:00",
          "s24-09-23 06:00",
          "s24-09-24 08:00",
          "s24-09-24 18:00",
          "s24-09-25 05:00",
          "s24-09-25 17:00",
          "s24-09-26 10:00",
          "s24-09-27 09:00",
          "s24-09-27 17:00",
          "s24-09-30 18:00",
          "s24-10-03 02:00",
          "s24-10-04 12:00",
          "s24-10-07 06:00",
          "s24-10-09 00:00",
          "s24-10-09 14:00",
          "s24-10-14 00:00",
          "s24-10-14 07:00",
          "s24-10-14 08:00",
          "s24-10-14 09:00",
          "s24-10-14 18:00",
          "s24-10-15 06:00",
          "s24-10-15 19:00",
          "s24-10-17 10:00",
          "s24-10-17 19:00",
          "s24-10-18 04:00",
          "s24-10-21 10:00",
          "s24-10-22 10:00",
          "s24-10-22 15:00",
          "s24-10-23 22:00",
          "s24-10-24 07:00",
          "s24-10-24 12:00",
          "s24-10-25 10:00",
          "s24-10-25 15:00",
          "s24-10-28 03:00",
          "s24-10-28 10:00",
          "s24-10-29 01:00",
          "s24-10-29 20:00",
          "s24-10-31 08:00",
          "s24-10-31 10:00",
          "s24-11-01 10:00",
          "s24-11-04 02:00",
          "s24-11-04 18:00",
          "s24-11-05 11:00",
          "s24-11-05 22:00",
          "s24-11-06 22:00",
          "s24-11-07 06:00",
          "s24-11-07 14:00",
          "s24-11-08 07:00",
          "s24-11-08 11:00",
          "s24-11-08 15:00",
          "s24-11-12 06:00",
          "s24-11-12 11:00",
          "s24-11-13 03:00",
          "s24-11-13 17:00",
          "s24-11-14 18:00",
          "s24-11-18 03:00",
          "s24-11-18 08:00",
          "s24-11-18 22:00",
          "s24-11-25 02:00",
          "s24-11-26 19:00",
          "s24-11-27 09:00",
          "s24-11-28 03:00",
          "s24-11-28 22:00",
          "s24-12-01 23:00",
          "s24-12-03 11:00",
          "s24-12-04 07:00",
          "s24-12-04 18:00",
          "s24-12-09 08:00",
          "s24-12-09 22:00",
          "s24-12-10 12:00",
          "s24-12-11 02:00",
          "s24-12-11 09:00",
          "s24-12-12 07:00",
          "s24-12-16 15:00",
          "s24-12-16 20:00",
          "s24-12-18 16:00",
          "s24-12-19 10:00",
          "s24-12-19 12:00"
         ],
         "xaxis": "x",
         "y": [
          -0.8000000000008001,
          19.399999999998307,
          23.699999999997612,
          28.49999999999797,
          27.999999999996916,
          27.49999999999586,
          30.89999999999593,
          -15.600000000004496,
          -53.10000000000592,
          -36.90000000000637,
          -40.30000000000644,
          -37.00000000000703,
          -68.50000000000689,
          -55.10000000000571,
          -48.90000000000506,
          -51.10000000000615,
          -58.60000000000643,
          -57.3000000000068,
          -57.50000000000811,
          -48.300000000007785,
          -52.900000000006834,
          -60.10000000000737,
          -84.80000000000709,
          -120.70000000000691,
          -140.10000000000744,
          -142.7000000000067,
          -157.4000000000053,
          -172.20000000000454,
          -188.80000000000447,
          -206.50000000000497,
          -176.4000000000054,
          -177.30000000000464,
          -195.30000000000487,
          -118.40000000000514,
          -119.80000000000543,
          -138.10000000000542,
          -179.90000000000393,
          -197.8000000000035,
          -200.50000000000344,
          -203.7000000000022,
          -216.30000000000038,
          -260.7999999999988,
          -216.49999999999727,
          -243.39999999999586,
          -251.89999999999603,
          -229.29999999999674,
          -122.89999999999692,
          -104.49999999999628,
          -117.89999999999525,
          -126.49999999999386,
          -121.79999999999194,
          -126.79999999999139,
          -141.6999999999913,
          -151.39999999999046,
          -153.69999999998998,
          -154.89999999998895,
          -68.09999999998874,
          -64.89999999998997,
          -66.59999999999,
          -64.09999999998917,
          -71.69999999998788,
          -70.29999999998759,
          -33.099999999988135,
          -44.19999999998758,
          -68.4999999999869,
          -48.09999999998648,
          -87.09999999998662,
          -72.89999999998685,
          -78.79999999998775,
          -83.89999999998786,
          -88.09999999998651,
          -43.19999999998546,
          -40.599999999983964,
          -58.599999999984206,
          -79.09999999998527,
          -19.899999999986022,
          -49.39999999998611,
          1.500000000014282,
          -12.099999999985997,
          21.000000000013245,
          21.10000000001168,
          16.000000000011575,
          3.9000000000122412,
          13.600000000011395,
          11.400000000010305,
          40.70000000000908,
          39.100000000007476,
          58.30000000000669,
          86.10000000000673,
          82.90000000000796,
          81.60000000000832,
          74.30000000000713,
          79.30000000000658,
          256.50000000000614,
          386.10000000000474,
          355.6000000000048,
          351.900000000005,
          346.3000000000038,
          337.00000000000284,
          326.90000000000106,
          320.7000000000004,
          319.7000000000005,
          301.29999999999984,
          286.1000000000002,
          220.70000000000027,
          259.4999999999991,
          289.499999999998,
          320.4999999999968,
          269.6999999999971,
          254.09999999999704,
          231.49999999999554,
          193.09999999999488,
          187.09999999999553,
          169.79999999999544,
          161.69999999999345,
          144.4999999999918,
          196.89999999999088,
          184.89999999998997,
          225.8999999999899,
          159.4999999999901,
          153.9999999999896,
          157.59999999998877,
          160.2999999999887,
          197.69999999998947,
          178.09999999998985,
          175.89999999999097,
          131.29999999999188,
          99.69999999999136,
          122.99999999999079,
          134.09999999999025,
          145.09999999998902,
          221.69999999998902,
          187.79999999998898,
          228.09999999998877,
          217.89999999998855,
          194.29999999998716,
          183.49999999998747,
          168.29999999998782,
          153.69999999998765,
          137.99999999998917,
          112.59999999998931,
          109.69999999998808,
          107.09999999998881,
          107.69999999999052,
          105.9999999999905,
          105.89999999998983,
          190.1999999999892,
          148.29999999998782,
          118.29999999998668,
          81.79999999998515,
          67.29999999998341,
          90.6999999999835,
          36.39999999998527,
          -5.700000000012977,
          129.39999999998835,
          96.69999999998952,
          80.69999999998906,
          163.89999999998787,
          162.89999999998798,
          225.8999999999877,
          214.89999999998668,
          218.9999999999869,
          207.29999999998796,
          170.699999999988,
          170.699999999988,
          138.499999999988,
          175.69999999998745,
          146.89999999998753,
          134.69999999998754,
          175.89999999998656,
          192.4999999999865,
          157.29999999998682,
          177.89999999998633,
          171.6999999999857,
          162.9999999999842,
          226.9999999999838,
          205.89999999998545,
          188.89999999998733,
          156.1999999999885,
          151.8999999999892,
          119.6999999999892,
          175.99999999998943,
          157.09999999998996,
          160.89999999999043,
          143.19999999998993,
          114.79999999998817,
          107.29999999998789,
          86.99999999998812,
          237.19999999998845,
          203.09999999998934,
          147.39999999998858,
          136.2999999999869,
          119.59999999998631,
          70.69999999998569,
          175.89999999998432,
          165.39999999998437,
          170.49999999998448,
          132.09999999998382,
          105.49999999998275,
          138.29999999998225,
          104.29999999998378,
          89.29999999998543,
          329.29999999998563,
          438.89999999998423,
          390.0999999999843,
          411.4999999999846,
          420.5999999999843,
          409.09999999998445,
          412.2999999999832,
          416.4999999999818,
          397.8999999999821,
          553.1999999999825,
          546.8999999999835,
          501.2999999999845,
          490.6999999999839,
          462.89999999998383,
          480.39999999998525,
          552.699999999986,
          527.1999999999854,
          562.0999999999854,
          597.8999999999868,
          563.699999999987,
          563.699999999987
         ],
         "yaxis": "y"
        }
       ],
       "layout": {
        "font": {
         "color": "#e1e1e1",
         "size": 8
        },
        "height": 400,
        "margin": {
         "b": 10,
         "l": 10,
         "r": 10,
         "t": 10
        },
        "paper_bgcolor": "#2c303c",
        "plot_bgcolor": "#2c303c",
        "template": {
         "data": {
          "bar": [
           {
            "error_x": {
             "color": "#2a3f5f"
            },
            "error_y": {
             "color": "#2a3f5f"
            },
            "marker": {
             "line": {
              "color": "#E5ECF6",
              "width": 0.5
             },
             "pattern": {
              "fillmode": "overlay",
              "size": 10,
              "solidity": 0.2
             }
            },
            "type": "bar"
           }
          ],
          "barpolar": [
           {
            "marker": {
             "line": {
              "color": "#E5ECF6",
              "width": 0.5
             },
             "pattern": {
              "fillmode": "overlay",
              "size": 10,
              "solidity": 0.2
             }
            },
            "type": "barpolar"
           }
          ],
          "carpet": [
           {
            "aaxis": {
             "endlinecolor": "#2a3f5f",
             "gridcolor": "white",
             "linecolor": "white",
             "minorgridcolor": "white",
             "startlinecolor": "#2a3f5f"
            },
            "baxis": {
             "endlinecolor": "#2a3f5f",
             "gridcolor": "white",
             "linecolor": "white",
             "minorgridcolor": "white",
             "startlinecolor": "#2a3f5f"
            },
            "type": "carpet"
           }
          ],
          "choropleth": [
           {
            "colorbar": {
             "outlinewidth": 0,
             "ticks": ""
            },
            "type": "choropleth"
           }
          ],
          "contour": [
           {
            "colorbar": {
             "outlinewidth": 0,
             "ticks": ""
            },
            "colorscale": [
             [
              0,
              "#0d0887"
             ],
             [
              0.1111111111111111,
              "#46039f"
             ],
             [
              0.2222222222222222,
              "#7201a8"
             ],
             [
              0.3333333333333333,
              "#9c179e"
             ],
             [
              0.4444444444444444,
              "#bd3786"
             ],
             [
              0.5555555555555556,
              "#d8576b"
             ],
             [
              0.6666666666666666,
              "#ed7953"
             ],
             [
              0.7777777777777778,
              "#fb9f3a"
             ],
             [
              0.8888888888888888,
              "#fdca26"
             ],
             [
              1,
              "#f0f921"
             ]
            ],
            "type": "contour"
           }
          ],
          "contourcarpet": [
           {
            "colorbar": {
             "outlinewidth": 0,
             "ticks": ""
            },
            "type": "contourcarpet"
           }
          ],
          "heatmap": [
           {
            "colorbar": {
             "outlinewidth": 0,
             "ticks": ""
            },
            "colorscale": [
             [
              0,
              "#0d0887"
             ],
             [
              0.1111111111111111,
              "#46039f"
             ],
             [
              0.2222222222222222,
              "#7201a8"
             ],
             [
              0.3333333333333333,
              "#9c179e"
             ],
             [
              0.4444444444444444,
              "#bd3786"
             ],
             [
              0.5555555555555556,
              "#d8576b"
             ],
             [
              0.6666666666666666,
              "#ed7953"
             ],
             [
              0.7777777777777778,
              "#fb9f3a"
             ],
             [
              0.8888888888888888,
              "#fdca26"
             ],
             [
              1,
              "#f0f921"
             ]
            ],
            "type": "heatmap"
           }
          ],
          "heatmapgl": [
           {
            "colorbar": {
             "outlinewidth": 0,
             "ticks": ""
            },
            "colorscale": [
             [
              0,
              "#0d0887"
             ],
             [
              0.1111111111111111,
              "#46039f"
             ],
             [
              0.2222222222222222,
              "#7201a8"
             ],
             [
              0.3333333333333333,
              "#9c179e"
             ],
             [
              0.4444444444444444,
              "#bd3786"
             ],
             [
              0.5555555555555556,
              "#d8576b"
             ],
             [
              0.6666666666666666,
              "#ed7953"
             ],
             [
              0.7777777777777778,
              "#fb9f3a"
             ],
             [
              0.8888888888888888,
              "#fdca26"
             ],
             [
              1,
              "#f0f921"
             ]
            ],
            "type": "heatmapgl"
           }
          ],
          "histogram": [
           {
            "marker": {
             "pattern": {
              "fillmode": "overlay",
              "size": 10,
              "solidity": 0.2
             }
            },
            "type": "histogram"
           }
          ],
          "histogram2d": [
           {
            "colorbar": {
             "outlinewidth": 0,
             "ticks": ""
            },
            "colorscale": [
             [
              0,
              "#0d0887"
             ],
             [
              0.1111111111111111,
              "#46039f"
             ],
             [
              0.2222222222222222,
              "#7201a8"
             ],
             [
              0.3333333333333333,
              "#9c179e"
             ],
             [
              0.4444444444444444,
              "#bd3786"
             ],
             [
              0.5555555555555556,
              "#d8576b"
             ],
             [
              0.6666666666666666,
              "#ed7953"
             ],
             [
              0.7777777777777778,
              "#fb9f3a"
             ],
             [
              0.8888888888888888,
              "#fdca26"
             ],
             [
              1,
              "#f0f921"
             ]
            ],
            "type": "histogram2d"
           }
          ],
          "histogram2dcontour": [
           {
            "colorbar": {
             "outlinewidth": 0,
             "ticks": ""
            },
            "colorscale": [
             [
              0,
              "#0d0887"
             ],
             [
              0.1111111111111111,
              "#46039f"
             ],
             [
              0.2222222222222222,
              "#7201a8"
             ],
             [
              0.3333333333333333,
              "#9c179e"
             ],
             [
              0.4444444444444444,
              "#bd3786"
             ],
             [
              0.5555555555555556,
              "#d8576b"
             ],
             [
              0.6666666666666666,
              "#ed7953"
             ],
             [
              0.7777777777777778,
              "#fb9f3a"
             ],
             [
              0.8888888888888888,
              "#fdca26"
             ],
             [
              1,
              "#f0f921"
             ]
            ],
            "type": "histogram2dcontour"
           }
          ],
          "mesh3d": [
           {
            "colorbar": {
             "outlinewidth": 0,
             "ticks": ""
            },
            "type": "mesh3d"
           }
          ],
          "parcoords": [
           {
            "line": {
             "colorbar": {
              "outlinewidth": 0,
              "ticks": ""
             }
            },
            "type": "parcoords"
           }
          ],
          "pie": [
           {
            "automargin": true,
            "type": "pie"
           }
          ],
          "scatter": [
           {
            "fillpattern": {
             "fillmode": "overlay",
             "size": 10,
             "solidity": 0.2
            },
            "type": "scatter"
           }
          ],
          "scatter3d": [
           {
            "line": {
             "colorbar": {
              "outlinewidth": 0,
              "ticks": ""
             }
            },
            "marker": {
             "colorbar": {
              "outlinewidth": 0,
              "ticks": ""
             }
            },
            "type": "scatter3d"
           }
          ],
          "scattercarpet": [
           {
            "marker": {
             "colorbar": {
              "outlinewidth": 0,
              "ticks": ""
             }
            },
            "type": "scattercarpet"
           }
          ],
          "scattergeo": [
           {
            "marker": {
             "colorbar": {
              "outlinewidth": 0,
              "ticks": ""
             }
            },
            "type": "scattergeo"
           }
          ],
          "scattergl": [
           {
            "marker": {
             "colorbar": {
              "outlinewidth": 0,
              "ticks": ""
             }
            },
            "type": "scattergl"
           }
          ],
          "scattermapbox": [
           {
            "marker": {
             "colorbar": {
              "outlinewidth": 0,
              "ticks": ""
             }
            },
            "type": "scattermapbox"
           }
          ],
          "scatterpolar": [
           {
            "marker": {
             "colorbar": {
              "outlinewidth": 0,
              "ticks": ""
             }
            },
            "type": "scatterpolar"
           }
          ],
          "scatterpolargl": [
           {
            "marker": {
             "colorbar": {
              "outlinewidth": 0,
              "ticks": ""
             }
            },
            "type": "scatterpolargl"
           }
          ],
          "scatterternary": [
           {
            "marker": {
             "colorbar": {
              "outlinewidth": 0,
              "ticks": ""
             }
            },
            "type": "scatterternary"
           }
          ],
          "surface": [
           {
            "colorbar": {
             "outlinewidth": 0,
             "ticks": ""
            },
            "colorscale": [
             [
              0,
              "#0d0887"
             ],
             [
              0.1111111111111111,
              "#46039f"
             ],
             [
              0.2222222222222222,
              "#7201a8"
             ],
             [
              0.3333333333333333,
              "#9c179e"
             ],
             [
              0.4444444444444444,
              "#bd3786"
             ],
             [
              0.5555555555555556,
              "#d8576b"
             ],
             [
              0.6666666666666666,
              "#ed7953"
             ],
             [
              0.7777777777777778,
              "#fb9f3a"
             ],
             [
              0.8888888888888888,
              "#fdca26"
             ],
             [
              1,
              "#f0f921"
             ]
            ],
            "type": "surface"
           }
          ],
          "table": [
           {
            "cells": {
             "fill": {
              "color": "#EBF0F8"
             },
             "line": {
              "color": "white"
             }
            },
            "header": {
             "fill": {
              "color": "#C8D4E3"
             },
             "line": {
              "color": "white"
             }
            },
            "type": "table"
           }
          ]
         },
         "layout": {
          "annotationdefaults": {
           "arrowcolor": "#2a3f5f",
           "arrowhead": 0,
           "arrowwidth": 1
          },
          "autotypenumbers": "strict",
          "coloraxis": {
           "colorbar": {
            "outlinewidth": 0,
            "ticks": ""
           }
          },
          "colorscale": {
           "diverging": [
            [
             0,
             "#8e0152"
            ],
            [
             0.1,
             "#c51b7d"
            ],
            [
             0.2,
             "#de77ae"
            ],
            [
             0.3,
             "#f1b6da"
            ],
            [
             0.4,
             "#fde0ef"
            ],
            [
             0.5,
             "#f7f7f7"
            ],
            [
             0.6,
             "#e6f5d0"
            ],
            [
             0.7,
             "#b8e186"
            ],
            [
             0.8,
             "#7fbc41"
            ],
            [
             0.9,
             "#4d9221"
            ],
            [
             1,
             "#276419"
            ]
           ],
           "sequential": [
            [
             0,
             "#0d0887"
            ],
            [
             0.1111111111111111,
             "#46039f"
            ],
            [
             0.2222222222222222,
             "#7201a8"
            ],
            [
             0.3333333333333333,
             "#9c179e"
            ],
            [
             0.4444444444444444,
             "#bd3786"
            ],
            [
             0.5555555555555556,
             "#d8576b"
            ],
            [
             0.6666666666666666,
             "#ed7953"
            ],
            [
             0.7777777777777778,
             "#fb9f3a"
            ],
            [
             0.8888888888888888,
             "#fdca26"
            ],
            [
             1,
             "#f0f921"
            ]
           ],
           "sequentialminus": [
            [
             0,
             "#0d0887"
            ],
            [
             0.1111111111111111,
             "#46039f"
            ],
            [
             0.2222222222222222,
             "#7201a8"
            ],
            [
             0.3333333333333333,
             "#9c179e"
            ],
            [
             0.4444444444444444,
             "#bd3786"
            ],
            [
             0.5555555555555556,
             "#d8576b"
            ],
            [
             0.6666666666666666,
             "#ed7953"
            ],
            [
             0.7777777777777778,
             "#fb9f3a"
            ],
            [
             0.8888888888888888,
             "#fdca26"
            ],
            [
             1,
             "#f0f921"
            ]
           ]
          },
          "colorway": [
           "#636efa",
           "#EF553B",
           "#00cc96",
           "#ab63fa",
           "#FFA15A",
           "#19d3f3",
           "#FF6692",
           "#B6E880",
           "#FF97FF",
           "#FECB52"
          ],
          "font": {
           "color": "#2a3f5f"
          },
          "geo": {
           "bgcolor": "white",
           "lakecolor": "white",
           "landcolor": "#E5ECF6",
           "showlakes": true,
           "showland": true,
           "subunitcolor": "white"
          },
          "hoverlabel": {
           "align": "left"
          },
          "hovermode": "closest",
          "mapbox": {
           "style": "light"
          },
          "paper_bgcolor": "white",
          "plot_bgcolor": "#E5ECF6",
          "polar": {
           "angularaxis": {
            "gridcolor": "white",
            "linecolor": "white",
            "ticks": ""
           },
           "bgcolor": "#E5ECF6",
           "radialaxis": {
            "gridcolor": "white",
            "linecolor": "white",
            "ticks": ""
           }
          },
          "scene": {
           "xaxis": {
            "backgroundcolor": "#E5ECF6",
            "gridcolor": "white",
            "gridwidth": 2,
            "linecolor": "white",
            "showbackground": true,
            "ticks": "",
            "zerolinecolor": "white"
           },
           "yaxis": {
            "backgroundcolor": "#E5ECF6",
            "gridcolor": "white",
            "gridwidth": 2,
            "linecolor": "white",
            "showbackground": true,
            "ticks": "",
            "zerolinecolor": "white"
           },
           "zaxis": {
            "backgroundcolor": "#E5ECF6",
            "gridcolor": "white",
            "gridwidth": 2,
            "linecolor": "white",
            "showbackground": true,
            "ticks": "",
            "zerolinecolor": "white"
           }
          },
          "shapedefaults": {
           "line": {
            "color": "#2a3f5f"
           }
          },
          "ternary": {
           "aaxis": {
            "gridcolor": "white",
            "linecolor": "white",
            "ticks": ""
           },
           "baxis": {
            "gridcolor": "white",
            "linecolor": "white",
            "ticks": ""
           },
           "bgcolor": "#E5ECF6",
           "caxis": {
            "gridcolor": "white",
            "linecolor": "white",
            "ticks": ""
           }
          },
          "title": {
           "x": 0.05
          },
          "xaxis": {
           "automargin": true,
           "gridcolor": "white",
           "linecolor": "white",
           "ticks": "",
           "title": {
            "standoff": 15
           },
           "zerolinecolor": "white",
           "zerolinewidth": 2
          },
          "yaxis": {
           "automargin": true,
           "gridcolor": "white",
           "linecolor": "white",
           "ticks": "",
           "title": {
            "standoff": 15
           },
           "zerolinecolor": "white",
           "zerolinewidth": 2
          }
         }
        },
        "width": 900,
        "xaxis": {
         "anchor": "y",
         "domain": [
          0,
          0.94
         ],
         "gridcolor": "#1f292f",
         "nticks": 5,
         "rangeslider": {
          "visible": false
         }
        },
        "yaxis": {
         "anchor": "x",
         "domain": [
          0,
          1
         ],
         "gridcolor": "#1f292f"
        },
        "yaxis2": {
         "anchor": "x",
         "gridcolor": "#1f292f",
         "overlaying": "y",
         "side": "right"
        }
       }
      }
     },
     "metadata": {},
     "output_type": "display_data"
    },
    {
     "name": "stdout",
     "output_type": "stream",
     "text": [
      "CAD_JPY 469\n"
     ]
    },
    {
     "data": {
      "application/vnd.plotly.v1+json": {
       "config": {
        "plotlyServerURL": "https://plot.ly"
       },
       "data": [
        {
         "line": {
          "shape": "spline",
          "width": 2
         },
         "name": "GAIN_C",
         "type": "scatter",
         "x": [
          "s24-05-07 16:00",
          "s24-05-08 06:00",
          "s24-05-13 02:00",
          "s24-05-13 12:00",
          "s24-05-15 06:00",
          "s24-05-16 14:00",
          "s24-05-20 12:00",
          "s24-05-20 13:00",
          "s24-05-21 09:00",
          "s24-05-22 02:00",
          "s24-05-22 14:00",
          "s24-05-23 04:00",
          "s24-05-23 19:00",
          "s24-05-24 10:00",
          "s24-05-27 06:00",
          "s24-05-27 12:00",
          "s24-05-28 17:00",
          "s24-05-28 22:00",
          "s24-05-29 08:00",
          "s24-05-30 19:00",
          "s24-06-03 09:00",
          "s24-06-05 02:00",
          "s24-06-05 22:00",
          "s24-06-06 10:00",
          "s24-06-06 20:00",
          "s24-06-07 16:00",
          "s24-06-10 14:00",
          "s24-06-10 20:00",
          "s24-06-11 13:00",
          "s24-06-11 22:00",
          "s24-06-12 15:00",
          "s24-06-13 02:00",
          "s24-06-13 17:00",
          "s24-06-14 02:00",
          "s24-06-14 14:00",
          "s24-06-16 23:00",
          "s24-06-18 10:00",
          "s24-06-18 11:00",
          "s24-06-19 08:00",
          "s24-06-19 13:00",
          "s24-06-21 12:00",
          "s24-06-21 17:00",
          "s24-06-25 07:00",
          "s24-06-25 17:00",
          "s24-06-27 05:00",
          "s24-06-27 14:00",
          "s24-06-28 05:00",
          "s24-06-28 15:00",
          "s24-07-01 16:00",
          "s24-07-02 08:00",
          "s24-07-04 05:00",
          "s24-07-04 21:00",
          "s24-07-05 04:00",
          "s24-07-08 11:00",
          "s24-07-08 22:00",
          "s24-07-09 03:00",
          "s24-07-11 06:00",
          "s24-07-12 06:00",
          "s24-07-12 14:00",
          "s24-07-16 03:00",
          "s24-07-16 18:00",
          "s24-07-17 00:00",
          "s24-07-17 05:00",
          "s24-07-18 09:00",
          "s24-07-19 14:00",
          "s24-07-22 02:00",
          "s24-07-22 05:00",
          "s24-07-22 23:00",
          "s24-07-23 02:00",
          "s24-07-25 17:00",
          "s24-07-26 07:00",
          "s24-07-26 09:00",
          "s24-07-26 19:00",
          "s24-07-29 16:00",
          "s24-07-30 18:00",
          "s24-08-01 13:00",
          "s24-08-01 20:00",
          "s24-08-05 20:00",
          "s24-08-06 14:00",
          "s24-08-06 22:00",
          "s24-08-07 23:00",
          "s24-08-08 15:00",
          "s24-08-09 09:00",
          "s24-08-12 03:00",
          "s24-08-12 22:00",
          "s24-08-13 07:00",
          "s24-08-13 17:00",
          "s24-08-14 06:00",
          "s24-08-16 07:00",
          "s24-08-19 19:00",
          "s24-08-20 14:00",
          "s24-08-21 07:00",
          "s24-08-21 19:00",
          "s24-08-22 07:00",
          "s24-08-23 02:00",
          "s24-08-23 13:00",
          "s24-08-23 20:00",
          "s24-08-26 13:00",
          "s24-08-27 17:00",
          "s24-08-28 05:00",
          "s24-08-28 23:00",
          "s24-08-29 07:00",
          "s24-08-30 00:00",
          "s24-08-30 11:00",
          "s24-09-03 02:00",
          "s24-09-05 23:00",
          "s24-09-06 00:00",
          "s24-09-09 07:00",
          "s24-09-09 20:00",
          "s24-09-10 03:00",
          "s24-09-10 13:00",
          "s24-09-11 16:00",
          "s24-09-12 14:00",
          "s24-09-16 18:00",
          "s24-09-17 08:00",
          "s24-09-17 13:00",
          "s24-09-18 07:00",
          "s24-09-18 15:00",
          "s24-09-19 23:00",
          "s24-09-20 10:00",
          "s24-09-23 11:00",
          "s24-09-23 19:00",
          "s24-09-24 23:00",
          "s24-09-25 05:00",
          "s24-09-26 13:00",
          "s24-09-26 14:00",
          "s24-09-26 15:00",
          "s24-09-26 22:00",
          "s24-09-27 08:00",
          "s24-09-30 13:00",
          "s24-10-01 16:00",
          "s24-10-02 00:00",
          "s24-10-03 12:00",
          "s24-10-04 14:00",
          "s24-10-07 07:00",
          "s24-10-08 19:00",
          "s24-10-10 03:00",
          "s24-10-11 10:00",
          "s24-10-11 11:00",
          "s24-10-11 12:00",
          "s24-10-14 07:00",
          "s24-10-14 10:00",
          "s24-10-15 02:00",
          "s24-10-15 22:00",
          "s24-10-17 07:00",
          "s24-10-17 16:00",
          "s24-10-18 05:00",
          "s24-10-21 11:00",
          "s24-10-24 00:00",
          "s24-10-25 08:00",
          "s24-10-25 19:00",
          "s24-10-27 21:00",
          "s24-10-28 14:00",
          "s24-10-28 22:00",
          "s24-10-29 06:00",
          "s24-10-29 11:00",
          "s24-10-29 22:00",
          "s24-10-30 20:00",
          "s24-10-31 06:00",
          "s24-11-01 09:00",
          "s24-11-04 01:00",
          "s24-11-04 18:00",
          "s24-11-05 19:00",
          "s24-11-06 00:00",
          "s24-11-07 13:00",
          "s24-11-11 01:00",
          "s24-11-12 03:00",
          "s24-11-12 14:00",
          "s24-11-13 18:00",
          "s24-11-13 23:00",
          "s24-11-14 18:00",
          "s24-11-15 05:00",
          "s24-11-15 08:00",
          "s24-11-18 08:00",
          "s24-11-19 05:00",
          "s24-11-19 19:00",
          "s24-11-20 20:00",
          "s24-11-22 14:00",
          "s24-11-22 17:00",
          "s24-11-22 18:00",
          "s24-11-25 05:00",
          "s24-11-28 02:00",
          "s24-11-28 20:00",
          "s24-12-02 05:00",
          "s24-12-02 14:00",
          "s24-12-03 06:00",
          "s24-12-03 15:00",
          "s24-12-04 04:00",
          "s24-12-04 23:00",
          "s24-12-05 15:00",
          "s24-12-06 02:00",
          "s24-12-06 11:00",
          "s24-12-06 14:00",
          "s24-12-09 09:00",
          "s24-12-10 03:00",
          "s24-12-10 12:00",
          "s24-12-11 03:00",
          "s24-12-11 12:00",
          "s24-12-12 04:00",
          "s24-12-12 10:00",
          "s24-12-12 15:00",
          "s24-12-13 07:00",
          "s24-12-17 04:00",
          "s24-12-18 14:00",
          "s24-12-19 00:00",
          "s24-12-19 06:00"
         ],
         "xaxis": "x",
         "y": [
          -18.999999999999773,
          78.60000000000014,
          70.70000000000078,
          136.40000000000043,
          188.7999999999991,
          238.29999999999814,
          225.1999999999981,
          211.99999999999903,
          201.9999999999996,
          185.99999999999994,
          179.50000000000017,
          146.20000000000033,
          123.30000000000041,
          157.99999999999983,
          150.19999999999953,
          172.79999999999944,
          161.19999999999948,
          140.69999999999965,
          177.59999999999962,
          209.19999999999987,
          329.9999999999997,
          338.7999999999991,
          322.1999999999994,
          306.7999999999998,
          293.39999999999975,
          285.2000000000004,
          260.00000000000085,
          245.80000000000126,
          222.80000000000229,
          183.6000000000027,
          140.40000000000248,
          128.60000000000298,
          90.70000000000391,
          77.60000000000389,
          47.20000000000368,
          76.20000000000431,
          82.90000000000504,
          93.80000000000592,
          76.60000000000622,
          156.0000000000059,
          111.30000000000564,
          151.00000000000477,
          138.50000000000477,
          153.60000000000582,
          135.20000000000607,
          127.00000000000529,
          95.00000000000455,
          98.00000000000466,
          87.4000000000052,
          167.00000000000585,
          171.80000000000604,
          134.7000000000051,
          130.80000000000496,
          112.8000000000057,
          95.2000000000055,
          155.60000000000542,
          346.200000000006,
          245.20000000000692,
          229.40000000000822,
          211.80000000000945,
          202.30000000000956,
          159.80000000000842,
          260.2000000000075,
          280.8000000000078,
          267.80000000000825,
          223.80000000000848,
          255.2000000000092,
          233.40000000001027,
          458.10000000001025,
          446.60000000000935,
          428.30000000000865,
          383.5000000000079,
          392.6000000000073,
          349.6000000000066,
          507.50000000000597,
          364.00000000000574,
          698.3000000000061,
          734.800000000007,
          713.0000000000081,
          863.7000000000086,
          797.7000000000089,
          813.4000000000085,
          816.9000000000082,
          809.0000000000089,
          747.0000000000098,
          683.8000000000106,
          658.2000000000106,
          781.4000000000106,
          884.2000000000112,
          813.4000000000113,
          764.0000000000114,
          697.0000000000111,
          662.8000000000113,
          670.8000000000111,
          606.6000000000101,
          522.2000000000094,
          499.60000000000946,
          504.80000000001013,
          494.60000000000974,
          487.80000000000996,
          448.30000000001036,
          423.2000000000099,
          366.0000000000096,
          427.2000000000091,
          655.8000000000093,
          640.20000000001,
          693.1000000000097,
          698.0000000000089,
          697.6000000000083,
          660.1000000000083,
          732.4000000000083,
          764.200000000008,
          893.0000000000077,
          889.2000000000066,
          829.6000000000063,
          862.4000000000066,
          872.4000000000074,
          974.8000000000075,
          877.0000000000066,
          845.6000000000058,
          822.2000000000049,
          850.300000000004,
          838.0000000000036,
          899.8000000000031,
          873.2000000000025,
          863.6000000000022,
          848.6000000000016,
          707.8000000000015,
          726.4000000000023,
          766.0000000000023,
          741.3000000000022,
          924.000000000002,
          830.4000000000013,
          802.4000000000012,
          848.2000000000011,
          871.3000000000005,
          931.5999999999999,
          921.6000000000005,
          898.0000000000015,
          894.6000000000023,
          895.0000000000027,
          896.8000000000028,
          902.500000000003,
          936.0000000000038,
          909.3000000000042,
          881.7000000000046,
          897.8000000000047,
          1090.3000000000045,
          1160.0000000000048,
          1143.400000000005,
          1089.800000000005,
          1089.4000000000044,
          1065.200000000004,
          1046.0000000000032,
          996.1000000000022,
          947.6000000000022,
          928.6000000000024,
          830.7000000000025,
          799.2000000000028,
          746.6000000000031,
          716.8000000000043,
          713.2000000000055,
          642.4000000000057,
          689.8000000000046,
          738.0000000000045,
          743.7000000000048,
          684.000000000004,
          733.3000000000035,
          752.0000000000032,
          749.900000000003,
          730.6000000000033,
          676.0000000000027,
          757.400000000002,
          781.200000000002,
          717.4000000000015,
          761.6000000000008,
          806.0000000000011,
          801.7000000000019,
          803.6000000000024,
          794.800000000003,
          1048.600000000004,
          1049.800000000004,
          1117.0000000000036,
          1034.6000000000038,
          1006.1000000000041,
          922.2000000000043,
          863.0000000000043,
          898.3000000000052,
          890.6000000000054,
          860.6000000000056,
          820.200000000006,
          695.6000000000065,
          651.6000000000067,
          667.8000000000059,
          600.8000000000056,
          581.6000000000063,
          519.6000000000072,
          516.6000000000071,
          505.4000000000062,
          472.6000000000059,
          474.6000000000055,
          543.4000000000058,
          602.000000000007,
          571.6000000000083,
          469.0000000000087,
          469.0000000000087
         ],
         "yaxis": "y"
        }
       ],
       "layout": {
        "font": {
         "color": "#e1e1e1",
         "size": 8
        },
        "height": 400,
        "margin": {
         "b": 10,
         "l": 10,
         "r": 10,
         "t": 10
        },
        "paper_bgcolor": "#2c303c",
        "plot_bgcolor": "#2c303c",
        "template": {
         "data": {
          "bar": [
           {
            "error_x": {
             "color": "#2a3f5f"
            },
            "error_y": {
             "color": "#2a3f5f"
            },
            "marker": {
             "line": {
              "color": "#E5ECF6",
              "width": 0.5
             },
             "pattern": {
              "fillmode": "overlay",
              "size": 10,
              "solidity": 0.2
             }
            },
            "type": "bar"
           }
          ],
          "barpolar": [
           {
            "marker": {
             "line": {
              "color": "#E5ECF6",
              "width": 0.5
             },
             "pattern": {
              "fillmode": "overlay",
              "size": 10,
              "solidity": 0.2
             }
            },
            "type": "barpolar"
           }
          ],
          "carpet": [
           {
            "aaxis": {
             "endlinecolor": "#2a3f5f",
             "gridcolor": "white",
             "linecolor": "white",
             "minorgridcolor": "white",
             "startlinecolor": "#2a3f5f"
            },
            "baxis": {
             "endlinecolor": "#2a3f5f",
             "gridcolor": "white",
             "linecolor": "white",
             "minorgridcolor": "white",
             "startlinecolor": "#2a3f5f"
            },
            "type": "carpet"
           }
          ],
          "choropleth": [
           {
            "colorbar": {
             "outlinewidth": 0,
             "ticks": ""
            },
            "type": "choropleth"
           }
          ],
          "contour": [
           {
            "colorbar": {
             "outlinewidth": 0,
             "ticks": ""
            },
            "colorscale": [
             [
              0,
              "#0d0887"
             ],
             [
              0.1111111111111111,
              "#46039f"
             ],
             [
              0.2222222222222222,
              "#7201a8"
             ],
             [
              0.3333333333333333,
              "#9c179e"
             ],
             [
              0.4444444444444444,
              "#bd3786"
             ],
             [
              0.5555555555555556,
              "#d8576b"
             ],
             [
              0.6666666666666666,
              "#ed7953"
             ],
             [
              0.7777777777777778,
              "#fb9f3a"
             ],
             [
              0.8888888888888888,
              "#fdca26"
             ],
             [
              1,
              "#f0f921"
             ]
            ],
            "type": "contour"
           }
          ],
          "contourcarpet": [
           {
            "colorbar": {
             "outlinewidth": 0,
             "ticks": ""
            },
            "type": "contourcarpet"
           }
          ],
          "heatmap": [
           {
            "colorbar": {
             "outlinewidth": 0,
             "ticks": ""
            },
            "colorscale": [
             [
              0,
              "#0d0887"
             ],
             [
              0.1111111111111111,
              "#46039f"
             ],
             [
              0.2222222222222222,
              "#7201a8"
             ],
             [
              0.3333333333333333,
              "#9c179e"
             ],
             [
              0.4444444444444444,
              "#bd3786"
             ],
             [
              0.5555555555555556,
              "#d8576b"
             ],
             [
              0.6666666666666666,
              "#ed7953"
             ],
             [
              0.7777777777777778,
              "#fb9f3a"
             ],
             [
              0.8888888888888888,
              "#fdca26"
             ],
             [
              1,
              "#f0f921"
             ]
            ],
            "type": "heatmap"
           }
          ],
          "heatmapgl": [
           {
            "colorbar": {
             "outlinewidth": 0,
             "ticks": ""
            },
            "colorscale": [
             [
              0,
              "#0d0887"
             ],
             [
              0.1111111111111111,
              "#46039f"
             ],
             [
              0.2222222222222222,
              "#7201a8"
             ],
             [
              0.3333333333333333,
              "#9c179e"
             ],
             [
              0.4444444444444444,
              "#bd3786"
             ],
             [
              0.5555555555555556,
              "#d8576b"
             ],
             [
              0.6666666666666666,
              "#ed7953"
             ],
             [
              0.7777777777777778,
              "#fb9f3a"
             ],
             [
              0.8888888888888888,
              "#fdca26"
             ],
             [
              1,
              "#f0f921"
             ]
            ],
            "type": "heatmapgl"
           }
          ],
          "histogram": [
           {
            "marker": {
             "pattern": {
              "fillmode": "overlay",
              "size": 10,
              "solidity": 0.2
             }
            },
            "type": "histogram"
           }
          ],
          "histogram2d": [
           {
            "colorbar": {
             "outlinewidth": 0,
             "ticks": ""
            },
            "colorscale": [
             [
              0,
              "#0d0887"
             ],
             [
              0.1111111111111111,
              "#46039f"
             ],
             [
              0.2222222222222222,
              "#7201a8"
             ],
             [
              0.3333333333333333,
              "#9c179e"
             ],
             [
              0.4444444444444444,
              "#bd3786"
             ],
             [
              0.5555555555555556,
              "#d8576b"
             ],
             [
              0.6666666666666666,
              "#ed7953"
             ],
             [
              0.7777777777777778,
              "#fb9f3a"
             ],
             [
              0.8888888888888888,
              "#fdca26"
             ],
             [
              1,
              "#f0f921"
             ]
            ],
            "type": "histogram2d"
           }
          ],
          "histogram2dcontour": [
           {
            "colorbar": {
             "outlinewidth": 0,
             "ticks": ""
            },
            "colorscale": [
             [
              0,
              "#0d0887"
             ],
             [
              0.1111111111111111,
              "#46039f"
             ],
             [
              0.2222222222222222,
              "#7201a8"
             ],
             [
              0.3333333333333333,
              "#9c179e"
             ],
             [
              0.4444444444444444,
              "#bd3786"
             ],
             [
              0.5555555555555556,
              "#d8576b"
             ],
             [
              0.6666666666666666,
              "#ed7953"
             ],
             [
              0.7777777777777778,
              "#fb9f3a"
             ],
             [
              0.8888888888888888,
              "#fdca26"
             ],
             [
              1,
              "#f0f921"
             ]
            ],
            "type": "histogram2dcontour"
           }
          ],
          "mesh3d": [
           {
            "colorbar": {
             "outlinewidth": 0,
             "ticks": ""
            },
            "type": "mesh3d"
           }
          ],
          "parcoords": [
           {
            "line": {
             "colorbar": {
              "outlinewidth": 0,
              "ticks": ""
             }
            },
            "type": "parcoords"
           }
          ],
          "pie": [
           {
            "automargin": true,
            "type": "pie"
           }
          ],
          "scatter": [
           {
            "fillpattern": {
             "fillmode": "overlay",
             "size": 10,
             "solidity": 0.2
            },
            "type": "scatter"
           }
          ],
          "scatter3d": [
           {
            "line": {
             "colorbar": {
              "outlinewidth": 0,
              "ticks": ""
             }
            },
            "marker": {
             "colorbar": {
              "outlinewidth": 0,
              "ticks": ""
             }
            },
            "type": "scatter3d"
           }
          ],
          "scattercarpet": [
           {
            "marker": {
             "colorbar": {
              "outlinewidth": 0,
              "ticks": ""
             }
            },
            "type": "scattercarpet"
           }
          ],
          "scattergeo": [
           {
            "marker": {
             "colorbar": {
              "outlinewidth": 0,
              "ticks": ""
             }
            },
            "type": "scattergeo"
           }
          ],
          "scattergl": [
           {
            "marker": {
             "colorbar": {
              "outlinewidth": 0,
              "ticks": ""
             }
            },
            "type": "scattergl"
           }
          ],
          "scattermapbox": [
           {
            "marker": {
             "colorbar": {
              "outlinewidth": 0,
              "ticks": ""
             }
            },
            "type": "scattermapbox"
           }
          ],
          "scatterpolar": [
           {
            "marker": {
             "colorbar": {
              "outlinewidth": 0,
              "ticks": ""
             }
            },
            "type": "scatterpolar"
           }
          ],
          "scatterpolargl": [
           {
            "marker": {
             "colorbar": {
              "outlinewidth": 0,
              "ticks": ""
             }
            },
            "type": "scatterpolargl"
           }
          ],
          "scatterternary": [
           {
            "marker": {
             "colorbar": {
              "outlinewidth": 0,
              "ticks": ""
             }
            },
            "type": "scatterternary"
           }
          ],
          "surface": [
           {
            "colorbar": {
             "outlinewidth": 0,
             "ticks": ""
            },
            "colorscale": [
             [
              0,
              "#0d0887"
             ],
             [
              0.1111111111111111,
              "#46039f"
             ],
             [
              0.2222222222222222,
              "#7201a8"
             ],
             [
              0.3333333333333333,
              "#9c179e"
             ],
             [
              0.4444444444444444,
              "#bd3786"
             ],
             [
              0.5555555555555556,
              "#d8576b"
             ],
             [
              0.6666666666666666,
              "#ed7953"
             ],
             [
              0.7777777777777778,
              "#fb9f3a"
             ],
             [
              0.8888888888888888,
              "#fdca26"
             ],
             [
              1,
              "#f0f921"
             ]
            ],
            "type": "surface"
           }
          ],
          "table": [
           {
            "cells": {
             "fill": {
              "color": "#EBF0F8"
             },
             "line": {
              "color": "white"
             }
            },
            "header": {
             "fill": {
              "color": "#C8D4E3"
             },
             "line": {
              "color": "white"
             }
            },
            "type": "table"
           }
          ]
         },
         "layout": {
          "annotationdefaults": {
           "arrowcolor": "#2a3f5f",
           "arrowhead": 0,
           "arrowwidth": 1
          },
          "autotypenumbers": "strict",
          "coloraxis": {
           "colorbar": {
            "outlinewidth": 0,
            "ticks": ""
           }
          },
          "colorscale": {
           "diverging": [
            [
             0,
             "#8e0152"
            ],
            [
             0.1,
             "#c51b7d"
            ],
            [
             0.2,
             "#de77ae"
            ],
            [
             0.3,
             "#f1b6da"
            ],
            [
             0.4,
             "#fde0ef"
            ],
            [
             0.5,
             "#f7f7f7"
            ],
            [
             0.6,
             "#e6f5d0"
            ],
            [
             0.7,
             "#b8e186"
            ],
            [
             0.8,
             "#7fbc41"
            ],
            [
             0.9,
             "#4d9221"
            ],
            [
             1,
             "#276419"
            ]
           ],
           "sequential": [
            [
             0,
             "#0d0887"
            ],
            [
             0.1111111111111111,
             "#46039f"
            ],
            [
             0.2222222222222222,
             "#7201a8"
            ],
            [
             0.3333333333333333,
             "#9c179e"
            ],
            [
             0.4444444444444444,
             "#bd3786"
            ],
            [
             0.5555555555555556,
             "#d8576b"
            ],
            [
             0.6666666666666666,
             "#ed7953"
            ],
            [
             0.7777777777777778,
             "#fb9f3a"
            ],
            [
             0.8888888888888888,
             "#fdca26"
            ],
            [
             1,
             "#f0f921"
            ]
           ],
           "sequentialminus": [
            [
             0,
             "#0d0887"
            ],
            [
             0.1111111111111111,
             "#46039f"
            ],
            [
             0.2222222222222222,
             "#7201a8"
            ],
            [
             0.3333333333333333,
             "#9c179e"
            ],
            [
             0.4444444444444444,
             "#bd3786"
            ],
            [
             0.5555555555555556,
             "#d8576b"
            ],
            [
             0.6666666666666666,
             "#ed7953"
            ],
            [
             0.7777777777777778,
             "#fb9f3a"
            ],
            [
             0.8888888888888888,
             "#fdca26"
            ],
            [
             1,
             "#f0f921"
            ]
           ]
          },
          "colorway": [
           "#636efa",
           "#EF553B",
           "#00cc96",
           "#ab63fa",
           "#FFA15A",
           "#19d3f3",
           "#FF6692",
           "#B6E880",
           "#FF97FF",
           "#FECB52"
          ],
          "font": {
           "color": "#2a3f5f"
          },
          "geo": {
           "bgcolor": "white",
           "lakecolor": "white",
           "landcolor": "#E5ECF6",
           "showlakes": true,
           "showland": true,
           "subunitcolor": "white"
          },
          "hoverlabel": {
           "align": "left"
          },
          "hovermode": "closest",
          "mapbox": {
           "style": "light"
          },
          "paper_bgcolor": "white",
          "plot_bgcolor": "#E5ECF6",
          "polar": {
           "angularaxis": {
            "gridcolor": "white",
            "linecolor": "white",
            "ticks": ""
           },
           "bgcolor": "#E5ECF6",
           "radialaxis": {
            "gridcolor": "white",
            "linecolor": "white",
            "ticks": ""
           }
          },
          "scene": {
           "xaxis": {
            "backgroundcolor": "#E5ECF6",
            "gridcolor": "white",
            "gridwidth": 2,
            "linecolor": "white",
            "showbackground": true,
            "ticks": "",
            "zerolinecolor": "white"
           },
           "yaxis": {
            "backgroundcolor": "#E5ECF6",
            "gridcolor": "white",
            "gridwidth": 2,
            "linecolor": "white",
            "showbackground": true,
            "ticks": "",
            "zerolinecolor": "white"
           },
           "zaxis": {
            "backgroundcolor": "#E5ECF6",
            "gridcolor": "white",
            "gridwidth": 2,
            "linecolor": "white",
            "showbackground": true,
            "ticks": "",
            "zerolinecolor": "white"
           }
          },
          "shapedefaults": {
           "line": {
            "color": "#2a3f5f"
           }
          },
          "ternary": {
           "aaxis": {
            "gridcolor": "white",
            "linecolor": "white",
            "ticks": ""
           },
           "baxis": {
            "gridcolor": "white",
            "linecolor": "white",
            "ticks": ""
           },
           "bgcolor": "#E5ECF6",
           "caxis": {
            "gridcolor": "white",
            "linecolor": "white",
            "ticks": ""
           }
          },
          "title": {
           "x": 0.05
          },
          "xaxis": {
           "automargin": true,
           "gridcolor": "white",
           "linecolor": "white",
           "ticks": "",
           "title": {
            "standoff": 15
           },
           "zerolinecolor": "white",
           "zerolinewidth": 2
          },
          "yaxis": {
           "automargin": true,
           "gridcolor": "white",
           "linecolor": "white",
           "ticks": "",
           "title": {
            "standoff": 15
           },
           "zerolinecolor": "white",
           "zerolinewidth": 2
          }
         }
        },
        "width": 900,
        "xaxis": {
         "anchor": "y",
         "domain": [
          0,
          0.94
         ],
         "gridcolor": "#1f292f",
         "nticks": 5,
         "rangeslider": {
          "visible": false
         }
        },
        "yaxis": {
         "anchor": "x",
         "domain": [
          0,
          1
         ],
         "gridcolor": "#1f292f"
        },
        "yaxis2": {
         "anchor": "x",
         "gridcolor": "#1f292f",
         "overlaying": "y",
         "side": "right"
        }
       }
      }
     },
     "metadata": {},
     "output_type": "display_data"
    },
    {
     "name": "stdout",
     "output_type": "stream",
     "text": [
      "GBP_CAD 245\n"
     ]
    },
    {
     "data": {
      "application/vnd.plotly.v1+json": {
       "config": {
        "plotlyServerURL": "https://plot.ly"
       },
       "data": [
        {
         "line": {
          "shape": "spline",
          "width": 2
         },
         "name": "GAIN_C",
         "type": "scatter",
         "x": [
          "s24-05-06 19:00",
          "s24-05-07 17:00",
          "s24-05-08 04:00",
          "s24-05-08 11:00",
          "s24-05-08 13:00",
          "s24-05-10 03:00",
          "s24-05-10 14:00",
          "s24-05-13 01:00",
          "s24-05-14 08:00",
          "s24-05-14 19:00",
          "s24-05-15 08:00",
          "s24-05-15 12:00",
          "s24-05-16 15:00",
          "s24-05-17 13:00",
          "s24-05-20 09:00",
          "s24-05-20 12:00",
          "s24-05-22 03:00",
          "s24-05-22 07:00",
          "s24-05-23 09:00",
          "s24-05-23 18:00",
          "s24-05-24 16:00",
          "s24-05-27 08:00",
          "s24-05-27 22:00",
          "s24-05-28 12:00",
          "s24-05-29 01:00",
          "s24-05-29 08:00",
          "s24-05-29 22:00",
          "s24-05-30 09:00",
          "s24-05-30 18:00",
          "s24-06-03 05:00",
          "s24-06-03 06:00",
          "s24-06-03 09:00",
          "s24-06-05 02:00",
          "s24-06-05 12:00",
          "s24-06-06 07:00",
          "s24-06-07 10:00",
          "s24-06-09 21:00",
          "s24-06-09 22:00",
          "s24-06-10 11:00",
          "s24-06-10 18:00",
          "s24-06-11 21:00",
          "s24-06-12 08:00",
          "s24-06-13 03:00",
          "s24-06-13 14:00",
          "s24-06-13 15:00",
          "s24-06-17 17:00",
          "s24-06-18 09:00",
          "s24-06-18 10:00",
          "s24-06-18 14:00",
          "s24-06-19 02:00",
          "s24-06-19 19:00",
          "s24-06-23 21:00",
          "s24-06-23 22:00",
          "s24-06-23 23:00",
          "s24-06-24 04:00",
          "s24-06-24 12:00",
          "s24-06-25 01:00",
          "s24-06-25 02:00",
          "s24-06-25 03:00",
          "s24-06-25 09:00",
          "s24-06-25 20:00",
          "s24-06-26 01:00",
          "s24-06-26 09:00",
          "s24-06-27 06:00",
          "s24-06-28 15:00",
          "s24-07-01 06:00",
          "s24-07-02 07:00",
          "s24-07-03 08:00",
          "s24-07-04 03:00",
          "s24-07-04 04:00",
          "s24-07-04 05:00",
          "s24-07-05 03:00",
          "s24-07-08 22:00",
          "s24-07-09 14:00",
          "s24-07-09 15:00",
          "s24-07-10 08:00",
          "s24-07-12 07:00",
          "s24-07-12 10:00",
          "s24-07-16 16:00",
          "s24-07-17 02:00",
          "s24-07-18 01:00",
          "s24-07-19 20:00",
          "s24-07-23 11:00",
          "s24-07-23 22:00",
          "s24-07-24 08:00",
          "s24-07-24 09:00",
          "s24-07-25 04:00",
          "s24-07-26 11:00",
          "s24-07-29 07:00",
          "s24-07-29 19:00",
          "s24-07-30 07:00",
          "s24-07-31 05:00",
          "s24-07-31 10:00",
          "s24-08-01 03:00",
          "s24-08-01 07:00",
          "s24-08-02 13:00",
          "s24-08-05 07:00",
          "s24-08-07 10:00",
          "s24-08-07 11:00",
          "s24-08-08 13:00",
          "s24-08-09 18:00",
          "s24-08-11 22:00",
          "s24-08-14 09:00",
          "s24-08-15 08:00",
          "s24-08-19 21:00",
          "s24-08-20 13:00",
          "s24-08-21 06:00",
          "s24-08-21 16:00",
          "s24-08-22 08:00",
          "s24-08-22 11:00",
          "s24-08-26 08:00",
          "s24-08-27 07:00",
          "s24-08-28 07:00",
          "s24-08-29 04:00",
          "s24-08-29 11:00",
          "s24-08-30 01:00",
          "s24-08-30 14:00",
          "s24-09-02 07:00",
          "s24-09-04 04:00",
          "s24-09-04 08:00",
          "s24-09-04 22:00",
          "s24-09-05 09:00",
          "s24-09-06 04:00",
          "s24-09-06 14:00",
          "s24-09-09 06:00",
          "s24-09-10 08:00",
          "s24-09-11 11:00",
          "s24-09-12 10:00",
          "s24-09-16 00:00",
          "s24-09-16 04:00",
          "s24-09-17 07:00",
          "s24-09-17 08:00",
          "s24-09-17 15:00",
          "s24-09-18 08:00",
          "s24-09-19 07:00",
          "s24-09-19 09:00",
          "s24-09-23 07:00",
          "s24-09-23 23:00",
          "s24-09-24 15:00",
          "s24-09-26 09:00",
          "s24-09-27 08:00",
          "s24-09-27 17:00",
          "s24-09-30 20:00",
          "s24-10-03 00:00",
          "s24-10-03 06:00",
          "s24-10-04 00:00",
          "s24-10-04 19:00",
          "s24-10-07 03:00",
          "s24-10-07 10:00",
          "s24-10-07 21:00",
          "s24-10-09 05:00",
          "s24-10-09 11:00",
          "s24-10-10 22:00",
          "s24-10-11 06:00",
          "s24-10-14 02:00",
          "s24-10-14 05:00",
          "s24-10-15 22:00",
          "s24-10-17 10:00",
          "s24-10-21 10:00",
          "s24-10-22 08:00",
          "s24-10-22 12:00",
          "s24-10-23 03:00",
          "s24-10-23 12:00",
          "s24-10-24 10:00",
          "s24-10-25 07:00",
          "s24-10-25 13:00",
          "s24-10-28 05:00",
          "s24-10-28 11:00",
          "s24-10-29 00:00",
          "s24-10-29 12:00",
          "s24-10-30 10:00",
          "s24-10-31 10:00",
          "s24-10-31 16:00",
          "s24-11-01 06:00",
          "s24-11-04 14:00",
          "s24-11-05 08:00",
          "s24-11-06 02:00",
          "s24-11-06 21:00",
          "s24-11-07 08:00",
          "s24-11-07 14:00",
          "s24-11-08 15:00",
          "s24-11-11 09:00",
          "s24-11-11 11:00",
          "s24-11-13 09:00",
          "s24-11-13 19:00",
          "s24-11-14 18:00",
          "s24-11-15 12:00",
          "s24-11-18 07:00",
          "s24-11-18 16:00",
          "s24-11-19 06:00",
          "s24-11-19 09:00",
          "s24-11-20 06:00",
          "s24-11-20 17:00",
          "s24-11-25 01:00",
          "s24-11-26 18:00",
          "s24-11-27 07:00",
          "s24-11-28 06:00",
          "s24-11-28 19:00",
          "s24-12-02 07:00",
          "s24-12-03 13:00",
          "s24-12-06 03:00",
          "s24-12-06 09:00",
          "s24-12-10 15:00",
          "s24-12-10 22:00",
          "s24-12-11 10:00",
          "s24-12-12 03:00",
          "s24-12-12 11:00",
          "s24-12-13 05:00",
          "s24-12-13 08:00",
          "s24-12-16 08:00",
          "s24-12-18 10:00",
          "s24-12-18 11:00",
          "s24-12-18 14:00",
          "s24-12-18 18:00",
          "s24-12-18 20:00",
          "s24-12-19 08:00",
          "s24-12-19 14:00"
         ],
         "xaxis": "x",
         "y": [
          -11.200000000000099,
          -14.000000000000679,
          -16.00000000000046,
          -47.80000000000007,
          -37.100000000001025,
          -77.60000000000211,
          -123.30000000000175,
          -125.80000000000035,
          -174.6000000000003,
          -174.10000000000147,
          -213.50000000000202,
          -184.9000000000034,
          -200.90000000000384,
          -175.8000000000037,
          -189.2000000000049,
          -155.00000000000512,
          -221.8000000000053,
          -238.5000000000059,
          -280.4000000000051,
          -324.00000000000426,
          -339.60000000000434,
          -337.4000000000055,
          -352.40000000000606,
          -361.1000000000053,
          -371.0000000000058,
          -374.80000000000626,
          -394.30000000000524,
          -416.300000000005,
          -367.6000000000057,
          -361.9000000000061,
          -346.0000000000063,
          -241.00000000000676,
          -263.00000000000654,
          -242.4000000000048,
          -243.90000000000353,
          -232.60000000000278,
          -224.20000000000326,
          -230.60000000000522,
          -247.4000000000065,
          -241.80000000000754,
          -256.80000000000814,
          -233.3000000000074,
          -227.2000000000074,
          -241.2000000000081,
          -136.60000000000895,
          -139.30000000000888,
          -145.10000000000912,
          -171.1000000000107,
          -185.5000000000118,
          -182.60000000001278,
          -61.80000000001411,
          -63.10000000001597,
          -64.800000000016,
          -62.800000000013995,
          -77.50000000001259,
          -87.60000000001214,
          -87.20000000001174,
          -88.90000000001177,
          -104.90000000001223,
          -114.2000000000132,
          -112.70000000001448,
          -117.000000000016,
          -106.2000000000163,
          -120.20000000001477,
          -162.2000000000146,
          -158.20000000001505,
          -180.80000000001434,
          -168.70000000001278,
          -168.00000000001262,
          -169.0000000000125,
          -172.80000000001075,
          -86.20000000000964,
          -74.00000000000965,
          -91.00000000001,
          -106.20000000000967,
          56.699999999991704,
          20.399999999993703,
          95.59999999999562,
          83.19999999999654,
          137.499999999997,
          201.2999999999975,
          240.199999999997,
          217.9999999999959,
          217.1999999999951,
          203.09999999999377,
          211.19999999999354,
          239.5999999999953,
          214.89999999999557,
          150.49999999999557,
          124.79999999999595,
          140.9999999999955,
          129.399999999995,
          152.99999999999417,
          90.39999999999263,
          -0.10000000000738396,
          -16.800000000005767,
          262.7999999999941,
          273.9999999999942,
          292.9999999999943,
          343.1999999999946,
          342.399999999996,
          430.3999999999974,
          431.3999999999995,
          536.8000000000017,
          492.00000000000347,
          465.40000000000464,
          407.6000000000057,
          423.2000000000058,
          416.60000000000474,
          428.80000000000473,
          461.0000000000047,
          471.6000000000053,
          488.80000000000695,
          450.4000000000085,
          439.80000000001013,
          398.20000000001073,
          389.70000000001056,
          421.20000000001045,
          381.0000000000113,
          338.3000000000113,
          310.6000000000097,
          313.40000000000805,
          277.80000000000797,
          234.0000000000097,
          247.20000000000957,
          259.20000000000823,
          319.000000000007,
          446.40000000000674,
          436.7000000000076,
          541.6000000000087,
          528.4000000000087,
          459.80000000000786,
          414.60000000000707,
          429.8000000000067,
          407.3000000000081,
          435.6000000000092,
          385.7000000000087,
          342.20000000000795,
          368.4000000000086,
          409.40000000000856,
          345.5000000000074,
          341.6000000000063,
          518.000000000005,
          394.4000000000035,
          399.20000000000164,
          428.0000000000016,
          416.40000000000333,
          342.00000000000443,
          277.200000000004,
          336.2000000000042,
          316.2000000000042,
          364.20000000000334,
          345.4000000000023,
          367.8000000000025,
          359.6000000000043,
          367.2000000000052,
          445.60000000000593,
          522.8000000000054,
          554.2000000000046,
          500.4000000000052,
          472.60000000000514,
          462.80000000000535,
          478.000000000005,
          517.2000000000043,
          471.2000000000049,
          464.0000000000043,
          411.50000000000233,
          381.8000000000009,
          359.70000000000044,
          381.8000000000009,
          368.3000000000013,
          209.30000000000106,
          152.40000000000134,
          199.6000000000019,
          199.2000000000015,
          141.20000000000124,
          153.40000000000123,
          139.80000000000095,
          73.20000000000206,
          48.60000000000299,
          63.60000000000356,
          43.3000000000038,
          203.80000000000277,
          204.00000000000185,
          181.80000000000075,
          178.3,
          184.8000000000004,
          150.49999999999997,
          145.59999999999894,
          91.89999999999797,
          102.99999999999741,
          102.59999999999701,
          251.69999999999678,
          338.39999999999634,
          277.1999999999951,
          328.0999999999955,
          303.29999999999734,
          333.79999999999734,
          353.9999999999965,
          455.99999999999636,
          433.1999999999958,
          569.7999999999959,
          510.999999999997,
          456.1999999999977,
          448.7999999999981,
          418.79999999999916,
          421.40000000000066,
          357.80000000000143,
          337.400000000001,
          566.4000000000002,
          575.6999999999989,
          546.7999999999984,
          509.799999999998,
          449.3999999999976,
          394.39999999999696,
          245.39999999999563,
          245.39999999999563
         ],
         "yaxis": "y"
        }
       ],
       "layout": {
        "font": {
         "color": "#e1e1e1",
         "size": 8
        },
        "height": 400,
        "margin": {
         "b": 10,
         "l": 10,
         "r": 10,
         "t": 10
        },
        "paper_bgcolor": "#2c303c",
        "plot_bgcolor": "#2c303c",
        "template": {
         "data": {
          "bar": [
           {
            "error_x": {
             "color": "#2a3f5f"
            },
            "error_y": {
             "color": "#2a3f5f"
            },
            "marker": {
             "line": {
              "color": "#E5ECF6",
              "width": 0.5
             },
             "pattern": {
              "fillmode": "overlay",
              "size": 10,
              "solidity": 0.2
             }
            },
            "type": "bar"
           }
          ],
          "barpolar": [
           {
            "marker": {
             "line": {
              "color": "#E5ECF6",
              "width": 0.5
             },
             "pattern": {
              "fillmode": "overlay",
              "size": 10,
              "solidity": 0.2
             }
            },
            "type": "barpolar"
           }
          ],
          "carpet": [
           {
            "aaxis": {
             "endlinecolor": "#2a3f5f",
             "gridcolor": "white",
             "linecolor": "white",
             "minorgridcolor": "white",
             "startlinecolor": "#2a3f5f"
            },
            "baxis": {
             "endlinecolor": "#2a3f5f",
             "gridcolor": "white",
             "linecolor": "white",
             "minorgridcolor": "white",
             "startlinecolor": "#2a3f5f"
            },
            "type": "carpet"
           }
          ],
          "choropleth": [
           {
            "colorbar": {
             "outlinewidth": 0,
             "ticks": ""
            },
            "type": "choropleth"
           }
          ],
          "contour": [
           {
            "colorbar": {
             "outlinewidth": 0,
             "ticks": ""
            },
            "colorscale": [
             [
              0,
              "#0d0887"
             ],
             [
              0.1111111111111111,
              "#46039f"
             ],
             [
              0.2222222222222222,
              "#7201a8"
             ],
             [
              0.3333333333333333,
              "#9c179e"
             ],
             [
              0.4444444444444444,
              "#bd3786"
             ],
             [
              0.5555555555555556,
              "#d8576b"
             ],
             [
              0.6666666666666666,
              "#ed7953"
             ],
             [
              0.7777777777777778,
              "#fb9f3a"
             ],
             [
              0.8888888888888888,
              "#fdca26"
             ],
             [
              1,
              "#f0f921"
             ]
            ],
            "type": "contour"
           }
          ],
          "contourcarpet": [
           {
            "colorbar": {
             "outlinewidth": 0,
             "ticks": ""
            },
            "type": "contourcarpet"
           }
          ],
          "heatmap": [
           {
            "colorbar": {
             "outlinewidth": 0,
             "ticks": ""
            },
            "colorscale": [
             [
              0,
              "#0d0887"
             ],
             [
              0.1111111111111111,
              "#46039f"
             ],
             [
              0.2222222222222222,
              "#7201a8"
             ],
             [
              0.3333333333333333,
              "#9c179e"
             ],
             [
              0.4444444444444444,
              "#bd3786"
             ],
             [
              0.5555555555555556,
              "#d8576b"
             ],
             [
              0.6666666666666666,
              "#ed7953"
             ],
             [
              0.7777777777777778,
              "#fb9f3a"
             ],
             [
              0.8888888888888888,
              "#fdca26"
             ],
             [
              1,
              "#f0f921"
             ]
            ],
            "type": "heatmap"
           }
          ],
          "heatmapgl": [
           {
            "colorbar": {
             "outlinewidth": 0,
             "ticks": ""
            },
            "colorscale": [
             [
              0,
              "#0d0887"
             ],
             [
              0.1111111111111111,
              "#46039f"
             ],
             [
              0.2222222222222222,
              "#7201a8"
             ],
             [
              0.3333333333333333,
              "#9c179e"
             ],
             [
              0.4444444444444444,
              "#bd3786"
             ],
             [
              0.5555555555555556,
              "#d8576b"
             ],
             [
              0.6666666666666666,
              "#ed7953"
             ],
             [
              0.7777777777777778,
              "#fb9f3a"
             ],
             [
              0.8888888888888888,
              "#fdca26"
             ],
             [
              1,
              "#f0f921"
             ]
            ],
            "type": "heatmapgl"
           }
          ],
          "histogram": [
           {
            "marker": {
             "pattern": {
              "fillmode": "overlay",
              "size": 10,
              "solidity": 0.2
             }
            },
            "type": "histogram"
           }
          ],
          "histogram2d": [
           {
            "colorbar": {
             "outlinewidth": 0,
             "ticks": ""
            },
            "colorscale": [
             [
              0,
              "#0d0887"
             ],
             [
              0.1111111111111111,
              "#46039f"
             ],
             [
              0.2222222222222222,
              "#7201a8"
             ],
             [
              0.3333333333333333,
              "#9c179e"
             ],
             [
              0.4444444444444444,
              "#bd3786"
             ],
             [
              0.5555555555555556,
              "#d8576b"
             ],
             [
              0.6666666666666666,
              "#ed7953"
             ],
             [
              0.7777777777777778,
              "#fb9f3a"
             ],
             [
              0.8888888888888888,
              "#fdca26"
             ],
             [
              1,
              "#f0f921"
             ]
            ],
            "type": "histogram2d"
           }
          ],
          "histogram2dcontour": [
           {
            "colorbar": {
             "outlinewidth": 0,
             "ticks": ""
            },
            "colorscale": [
             [
              0,
              "#0d0887"
             ],
             [
              0.1111111111111111,
              "#46039f"
             ],
             [
              0.2222222222222222,
              "#7201a8"
             ],
             [
              0.3333333333333333,
              "#9c179e"
             ],
             [
              0.4444444444444444,
              "#bd3786"
             ],
             [
              0.5555555555555556,
              "#d8576b"
             ],
             [
              0.6666666666666666,
              "#ed7953"
             ],
             [
              0.7777777777777778,
              "#fb9f3a"
             ],
             [
              0.8888888888888888,
              "#fdca26"
             ],
             [
              1,
              "#f0f921"
             ]
            ],
            "type": "histogram2dcontour"
           }
          ],
          "mesh3d": [
           {
            "colorbar": {
             "outlinewidth": 0,
             "ticks": ""
            },
            "type": "mesh3d"
           }
          ],
          "parcoords": [
           {
            "line": {
             "colorbar": {
              "outlinewidth": 0,
              "ticks": ""
             }
            },
            "type": "parcoords"
           }
          ],
          "pie": [
           {
            "automargin": true,
            "type": "pie"
           }
          ],
          "scatter": [
           {
            "fillpattern": {
             "fillmode": "overlay",
             "size": 10,
             "solidity": 0.2
            },
            "type": "scatter"
           }
          ],
          "scatter3d": [
           {
            "line": {
             "colorbar": {
              "outlinewidth": 0,
              "ticks": ""
             }
            },
            "marker": {
             "colorbar": {
              "outlinewidth": 0,
              "ticks": ""
             }
            },
            "type": "scatter3d"
           }
          ],
          "scattercarpet": [
           {
            "marker": {
             "colorbar": {
              "outlinewidth": 0,
              "ticks": ""
             }
            },
            "type": "scattercarpet"
           }
          ],
          "scattergeo": [
           {
            "marker": {
             "colorbar": {
              "outlinewidth": 0,
              "ticks": ""
             }
            },
            "type": "scattergeo"
           }
          ],
          "scattergl": [
           {
            "marker": {
             "colorbar": {
              "outlinewidth": 0,
              "ticks": ""
             }
            },
            "type": "scattergl"
           }
          ],
          "scattermapbox": [
           {
            "marker": {
             "colorbar": {
              "outlinewidth": 0,
              "ticks": ""
             }
            },
            "type": "scattermapbox"
           }
          ],
          "scatterpolar": [
           {
            "marker": {
             "colorbar": {
              "outlinewidth": 0,
              "ticks": ""
             }
            },
            "type": "scatterpolar"
           }
          ],
          "scatterpolargl": [
           {
            "marker": {
             "colorbar": {
              "outlinewidth": 0,
              "ticks": ""
             }
            },
            "type": "scatterpolargl"
           }
          ],
          "scatterternary": [
           {
            "marker": {
             "colorbar": {
              "outlinewidth": 0,
              "ticks": ""
             }
            },
            "type": "scatterternary"
           }
          ],
          "surface": [
           {
            "colorbar": {
             "outlinewidth": 0,
             "ticks": ""
            },
            "colorscale": [
             [
              0,
              "#0d0887"
             ],
             [
              0.1111111111111111,
              "#46039f"
             ],
             [
              0.2222222222222222,
              "#7201a8"
             ],
             [
              0.3333333333333333,
              "#9c179e"
             ],
             [
              0.4444444444444444,
              "#bd3786"
             ],
             [
              0.5555555555555556,
              "#d8576b"
             ],
             [
              0.6666666666666666,
              "#ed7953"
             ],
             [
              0.7777777777777778,
              "#fb9f3a"
             ],
             [
              0.8888888888888888,
              "#fdca26"
             ],
             [
              1,
              "#f0f921"
             ]
            ],
            "type": "surface"
           }
          ],
          "table": [
           {
            "cells": {
             "fill": {
              "color": "#EBF0F8"
             },
             "line": {
              "color": "white"
             }
            },
            "header": {
             "fill": {
              "color": "#C8D4E3"
             },
             "line": {
              "color": "white"
             }
            },
            "type": "table"
           }
          ]
         },
         "layout": {
          "annotationdefaults": {
           "arrowcolor": "#2a3f5f",
           "arrowhead": 0,
           "arrowwidth": 1
          },
          "autotypenumbers": "strict",
          "coloraxis": {
           "colorbar": {
            "outlinewidth": 0,
            "ticks": ""
           }
          },
          "colorscale": {
           "diverging": [
            [
             0,
             "#8e0152"
            ],
            [
             0.1,
             "#c51b7d"
            ],
            [
             0.2,
             "#de77ae"
            ],
            [
             0.3,
             "#f1b6da"
            ],
            [
             0.4,
             "#fde0ef"
            ],
            [
             0.5,
             "#f7f7f7"
            ],
            [
             0.6,
             "#e6f5d0"
            ],
            [
             0.7,
             "#b8e186"
            ],
            [
             0.8,
             "#7fbc41"
            ],
            [
             0.9,
             "#4d9221"
            ],
            [
             1,
             "#276419"
            ]
           ],
           "sequential": [
            [
             0,
             "#0d0887"
            ],
            [
             0.1111111111111111,
             "#46039f"
            ],
            [
             0.2222222222222222,
             "#7201a8"
            ],
            [
             0.3333333333333333,
             "#9c179e"
            ],
            [
             0.4444444444444444,
             "#bd3786"
            ],
            [
             0.5555555555555556,
             "#d8576b"
            ],
            [
             0.6666666666666666,
             "#ed7953"
            ],
            [
             0.7777777777777778,
             "#fb9f3a"
            ],
            [
             0.8888888888888888,
             "#fdca26"
            ],
            [
             1,
             "#f0f921"
            ]
           ],
           "sequentialminus": [
            [
             0,
             "#0d0887"
            ],
            [
             0.1111111111111111,
             "#46039f"
            ],
            [
             0.2222222222222222,
             "#7201a8"
            ],
            [
             0.3333333333333333,
             "#9c179e"
            ],
            [
             0.4444444444444444,
             "#bd3786"
            ],
            [
             0.5555555555555556,
             "#d8576b"
            ],
            [
             0.6666666666666666,
             "#ed7953"
            ],
            [
             0.7777777777777778,
             "#fb9f3a"
            ],
            [
             0.8888888888888888,
             "#fdca26"
            ],
            [
             1,
             "#f0f921"
            ]
           ]
          },
          "colorway": [
           "#636efa",
           "#EF553B",
           "#00cc96",
           "#ab63fa",
           "#FFA15A",
           "#19d3f3",
           "#FF6692",
           "#B6E880",
           "#FF97FF",
           "#FECB52"
          ],
          "font": {
           "color": "#2a3f5f"
          },
          "geo": {
           "bgcolor": "white",
           "lakecolor": "white",
           "landcolor": "#E5ECF6",
           "showlakes": true,
           "showland": true,
           "subunitcolor": "white"
          },
          "hoverlabel": {
           "align": "left"
          },
          "hovermode": "closest",
          "mapbox": {
           "style": "light"
          },
          "paper_bgcolor": "white",
          "plot_bgcolor": "#E5ECF6",
          "polar": {
           "angularaxis": {
            "gridcolor": "white",
            "linecolor": "white",
            "ticks": ""
           },
           "bgcolor": "#E5ECF6",
           "radialaxis": {
            "gridcolor": "white",
            "linecolor": "white",
            "ticks": ""
           }
          },
          "scene": {
           "xaxis": {
            "backgroundcolor": "#E5ECF6",
            "gridcolor": "white",
            "gridwidth": 2,
            "linecolor": "white",
            "showbackground": true,
            "ticks": "",
            "zerolinecolor": "white"
           },
           "yaxis": {
            "backgroundcolor": "#E5ECF6",
            "gridcolor": "white",
            "gridwidth": 2,
            "linecolor": "white",
            "showbackground": true,
            "ticks": "",
            "zerolinecolor": "white"
           },
           "zaxis": {
            "backgroundcolor": "#E5ECF6",
            "gridcolor": "white",
            "gridwidth": 2,
            "linecolor": "white",
            "showbackground": true,
            "ticks": "",
            "zerolinecolor": "white"
           }
          },
          "shapedefaults": {
           "line": {
            "color": "#2a3f5f"
           }
          },
          "ternary": {
           "aaxis": {
            "gridcolor": "white",
            "linecolor": "white",
            "ticks": ""
           },
           "baxis": {
            "gridcolor": "white",
            "linecolor": "white",
            "ticks": ""
           },
           "bgcolor": "#E5ECF6",
           "caxis": {
            "gridcolor": "white",
            "linecolor": "white",
            "ticks": ""
           }
          },
          "title": {
           "x": 0.05
          },
          "xaxis": {
           "automargin": true,
           "gridcolor": "white",
           "linecolor": "white",
           "ticks": "",
           "title": {
            "standoff": 15
           },
           "zerolinecolor": "white",
           "zerolinewidth": 2
          },
          "yaxis": {
           "automargin": true,
           "gridcolor": "white",
           "linecolor": "white",
           "ticks": "",
           "title": {
            "standoff": 15
           },
           "zerolinecolor": "white",
           "zerolinewidth": 2
          }
         }
        },
        "width": 900,
        "xaxis": {
         "anchor": "y",
         "domain": [
          0,
          0.94
         ],
         "gridcolor": "#1f292f",
         "nticks": 5,
         "rangeslider": {
          "visible": false
         }
        },
        "yaxis": {
         "anchor": "x",
         "domain": [
          0,
          1
         ],
         "gridcolor": "#1f292f"
        },
        "yaxis2": {
         "anchor": "x",
         "gridcolor": "#1f292f",
         "overlaying": "y",
         "side": "right"
        }
       }
      }
     },
     "metadata": {},
     "output_type": "display_data"
    },
    {
     "name": "stdout",
     "output_type": "stream",
     "text": [
      "AUD_JPY 153\n"
     ]
    },
    {
     "data": {
      "application/vnd.plotly.v1+json": {
       "config": {
        "plotlyServerURL": "https://plot.ly"
       },
       "data": [
        {
         "line": {
          "shape": "spline",
          "width": 2
         },
         "name": "GAIN_C",
         "type": "scatter",
         "x": [
          "s24-05-07 11:00",
          "s24-05-07 19:00",
          "s24-05-08 01:00",
          "s24-05-08 10:00",
          "s24-05-12 23:00",
          "s24-05-13 11:00",
          "s24-05-15 12:00",
          "s24-05-15 23:00",
          "s24-05-16 00:00",
          "s24-05-16 14:00",
          "s24-05-17 12:00",
          "s24-05-17 14:00",
          "s24-05-17 15:00",
          "s24-05-17 16:00",
          "s24-05-20 12:00",
          "s24-05-21 01:00",
          "s24-05-21 06:00",
          "s24-05-22 01:00",
          "s24-05-22 14:00",
          "s24-05-23 09:00",
          "s24-05-23 21:00",
          "s24-05-24 11:00",
          "s24-05-27 06:00",
          "s24-05-27 08:00",
          "s24-05-29 11:00",
          "s24-05-30 17:00",
          "s24-06-03 09:00",
          "s24-06-04 01:00",
          "s24-06-04 07:00",
          "s24-06-05 02:00",
          "s24-06-05 22:00",
          "s24-06-06 00:00",
          "s24-06-06 12:00",
          "s24-06-06 13:00",
          "s24-06-06 17:00",
          "s24-06-06 21:00",
          "s24-06-07 01:00",
          "s24-06-07 02:00",
          "s24-06-07 08:00",
          "s24-06-10 06:00",
          "s24-06-11 11:00",
          "s24-06-11 21:00",
          "s24-06-13 17:00",
          "s24-06-14 04:00",
          "s24-06-14 13:00",
          "s24-06-17 01:00",
          "s24-06-17 07:00",
          "s24-06-17 14:00",
          "s24-06-21 13:00",
          "s24-06-21 18:00",
          "s24-06-25 05:00",
          "s24-06-25 12:00",
          "s24-06-25 13:00",
          "s24-06-26 01:00",
          "s24-06-27 07:00",
          "s24-06-27 08:00",
          "s24-06-27 19:00",
          "s24-06-28 13:00",
          "s24-07-01 23:00",
          "s24-07-02 12:00",
          "s24-07-04 09:00",
          "s24-07-04 20:00",
          "s24-07-05 05:00",
          "s24-07-05 16:00",
          "s24-07-08 04:00",
          "s24-07-08 11:00",
          "s24-07-08 19:00",
          "s24-07-09 05:00",
          "s24-07-11 12:00",
          "s24-07-12 07:00",
          "s24-07-12 15:00",
          "s24-07-16 05:00",
          "s24-07-16 12:00",
          "s24-07-18 08:00",
          "s24-07-19 04:00",
          "s24-07-19 05:00",
          "s24-07-19 06:00",
          "s24-07-25 17:00",
          "s24-07-26 20:00",
          "s24-07-29 18:00",
          "s24-07-30 17:00",
          "s24-08-01 02:00",
          "s24-08-01 03:00",
          "s24-08-01 13:00",
          "s24-08-01 21:00",
          "s24-08-05 20:00",
          "s24-08-06 14:00",
          "s24-08-06 22:00",
          "s24-08-07 20:00",
          "s24-08-08 10:00",
          "s24-08-09 10:00",
          "s24-08-12 03:00",
          "s24-08-12 22:00",
          "s24-08-13 07:00",
          "s24-08-13 19:00",
          "s24-08-14 01:00",
          "s24-08-14 16:00",
          "s24-08-15 04:00",
          "s24-08-16 11:00",
          "s24-08-18 23:00",
          "s24-08-19 05:00",
          "s24-08-19 18:00",
          "s24-08-20 13:00",
          "s24-08-21 07:00",
          "s24-08-21 18:00",
          "s24-08-22 08:00",
          "s24-08-22 23:00",
          "s24-08-23 11:00",
          "s24-08-25 23:00",
          "s24-08-26 16:00",
          "s24-08-27 16:00",
          "s24-08-28 04:00",
          "s24-08-28 17:00",
          "s24-08-29 02:00",
          "s24-08-30 00:00",
          "s24-08-30 10:00",
          "s24-09-03 03:00",
          "s24-09-05 17:00",
          "s24-09-05 18:00",
          "s24-09-05 20:00",
          "s24-09-06 04:00",
          "s24-09-09 07:00",
          "s24-09-09 18:00",
          "s24-09-10 03:00",
          "s24-09-10 15:00",
          "s24-09-11 17:00",
          "s24-09-12 15:00",
          "s24-09-12 22:00",
          "s24-09-13 03:00",
          "s24-09-16 14:00",
          "s24-09-18 07:00",
          "s24-09-18 13:00",
          "s24-09-19 22:00",
          "s24-09-20 09:00",
          "s24-09-23 13:00",
          "s24-09-23 20:00",
          "s24-09-25 04:00",
          "s24-09-25 07:00",
          "s24-09-25 20:00",
          "s24-09-26 05:00",
          "s24-09-27 08:00",
          "s24-09-30 06:00",
          "s24-10-01 14:00",
          "s24-10-02 05:00",
          "s24-10-03 09:00",
          "s24-10-04 15:00",
          "s24-10-07 07:00",
          "s24-10-08 18:00",
          "s24-10-10 13:00",
          "s24-10-11 01:00",
          "s24-10-14 05:00",
          "s24-10-14 15:00",
          "s24-10-15 05:00",
          "s24-10-17 01:00",
          "s24-10-18 09:00",
          "s24-10-18 10:00",
          "s24-10-18 16:00",
          "s24-10-21 15:00",
          "s24-10-23 19:00",
          "s24-10-25 14:00",
          "s24-10-28 14:00",
          "s24-10-29 15:00",
          "s24-10-29 22:00",
          "s24-10-30 13:00",
          "s24-10-31 04:00",
          "s24-11-01 05:00",
          "s24-11-04 04:00",
          "s24-11-05 01:00",
          "s24-11-05 22:00",
          "s24-11-06 08:00",
          "s24-11-08 00:00",
          "s24-11-11 04:00",
          "s24-11-11 19:00",
          "s24-11-12 16:00",
          "s24-11-13 14:00",
          "s24-11-14 03:00",
          "s24-11-14 11:00",
          "s24-11-14 22:00",
          "s24-11-15 10:00",
          "s24-11-18 07:00",
          "s24-11-19 08:00",
          "s24-11-19 19:00",
          "s24-11-20 17:00",
          "s24-11-22 20:00",
          "s24-11-25 09:00",
          "s24-11-28 03:00",
          "s24-11-28 22:00",
          "s24-12-02 05:00",
          "s24-12-02 13:00",
          "s24-12-03 05:00",
          "s24-12-03 17:00",
          "s24-12-04 15:00",
          "s24-12-05 05:00",
          "s24-12-05 15:00",
          "s24-12-06 01:00",
          "s24-12-09 07:00",
          "s24-12-10 03:00",
          "s24-12-10 17:00",
          "s24-12-11 00:00",
          "s24-12-11 15:00",
          "s24-12-12 16:00",
          "s24-12-13 06:00",
          "s24-12-17 06:00",
          "s24-12-18 19:00",
          "s24-12-18 20:00",
          "s24-12-19 09:00"
         ],
         "xaxis": "x",
         "y": [
          1.9000000000005457,
          -7.099999999999795,
          -19.700000000000273,
          57.69999999999982,
          28.79999999999967,
          48.099999999999454,
          43.50000000000023,
          20.10000000000076,
          -33.69999999999891,
          -23.099999999998033,
          -37.49999999999716,
          -32.79999999999745,
          -39.29999999999865,
          -35.49999999999898,
          -52.29999999999819,
          -80.49999999999784,
          -110.3999999999985,
          -142.89999999999878,
          -150.39999999999907,
          -183.29999999999984,
          -201.09999999999957,
          -178.89999999999873,
          -193.4999999999988,
          -189.4999999999996,
          -172.79999999999944,
          -156.19999999999834,
          -175.49999999999812,
          -269.29999999999836,
          -271.599999999998,
          -260.59999999999803,
          -267.69999999999783,
          -267.29999999999734,
          -274.2999999999981,
          -267.0999999999992,
          -254.89999999999924,
          -252.2999999999982,
          -263.29999999999814,
          -297.8999999999985,
          -298.599999999999,
          -295.0000000000003,
          -315.9000000000006,
          -282.30000000000075,
          -334.5000000000013,
          -424.1000000000014,
          -449.20000000000186,
          -447.7000000000018,
          -451.90000000000055,
          -282.0999999999998,
          -305.1000000000002,
          -281.1000000000007,
          -269.9000000000012,
          -279.9000000000021,
          -341.100000000003,
          -307.6000000000036,
          -312.90000000000333,
          -326.4000000000024,
          -339.0000000000015,
          -292.70000000000067,
          -293.9000000000007,
          -202.30000000000103,
          -207.70000000000124,
          -233.80000000000223,
          -257.70000000000266,
          -260.40000000000276,
          -271.5000000000032,
          -293.50000000000307,
          -312.40000000000236,
          -388.70000000000147,
          -394.9000000000012,
          -457.1000000000012,
          -438.10000000000144,
          -461.80000000000234,
          -327.5000000000034,
          -317.20000000000397,
          -340.3000000000034,
          -373.5000000000028,
          76.69999999999675,
          54.29999999999637,
          41.09999999999587,
          -21.30000000000507,
          209.69999999999516,
          183.69999999999607,
          81.899999999996,
          -76.70000000000385,
          261.89999999999714,
          297.8999999999971,
          271.29999999999654,
          407.5999999999965,
          398.4999999999971,
          500.29999999999717,
          484.6999999999966,
          487.09999999999667,
          411.49999999999665,
          385.9999999999957,
          379.69999999999544,
          337.69999999999527,
          289.49999999999534,
          353.0999999999963,
          299.8999999999967,
          146.69999999999703,
          -3.700000000002035,
          -25.300000000001432,
          -19.20000000000215,
          -88.70000000000289,
          -140.30000000000342,
          -158.80000000000365,
          -183.20000000000363,
          -245.5000000000041,
          -274.5000000000047,
          -303.6000000000044,
          -343.50000000000307,
          -366.100000000003,
          -400.30000000000285,
          -380.00000000000256,
          -418.30000000000354,
          -412.50000000000426,
          -184.50000000000415,
          -181.10000000000355,
          -191.3000000000025,
          -233.90000000000128,
          -154.30000000000064,
          -192.10000000000065,
          -219.70000000000027,
          -292.9000000000002,
          -306.30000000000024,
          -259.9000000000004,
          -274.7000000000014,
          -329.00000000000205,
          -305.30000000000257,
          -149.60000000000235,
          -142.90000000000163,
          -36.10000000000184,
          -117.3000000000016,
          -61.000000000001364,
          -25.1000000000019,
          24.499999999997613,
          -7.300000000002171,
          -29.50000000000159,
          -83.30000000000126,
          -157.10000000000122,
          -149.30000000000092,
          -106.30000000000024,
          -99.50000000000045,
          73.49999999999852,
          27.299999999998192,
          -4.500000000001592,
          66.49999999999778,
          49.49999999999761,
          6.099999999997863,
          33.19999999999794,
          15.699999999998226,
          -18.900000000002137,
          5.799999999997851,
          54.09999999999826,
          50.89999999999861,
          10.099999999998488,
          14.699999999997715,
          117.19999999999686,
          145.29999999999603,
          151.69999999999533,
          188.89999999999532,
          180.39999999999594,
          158.5999999999956,
          126.69999999999533,
          156.4999999999955,
          175.69999999999482,
          173.6999999999938,
          191.49999999999352,
          107.49999999999318,
          179.09999999999258,
          264.099999999992,
          239.69999999999203,
          248.29999999999188,
          219.99999999999176,
          193.7999999999917,
          188.89999999999105,
          186.09999999999047,
          148.89999999999048,
          219.0999999999903,
          235.49999999998903,
          129.89999999998787,
          114.49999999998681,
          138.4999999999863,
          136.89999999998577,
          359.89999999998474,
          373.4999999999843,
          430.6999999999846,
          346.0999999999842,
          349.8999999999839,
          328.199999999984,
          336.2999999999843,
          311.0999999999848,
          293.29999999998506,
          262.4999999999858,
          243.69999999998697,
          245.19999999998703,
          208.99999999998613,
          186.19999999998527,
          153.79999999998404,
          162.09999999998388,
          153.09999999998496,
          216.39999999998594,
          349.6999999999858,
          328.2999999999859,
          153.79999999998688,
          153.79999999998688
         ],
         "yaxis": "y"
        }
       ],
       "layout": {
        "font": {
         "color": "#e1e1e1",
         "size": 8
        },
        "height": 400,
        "margin": {
         "b": 10,
         "l": 10,
         "r": 10,
         "t": 10
        },
        "paper_bgcolor": "#2c303c",
        "plot_bgcolor": "#2c303c",
        "template": {
         "data": {
          "bar": [
           {
            "error_x": {
             "color": "#2a3f5f"
            },
            "error_y": {
             "color": "#2a3f5f"
            },
            "marker": {
             "line": {
              "color": "#E5ECF6",
              "width": 0.5
             },
             "pattern": {
              "fillmode": "overlay",
              "size": 10,
              "solidity": 0.2
             }
            },
            "type": "bar"
           }
          ],
          "barpolar": [
           {
            "marker": {
             "line": {
              "color": "#E5ECF6",
              "width": 0.5
             },
             "pattern": {
              "fillmode": "overlay",
              "size": 10,
              "solidity": 0.2
             }
            },
            "type": "barpolar"
           }
          ],
          "carpet": [
           {
            "aaxis": {
             "endlinecolor": "#2a3f5f",
             "gridcolor": "white",
             "linecolor": "white",
             "minorgridcolor": "white",
             "startlinecolor": "#2a3f5f"
            },
            "baxis": {
             "endlinecolor": "#2a3f5f",
             "gridcolor": "white",
             "linecolor": "white",
             "minorgridcolor": "white",
             "startlinecolor": "#2a3f5f"
            },
            "type": "carpet"
           }
          ],
          "choropleth": [
           {
            "colorbar": {
             "outlinewidth": 0,
             "ticks": ""
            },
            "type": "choropleth"
           }
          ],
          "contour": [
           {
            "colorbar": {
             "outlinewidth": 0,
             "ticks": ""
            },
            "colorscale": [
             [
              0,
              "#0d0887"
             ],
             [
              0.1111111111111111,
              "#46039f"
             ],
             [
              0.2222222222222222,
              "#7201a8"
             ],
             [
              0.3333333333333333,
              "#9c179e"
             ],
             [
              0.4444444444444444,
              "#bd3786"
             ],
             [
              0.5555555555555556,
              "#d8576b"
             ],
             [
              0.6666666666666666,
              "#ed7953"
             ],
             [
              0.7777777777777778,
              "#fb9f3a"
             ],
             [
              0.8888888888888888,
              "#fdca26"
             ],
             [
              1,
              "#f0f921"
             ]
            ],
            "type": "contour"
           }
          ],
          "contourcarpet": [
           {
            "colorbar": {
             "outlinewidth": 0,
             "ticks": ""
            },
            "type": "contourcarpet"
           }
          ],
          "heatmap": [
           {
            "colorbar": {
             "outlinewidth": 0,
             "ticks": ""
            },
            "colorscale": [
             [
              0,
              "#0d0887"
             ],
             [
              0.1111111111111111,
              "#46039f"
             ],
             [
              0.2222222222222222,
              "#7201a8"
             ],
             [
              0.3333333333333333,
              "#9c179e"
             ],
             [
              0.4444444444444444,
              "#bd3786"
             ],
             [
              0.5555555555555556,
              "#d8576b"
             ],
             [
              0.6666666666666666,
              "#ed7953"
             ],
             [
              0.7777777777777778,
              "#fb9f3a"
             ],
             [
              0.8888888888888888,
              "#fdca26"
             ],
             [
              1,
              "#f0f921"
             ]
            ],
            "type": "heatmap"
           }
          ],
          "heatmapgl": [
           {
            "colorbar": {
             "outlinewidth": 0,
             "ticks": ""
            },
            "colorscale": [
             [
              0,
              "#0d0887"
             ],
             [
              0.1111111111111111,
              "#46039f"
             ],
             [
              0.2222222222222222,
              "#7201a8"
             ],
             [
              0.3333333333333333,
              "#9c179e"
             ],
             [
              0.4444444444444444,
              "#bd3786"
             ],
             [
              0.5555555555555556,
              "#d8576b"
             ],
             [
              0.6666666666666666,
              "#ed7953"
             ],
             [
              0.7777777777777778,
              "#fb9f3a"
             ],
             [
              0.8888888888888888,
              "#fdca26"
             ],
             [
              1,
              "#f0f921"
             ]
            ],
            "type": "heatmapgl"
           }
          ],
          "histogram": [
           {
            "marker": {
             "pattern": {
              "fillmode": "overlay",
              "size": 10,
              "solidity": 0.2
             }
            },
            "type": "histogram"
           }
          ],
          "histogram2d": [
           {
            "colorbar": {
             "outlinewidth": 0,
             "ticks": ""
            },
            "colorscale": [
             [
              0,
              "#0d0887"
             ],
             [
              0.1111111111111111,
              "#46039f"
             ],
             [
              0.2222222222222222,
              "#7201a8"
             ],
             [
              0.3333333333333333,
              "#9c179e"
             ],
             [
              0.4444444444444444,
              "#bd3786"
             ],
             [
              0.5555555555555556,
              "#d8576b"
             ],
             [
              0.6666666666666666,
              "#ed7953"
             ],
             [
              0.7777777777777778,
              "#fb9f3a"
             ],
             [
              0.8888888888888888,
              "#fdca26"
             ],
             [
              1,
              "#f0f921"
             ]
            ],
            "type": "histogram2d"
           }
          ],
          "histogram2dcontour": [
           {
            "colorbar": {
             "outlinewidth": 0,
             "ticks": ""
            },
            "colorscale": [
             [
              0,
              "#0d0887"
             ],
             [
              0.1111111111111111,
              "#46039f"
             ],
             [
              0.2222222222222222,
              "#7201a8"
             ],
             [
              0.3333333333333333,
              "#9c179e"
             ],
             [
              0.4444444444444444,
              "#bd3786"
             ],
             [
              0.5555555555555556,
              "#d8576b"
             ],
             [
              0.6666666666666666,
              "#ed7953"
             ],
             [
              0.7777777777777778,
              "#fb9f3a"
             ],
             [
              0.8888888888888888,
              "#fdca26"
             ],
             [
              1,
              "#f0f921"
             ]
            ],
            "type": "histogram2dcontour"
           }
          ],
          "mesh3d": [
           {
            "colorbar": {
             "outlinewidth": 0,
             "ticks": ""
            },
            "type": "mesh3d"
           }
          ],
          "parcoords": [
           {
            "line": {
             "colorbar": {
              "outlinewidth": 0,
              "ticks": ""
             }
            },
            "type": "parcoords"
           }
          ],
          "pie": [
           {
            "automargin": true,
            "type": "pie"
           }
          ],
          "scatter": [
           {
            "fillpattern": {
             "fillmode": "overlay",
             "size": 10,
             "solidity": 0.2
            },
            "type": "scatter"
           }
          ],
          "scatter3d": [
           {
            "line": {
             "colorbar": {
              "outlinewidth": 0,
              "ticks": ""
             }
            },
            "marker": {
             "colorbar": {
              "outlinewidth": 0,
              "ticks": ""
             }
            },
            "type": "scatter3d"
           }
          ],
          "scattercarpet": [
           {
            "marker": {
             "colorbar": {
              "outlinewidth": 0,
              "ticks": ""
             }
            },
            "type": "scattercarpet"
           }
          ],
          "scattergeo": [
           {
            "marker": {
             "colorbar": {
              "outlinewidth": 0,
              "ticks": ""
             }
            },
            "type": "scattergeo"
           }
          ],
          "scattergl": [
           {
            "marker": {
             "colorbar": {
              "outlinewidth": 0,
              "ticks": ""
             }
            },
            "type": "scattergl"
           }
          ],
          "scattermapbox": [
           {
            "marker": {
             "colorbar": {
              "outlinewidth": 0,
              "ticks": ""
             }
            },
            "type": "scattermapbox"
           }
          ],
          "scatterpolar": [
           {
            "marker": {
             "colorbar": {
              "outlinewidth": 0,
              "ticks": ""
             }
            },
            "type": "scatterpolar"
           }
          ],
          "scatterpolargl": [
           {
            "marker": {
             "colorbar": {
              "outlinewidth": 0,
              "ticks": ""
             }
            },
            "type": "scatterpolargl"
           }
          ],
          "scatterternary": [
           {
            "marker": {
             "colorbar": {
              "outlinewidth": 0,
              "ticks": ""
             }
            },
            "type": "scatterternary"
           }
          ],
          "surface": [
           {
            "colorbar": {
             "outlinewidth": 0,
             "ticks": ""
            },
            "colorscale": [
             [
              0,
              "#0d0887"
             ],
             [
              0.1111111111111111,
              "#46039f"
             ],
             [
              0.2222222222222222,
              "#7201a8"
             ],
             [
              0.3333333333333333,
              "#9c179e"
             ],
             [
              0.4444444444444444,
              "#bd3786"
             ],
             [
              0.5555555555555556,
              "#d8576b"
             ],
             [
              0.6666666666666666,
              "#ed7953"
             ],
             [
              0.7777777777777778,
              "#fb9f3a"
             ],
             [
              0.8888888888888888,
              "#fdca26"
             ],
             [
              1,
              "#f0f921"
             ]
            ],
            "type": "surface"
           }
          ],
          "table": [
           {
            "cells": {
             "fill": {
              "color": "#EBF0F8"
             },
             "line": {
              "color": "white"
             }
            },
            "header": {
             "fill": {
              "color": "#C8D4E3"
             },
             "line": {
              "color": "white"
             }
            },
            "type": "table"
           }
          ]
         },
         "layout": {
          "annotationdefaults": {
           "arrowcolor": "#2a3f5f",
           "arrowhead": 0,
           "arrowwidth": 1
          },
          "autotypenumbers": "strict",
          "coloraxis": {
           "colorbar": {
            "outlinewidth": 0,
            "ticks": ""
           }
          },
          "colorscale": {
           "diverging": [
            [
             0,
             "#8e0152"
            ],
            [
             0.1,
             "#c51b7d"
            ],
            [
             0.2,
             "#de77ae"
            ],
            [
             0.3,
             "#f1b6da"
            ],
            [
             0.4,
             "#fde0ef"
            ],
            [
             0.5,
             "#f7f7f7"
            ],
            [
             0.6,
             "#e6f5d0"
            ],
            [
             0.7,
             "#b8e186"
            ],
            [
             0.8,
             "#7fbc41"
            ],
            [
             0.9,
             "#4d9221"
            ],
            [
             1,
             "#276419"
            ]
           ],
           "sequential": [
            [
             0,
             "#0d0887"
            ],
            [
             0.1111111111111111,
             "#46039f"
            ],
            [
             0.2222222222222222,
             "#7201a8"
            ],
            [
             0.3333333333333333,
             "#9c179e"
            ],
            [
             0.4444444444444444,
             "#bd3786"
            ],
            [
             0.5555555555555556,
             "#d8576b"
            ],
            [
             0.6666666666666666,
             "#ed7953"
            ],
            [
             0.7777777777777778,
             "#fb9f3a"
            ],
            [
             0.8888888888888888,
             "#fdca26"
            ],
            [
             1,
             "#f0f921"
            ]
           ],
           "sequentialminus": [
            [
             0,
             "#0d0887"
            ],
            [
             0.1111111111111111,
             "#46039f"
            ],
            [
             0.2222222222222222,
             "#7201a8"
            ],
            [
             0.3333333333333333,
             "#9c179e"
            ],
            [
             0.4444444444444444,
             "#bd3786"
            ],
            [
             0.5555555555555556,
             "#d8576b"
            ],
            [
             0.6666666666666666,
             "#ed7953"
            ],
            [
             0.7777777777777778,
             "#fb9f3a"
            ],
            [
             0.8888888888888888,
             "#fdca26"
            ],
            [
             1,
             "#f0f921"
            ]
           ]
          },
          "colorway": [
           "#636efa",
           "#EF553B",
           "#00cc96",
           "#ab63fa",
           "#FFA15A",
           "#19d3f3",
           "#FF6692",
           "#B6E880",
           "#FF97FF",
           "#FECB52"
          ],
          "font": {
           "color": "#2a3f5f"
          },
          "geo": {
           "bgcolor": "white",
           "lakecolor": "white",
           "landcolor": "#E5ECF6",
           "showlakes": true,
           "showland": true,
           "subunitcolor": "white"
          },
          "hoverlabel": {
           "align": "left"
          },
          "hovermode": "closest",
          "mapbox": {
           "style": "light"
          },
          "paper_bgcolor": "white",
          "plot_bgcolor": "#E5ECF6",
          "polar": {
           "angularaxis": {
            "gridcolor": "white",
            "linecolor": "white",
            "ticks": ""
           },
           "bgcolor": "#E5ECF6",
           "radialaxis": {
            "gridcolor": "white",
            "linecolor": "white",
            "ticks": ""
           }
          },
          "scene": {
           "xaxis": {
            "backgroundcolor": "#E5ECF6",
            "gridcolor": "white",
            "gridwidth": 2,
            "linecolor": "white",
            "showbackground": true,
            "ticks": "",
            "zerolinecolor": "white"
           },
           "yaxis": {
            "backgroundcolor": "#E5ECF6",
            "gridcolor": "white",
            "gridwidth": 2,
            "linecolor": "white",
            "showbackground": true,
            "ticks": "",
            "zerolinecolor": "white"
           },
           "zaxis": {
            "backgroundcolor": "#E5ECF6",
            "gridcolor": "white",
            "gridwidth": 2,
            "linecolor": "white",
            "showbackground": true,
            "ticks": "",
            "zerolinecolor": "white"
           }
          },
          "shapedefaults": {
           "line": {
            "color": "#2a3f5f"
           }
          },
          "ternary": {
           "aaxis": {
            "gridcolor": "white",
            "linecolor": "white",
            "ticks": ""
           },
           "baxis": {
            "gridcolor": "white",
            "linecolor": "white",
            "ticks": ""
           },
           "bgcolor": "#E5ECF6",
           "caxis": {
            "gridcolor": "white",
            "linecolor": "white",
            "ticks": ""
           }
          },
          "title": {
           "x": 0.05
          },
          "xaxis": {
           "automargin": true,
           "gridcolor": "white",
           "linecolor": "white",
           "ticks": "",
           "title": {
            "standoff": 15
           },
           "zerolinecolor": "white",
           "zerolinewidth": 2
          },
          "yaxis": {
           "automargin": true,
           "gridcolor": "white",
           "linecolor": "white",
           "ticks": "",
           "title": {
            "standoff": 15
           },
           "zerolinecolor": "white",
           "zerolinewidth": 2
          }
         }
        },
        "width": 900,
        "xaxis": {
         "anchor": "y",
         "domain": [
          0,
          0.94
         ],
         "gridcolor": "#1f292f",
         "nticks": 5,
         "rangeslider": {
          "visible": false
         }
        },
        "yaxis": {
         "anchor": "x",
         "domain": [
          0,
          1
         ],
         "gridcolor": "#1f292f"
        },
        "yaxis2": {
         "anchor": "x",
         "gridcolor": "#1f292f",
         "overlaying": "y",
         "side": "right"
        }
       }
      }
     },
     "metadata": {},
     "output_type": "display_data"
    },
    {
     "name": "stdout",
     "output_type": "stream",
     "text": [
      "USD_CAD 106\n"
     ]
    },
    {
     "data": {
      "application/vnd.plotly.v1+json": {
       "config": {
        "plotlyServerURL": "https://plot.ly"
       },
       "data": [
        {
         "line": {
          "shape": "spline",
          "width": 2
         },
         "name": "GAIN_C",
         "type": "scatter",
         "x": [
          "s24-05-06 09:00",
          "s24-05-07 02:00",
          "s24-05-08 16:00",
          "s24-05-09 08:00",
          "s24-05-09 12:00",
          "s24-05-10 09:00",
          "s24-05-10 13:00",
          "s24-05-13 01:00",
          "s24-05-13 13:00",
          "s24-05-14 04:00",
          "s24-05-14 13:00",
          "s24-05-16 09:00",
          "s24-05-16 22:00",
          "s24-05-17 06:00",
          "s24-05-17 18:00",
          "s24-05-20 11:00",
          "s24-05-22 04:00",
          "s24-05-22 10:00",
          "s24-05-23 10:00",
          "s24-05-23 17:00",
          "s24-05-24 11:00",
          "s24-05-28 14:00",
          "s24-05-30 13:00",
          "s24-06-03 09:00",
          "s24-06-03 20:00",
          "s24-06-04 06:00",
          "s24-06-05 01:00",
          "s24-06-05 12:00",
          "s24-06-06 02:00",
          "s24-06-06 13:00",
          "s24-06-06 21:00",
          "s24-06-07 10:00",
          "s24-06-10 19:00",
          "s24-06-11 08:00",
          "s24-06-11 20:00",
          "s24-06-13 02:00",
          "s24-06-14 01:00",
          "s24-06-14 08:00",
          "s24-06-14 20:00",
          "s24-06-17 09:00",
          "s24-06-17 19:00",
          "s24-06-18 08:00",
          "s24-06-18 18:00",
          "s24-06-20 02:00",
          "s24-06-20 14:00",
          "s24-06-21 13:00",
          "s24-06-24 03:00",
          "s24-06-25 13:00",
          "s24-06-26 01:00",
          "s24-06-26 07:00",
          "s24-06-27 08:00",
          "s24-06-27 21:00",
          "s24-06-28 14:00",
          "s24-07-01 11:00",
          "s24-07-02 12:00",
          "s24-07-05 13:00",
          "s24-07-08 10:00",
          "s24-07-09 00:00",
          "s24-07-09 19:00",
          "s24-07-10 09:00",
          "s24-07-10 13:00",
          "s24-07-11 07:00",
          "s24-07-11 20:00",
          "s24-07-11 22:00",
          "s24-07-12 08:00",
          "s24-07-12 18:00",
          "s24-07-15 16:00",
          "s24-07-15 17:00",
          "s24-07-16 20:00",
          "s24-07-17 17:00",
          "s24-07-18 05:00",
          "s24-07-18 16:00",
          "s24-07-22 04:00",
          "s24-07-22 07:00",
          "s24-07-24 17:00",
          "s24-07-24 18:00",
          "s24-07-25 19:00",
          "s24-07-26 15:00",
          "s24-07-29 06:00",
          "s24-07-29 11:00",
          "s24-07-30 06:00",
          "s24-07-30 19:00",
          "s24-07-31 04:00",
          "s24-08-01 07:00",
          "s24-08-02 10:00",
          "s24-08-04 23:00",
          "s24-08-05 13:00",
          "s24-08-06 10:00",
          "s24-08-06 18:00",
          "s24-08-08 01:00",
          "s24-08-08 07:00",
          "s24-08-08 16:00",
          "s24-08-08 22:00",
          "s24-08-09 13:00",
          "s24-08-09 14:00",
          "s24-08-09 16:00",
          "s24-08-11 21:00",
          "s24-08-12 03:00",
          "s24-08-12 08:00",
          "s24-08-12 18:00",
          "s24-08-13 07:00",
          "s24-08-14 11:00",
          "s24-08-14 14:00",
          "s24-08-15 00:00",
          "s24-08-15 10:00",
          "s24-08-15 19:00",
          "s24-08-16 10:00",
          "s24-08-20 21:00",
          "s24-08-21 02:00",
          "s24-08-22 16:00",
          "s24-08-23 06:00",
          "s24-08-27 07:00",
          "s24-08-27 09:00",
          "s24-08-28 08:00",
          "s24-08-29 06:00",
          "s24-08-29 17:00",
          "s24-08-30 11:00",
          "s24-08-30 18:00",
          "s24-09-02 20:00",
          "s24-09-02 22:00",
          "s24-09-02 23:00",
          "s24-09-03 00:00",
          "s24-09-04 04:00",
          "s24-09-05 13:00",
          "s24-09-05 22:00",
          "s24-09-06 14:00",
          "s24-09-09 09:00",
          "s24-09-09 12:00",
          "s24-09-09 18:00",
          "s24-09-10 04:00",
          "s24-09-11 08:00",
          "s24-09-12 13:00",
          "s24-09-13 01:00",
          "s24-09-13 13:00",
          "s24-09-16 04:00",
          "s24-09-16 14:00",
          "s24-09-17 06:00",
          "s24-09-17 12:00",
          "s24-09-18 03:00",
          "s24-09-18 16:00",
          "s24-09-19 08:00",
          "s24-09-20 02:00",
          "s24-09-20 06:00",
          "s24-09-20 07:00",
          "s24-09-20 19:00",
          "s24-09-22 22:00",
          "s24-09-22 23:00",
          "s24-09-23 07:00",
          "s24-09-23 08:00",
          "s24-09-24 04:00",
          "s24-09-24 10:00",
          "s24-09-25 12:00",
          "s24-09-26 08:00",
          "s24-09-26 19:00",
          "s24-09-30 12:00",
          "s24-09-30 14:00",
          "s24-09-30 20:00",
          "s24-09-30 22:00",
          "s24-10-01 13:00",
          "s24-10-02 17:00",
          "s24-10-11 03:00",
          "s24-10-11 07:00",
          "s24-10-15 20:00",
          "s24-10-16 13:00",
          "s24-10-16 17:00",
          "s24-10-17 08:00",
          "s24-10-18 09:00",
          "s24-10-18 15:00",
          "s24-10-22 06:00",
          "s24-10-23 09:00",
          "s24-10-24 02:00",
          "s24-10-24 16:00",
          "s24-10-25 08:00",
          "s24-10-25 15:00",
          "s24-10-28 13:00",
          "s24-10-28 23:00",
          "s24-10-29 01:00",
          "s24-10-29 16:00",
          "s24-10-30 19:00",
          "s24-10-31 06:00",
          "s24-11-01 14:00",
          "s24-11-01 19:00",
          "s24-11-04 04:00",
          "s24-11-05 04:00",
          "s24-11-05 08:00",
          "s24-11-06 04:00",
          "s24-11-07 05:00",
          "s24-11-08 05:00",
          "s24-11-11 23:00",
          "s24-11-12 04:00",
          "s24-11-12 20:00",
          "s24-11-13 05:00",
          "s24-11-15 12:00",
          "s24-11-15 18:00",
          "s24-11-18 09:00",
          "s24-11-18 10:00",
          "s24-11-18 16:00",
          "s24-11-19 11:00",
          "s24-11-19 14:00",
          "s24-11-20 10:00",
          "s24-11-21 01:00",
          "s24-11-22 00:00",
          "s24-11-22 21:00",
          "s24-11-25 13:00",
          "s24-11-26 17:00",
          "s24-11-27 10:00",
          "s24-11-27 11:00",
          "s24-11-29 14:00",
          "s24-12-03 03:00",
          "s24-12-03 18:00",
          "s24-12-04 12:00",
          "s24-12-04 21:00",
          "s24-12-05 09:00",
          "s24-12-06 09:00",
          "s24-12-09 11:00",
          "s24-12-09 23:00",
          "s24-12-10 14:00",
          "s24-12-11 03:00",
          "s24-12-11 16:00",
          "s24-12-12 15:00",
          "s24-12-13 14:00",
          "s24-12-15 22:00",
          "s24-12-16 06:00",
          "s24-12-16 12:00",
          "s24-12-17 00:00",
          "s24-12-17 02:00",
          "s24-12-19 12:00"
         ],
         "xaxis": "x",
         "y": [
          -1.7000000000000348,
          47.80000000000007,
          42.59999999999931,
          17.399999999998535,
          41.19999999999902,
          -3.800000000000459,
          -54.200000000002014,
          -79.2000000000037,
          -94.40000000000336,
          -139.1000000000031,
          -129.60000000000304,
          -136.60000000000227,
          -143.2000000000033,
          -159.20000000000377,
          -172.40000000000364,
          -150.20000000000476,
          -161.30000000000643,
          -145.40000000000663,
          -204.10000000000483,
          -221.00000000000452,
          -144.00000000000634,
          -94.2000000000065,
          -72.40000000000579,
          -108.00000000000585,
          -129.40000000000617,
          -109.90000000000721,
          -110.20000000000695,
          -105.60000000000568,
          -117.20000000000618,
          -133.100000000006,
          -150.60000000000517,
          -76.20000000000626,
          -83.0000000000064,
          -93.20000000000661,
          -74.30000000000715,
          -76.00000000000718,
          -96.60000000000669,
          -120.20000000000587,
          -126.80000000000692,
          -144.80000000000715,
          -173.60000000000707,
          -209.00000000000807,
          -208.20000000000726,
          -231.20000000000695,
          -241.1000000000074,
          -246.800000000007,
          -208.9000000000074,
          -214.2000000000088,
          -226.60000000001008,
          -208.20000000000945,
          -221.60000000000844,
          -236.2000000000086,
          -240.40000000000947,
          -206.60000000001008,
          -128.30000000001007,
          -128.90000000000956,
          -124.40000000000894,
          -130.40000000000828,
          -133.60000000000704,
          -144.40000000000674,
          -152.60000000000719,
          -152.20000000000678,
          -154.1000000000059,
          -175.20000000000647,
          -192.00000000000773,
          -155.30000000000712,
          -171.400000000006,
          -181.4000000000049,
          -202.4000000000048,
          -217.10000000000562,
          -231.20000000000474,
          -192.60000000000278,
          -205.60000000000136,
          -154.80000000000163,
          -172.7000000000012,
          -161.59999999999954,
          -170.39999999999947,
          -179.1999999999994,
          -199.5999999999998,
          -199.5999999999998,
          -207.99999999999932,
          -217.49999999999937,
          -197.19999999999962,
          -147.69999999999953,
          -157.3999999999987,
          -215.99999999999847,
          -230.99999999999903,
          -301.70000000000033,
          -272.7000000000013,
          -274.60000000000264,
          -277.50000000000387,
          -280.10000000000315,
          -280.2000000000016,
          -292.3000000000009,
          -292.60000000000065,
          -285.10000000000036,
          -287.2000000000008,
          -300.0000000000025,
          -311.80000000000433,
          -318.90000000000424,
          -304.60000000000383,
          -324.20000000000346,
          -347.2000000000031,
          -355.0000000000031,
          -380.60000000000207,
          -390.40000000000185,
          -289.0000000000015,
          -294.0000000000009,
          -278.00000000000045,
          -289.80000000000007,
          -176.1999999999997,
          -185.49999999999847,
          -177.3999999999987,
          -176.3999999999988,
          -182.79999999999856,
          -172.39999999999927,
          -181.00000000000009,
          -172.79999999999967,
          -178.3999999999986,
          -180.39999999999839,
          -180.99999999999787,
          -144.7999999999983,
          -115.79999999999927,
          -120.19999999999924,
          -158.99999999999807,
          -135.39999999999668,
          -140.19999999999703,
          -149.0999999999976,
          -154.19999999999771,
          -133.39999999999912,
          -145.90000000000109,
          -171.0000000000012,
          -169.6000000000009,
          -170.0000000000013,
          -192.4000000000015,
          -201.80000000000092,
          -223.19999999999902,
          -239.59999999999766,
          -245.9999999999974,
          -296.2999999999983,
          -314.3999999999992,
          -316.99999999999847,
          -326.4999999999985,
          -333.2000000000002,
          -336.8000000000016,
          -338.20000000000186,
          -352.4000000000016,
          -361.2000000000015,
          -304.2000000000011,
          -308.20000000000067,
          -247.20000000000073,
          -229.50000000000023,
          -234.79999999999941,
          -200.00000000000014,
          -203.00000000000205,
          -187.8000000000024,
          -187.2000000000007,
          -203.19999999999894,
          -189.99999999999906,
          68.39999999999955,
          65.59999999999897,
          83.69999999999986,
          86.2000000000007,
          77.80000000000118,
          60.20000000000134,
          71.49999999999987,
          59.69999999999806,
          83.79999999999829,
          86.80000000000018,
          86.50000000000044,
          48.79999999999993,
          35.00000000000057,
          1.600000000001586,
          6.200000000002856,
          5.300000000003621,
          5.800000000002456,
          -27.899999999998492,
          -49.599999999998545,
          -64.59999999999911,
          -63.400000000000134,
          -102.80000000000068,
          -158.40000000000077,
          -159.5000000000013,
          -177.6000000000022,
          -198.1000000000033,
          -211.4000000000038,
          -201.30000000000427,
          -161.70000000000465,
          -184.70000000000434,
          -188.20000000000505,
          -204.2000000000055,
          -116.4000000000054,
          -159.00000000000472,
          -157.4000000000031,
          -158.8000000000034,
          -218.40000000000526,
          -212.60000000000724,
          -237.40000000000762,
          -229.0000000000081,
          -247.80000000000913,
          -246.60000000001014,
          -237.80000000001021,
          -214.40000000001012,
          -89.60000000001189,
          -57.90000000001294,
          -54.40000000001221,
          -23.600000000010276,
          4.199999999989771,
          2.899999999987916,
          16.99999999998703,
          8.7999999999866,
          -4.000000000012879,
          17.59999999998874,
          112.59999999998938,
          71.39999999999037,
          77.09999999999218,
          94.29999999999384,
          56.79999999999465,
          -1.4000000000047166,
          46.399999999995345,
          47.19999999999392,
          42.39999999999356,
          15.599999999993404,
          -4.200000000007524,
          -19.500000000007837,
          106.59999999999226,
          106.59999999999226
         ],
         "yaxis": "y"
        }
       ],
       "layout": {
        "font": {
         "color": "#e1e1e1",
         "size": 8
        },
        "height": 400,
        "margin": {
         "b": 10,
         "l": 10,
         "r": 10,
         "t": 10
        },
        "paper_bgcolor": "#2c303c",
        "plot_bgcolor": "#2c303c",
        "template": {
         "data": {
          "bar": [
           {
            "error_x": {
             "color": "#2a3f5f"
            },
            "error_y": {
             "color": "#2a3f5f"
            },
            "marker": {
             "line": {
              "color": "#E5ECF6",
              "width": 0.5
             },
             "pattern": {
              "fillmode": "overlay",
              "size": 10,
              "solidity": 0.2
             }
            },
            "type": "bar"
           }
          ],
          "barpolar": [
           {
            "marker": {
             "line": {
              "color": "#E5ECF6",
              "width": 0.5
             },
             "pattern": {
              "fillmode": "overlay",
              "size": 10,
              "solidity": 0.2
             }
            },
            "type": "barpolar"
           }
          ],
          "carpet": [
           {
            "aaxis": {
             "endlinecolor": "#2a3f5f",
             "gridcolor": "white",
             "linecolor": "white",
             "minorgridcolor": "white",
             "startlinecolor": "#2a3f5f"
            },
            "baxis": {
             "endlinecolor": "#2a3f5f",
             "gridcolor": "white",
             "linecolor": "white",
             "minorgridcolor": "white",
             "startlinecolor": "#2a3f5f"
            },
            "type": "carpet"
           }
          ],
          "choropleth": [
           {
            "colorbar": {
             "outlinewidth": 0,
             "ticks": ""
            },
            "type": "choropleth"
           }
          ],
          "contour": [
           {
            "colorbar": {
             "outlinewidth": 0,
             "ticks": ""
            },
            "colorscale": [
             [
              0,
              "#0d0887"
             ],
             [
              0.1111111111111111,
              "#46039f"
             ],
             [
              0.2222222222222222,
              "#7201a8"
             ],
             [
              0.3333333333333333,
              "#9c179e"
             ],
             [
              0.4444444444444444,
              "#bd3786"
             ],
             [
              0.5555555555555556,
              "#d8576b"
             ],
             [
              0.6666666666666666,
              "#ed7953"
             ],
             [
              0.7777777777777778,
              "#fb9f3a"
             ],
             [
              0.8888888888888888,
              "#fdca26"
             ],
             [
              1,
              "#f0f921"
             ]
            ],
            "type": "contour"
           }
          ],
          "contourcarpet": [
           {
            "colorbar": {
             "outlinewidth": 0,
             "ticks": ""
            },
            "type": "contourcarpet"
           }
          ],
          "heatmap": [
           {
            "colorbar": {
             "outlinewidth": 0,
             "ticks": ""
            },
            "colorscale": [
             [
              0,
              "#0d0887"
             ],
             [
              0.1111111111111111,
              "#46039f"
             ],
             [
              0.2222222222222222,
              "#7201a8"
             ],
             [
              0.3333333333333333,
              "#9c179e"
             ],
             [
              0.4444444444444444,
              "#bd3786"
             ],
             [
              0.5555555555555556,
              "#d8576b"
             ],
             [
              0.6666666666666666,
              "#ed7953"
             ],
             [
              0.7777777777777778,
              "#fb9f3a"
             ],
             [
              0.8888888888888888,
              "#fdca26"
             ],
             [
              1,
              "#f0f921"
             ]
            ],
            "type": "heatmap"
           }
          ],
          "heatmapgl": [
           {
            "colorbar": {
             "outlinewidth": 0,
             "ticks": ""
            },
            "colorscale": [
             [
              0,
              "#0d0887"
             ],
             [
              0.1111111111111111,
              "#46039f"
             ],
             [
              0.2222222222222222,
              "#7201a8"
             ],
             [
              0.3333333333333333,
              "#9c179e"
             ],
             [
              0.4444444444444444,
              "#bd3786"
             ],
             [
              0.5555555555555556,
              "#d8576b"
             ],
             [
              0.6666666666666666,
              "#ed7953"
             ],
             [
              0.7777777777777778,
              "#fb9f3a"
             ],
             [
              0.8888888888888888,
              "#fdca26"
             ],
             [
              1,
              "#f0f921"
             ]
            ],
            "type": "heatmapgl"
           }
          ],
          "histogram": [
           {
            "marker": {
             "pattern": {
              "fillmode": "overlay",
              "size": 10,
              "solidity": 0.2
             }
            },
            "type": "histogram"
           }
          ],
          "histogram2d": [
           {
            "colorbar": {
             "outlinewidth": 0,
             "ticks": ""
            },
            "colorscale": [
             [
              0,
              "#0d0887"
             ],
             [
              0.1111111111111111,
              "#46039f"
             ],
             [
              0.2222222222222222,
              "#7201a8"
             ],
             [
              0.3333333333333333,
              "#9c179e"
             ],
             [
              0.4444444444444444,
              "#bd3786"
             ],
             [
              0.5555555555555556,
              "#d8576b"
             ],
             [
              0.6666666666666666,
              "#ed7953"
             ],
             [
              0.7777777777777778,
              "#fb9f3a"
             ],
             [
              0.8888888888888888,
              "#fdca26"
             ],
             [
              1,
              "#f0f921"
             ]
            ],
            "type": "histogram2d"
           }
          ],
          "histogram2dcontour": [
           {
            "colorbar": {
             "outlinewidth": 0,
             "ticks": ""
            },
            "colorscale": [
             [
              0,
              "#0d0887"
             ],
             [
              0.1111111111111111,
              "#46039f"
             ],
             [
              0.2222222222222222,
              "#7201a8"
             ],
             [
              0.3333333333333333,
              "#9c179e"
             ],
             [
              0.4444444444444444,
              "#bd3786"
             ],
             [
              0.5555555555555556,
              "#d8576b"
             ],
             [
              0.6666666666666666,
              "#ed7953"
             ],
             [
              0.7777777777777778,
              "#fb9f3a"
             ],
             [
              0.8888888888888888,
              "#fdca26"
             ],
             [
              1,
              "#f0f921"
             ]
            ],
            "type": "histogram2dcontour"
           }
          ],
          "mesh3d": [
           {
            "colorbar": {
             "outlinewidth": 0,
             "ticks": ""
            },
            "type": "mesh3d"
           }
          ],
          "parcoords": [
           {
            "line": {
             "colorbar": {
              "outlinewidth": 0,
              "ticks": ""
             }
            },
            "type": "parcoords"
           }
          ],
          "pie": [
           {
            "automargin": true,
            "type": "pie"
           }
          ],
          "scatter": [
           {
            "fillpattern": {
             "fillmode": "overlay",
             "size": 10,
             "solidity": 0.2
            },
            "type": "scatter"
           }
          ],
          "scatter3d": [
           {
            "line": {
             "colorbar": {
              "outlinewidth": 0,
              "ticks": ""
             }
            },
            "marker": {
             "colorbar": {
              "outlinewidth": 0,
              "ticks": ""
             }
            },
            "type": "scatter3d"
           }
          ],
          "scattercarpet": [
           {
            "marker": {
             "colorbar": {
              "outlinewidth": 0,
              "ticks": ""
             }
            },
            "type": "scattercarpet"
           }
          ],
          "scattergeo": [
           {
            "marker": {
             "colorbar": {
              "outlinewidth": 0,
              "ticks": ""
             }
            },
            "type": "scattergeo"
           }
          ],
          "scattergl": [
           {
            "marker": {
             "colorbar": {
              "outlinewidth": 0,
              "ticks": ""
             }
            },
            "type": "scattergl"
           }
          ],
          "scattermapbox": [
           {
            "marker": {
             "colorbar": {
              "outlinewidth": 0,
              "ticks": ""
             }
            },
            "type": "scattermapbox"
           }
          ],
          "scatterpolar": [
           {
            "marker": {
             "colorbar": {
              "outlinewidth": 0,
              "ticks": ""
             }
            },
            "type": "scatterpolar"
           }
          ],
          "scatterpolargl": [
           {
            "marker": {
             "colorbar": {
              "outlinewidth": 0,
              "ticks": ""
             }
            },
            "type": "scatterpolargl"
           }
          ],
          "scatterternary": [
           {
            "marker": {
             "colorbar": {
              "outlinewidth": 0,
              "ticks": ""
             }
            },
            "type": "scatterternary"
           }
          ],
          "surface": [
           {
            "colorbar": {
             "outlinewidth": 0,
             "ticks": ""
            },
            "colorscale": [
             [
              0,
              "#0d0887"
             ],
             [
              0.1111111111111111,
              "#46039f"
             ],
             [
              0.2222222222222222,
              "#7201a8"
             ],
             [
              0.3333333333333333,
              "#9c179e"
             ],
             [
              0.4444444444444444,
              "#bd3786"
             ],
             [
              0.5555555555555556,
              "#d8576b"
             ],
             [
              0.6666666666666666,
              "#ed7953"
             ],
             [
              0.7777777777777778,
              "#fb9f3a"
             ],
             [
              0.8888888888888888,
              "#fdca26"
             ],
             [
              1,
              "#f0f921"
             ]
            ],
            "type": "surface"
           }
          ],
          "table": [
           {
            "cells": {
             "fill": {
              "color": "#EBF0F8"
             },
             "line": {
              "color": "white"
             }
            },
            "header": {
             "fill": {
              "color": "#C8D4E3"
             },
             "line": {
              "color": "white"
             }
            },
            "type": "table"
           }
          ]
         },
         "layout": {
          "annotationdefaults": {
           "arrowcolor": "#2a3f5f",
           "arrowhead": 0,
           "arrowwidth": 1
          },
          "autotypenumbers": "strict",
          "coloraxis": {
           "colorbar": {
            "outlinewidth": 0,
            "ticks": ""
           }
          },
          "colorscale": {
           "diverging": [
            [
             0,
             "#8e0152"
            ],
            [
             0.1,
             "#c51b7d"
            ],
            [
             0.2,
             "#de77ae"
            ],
            [
             0.3,
             "#f1b6da"
            ],
            [
             0.4,
             "#fde0ef"
            ],
            [
             0.5,
             "#f7f7f7"
            ],
            [
             0.6,
             "#e6f5d0"
            ],
            [
             0.7,
             "#b8e186"
            ],
            [
             0.8,
             "#7fbc41"
            ],
            [
             0.9,
             "#4d9221"
            ],
            [
             1,
             "#276419"
            ]
           ],
           "sequential": [
            [
             0,
             "#0d0887"
            ],
            [
             0.1111111111111111,
             "#46039f"
            ],
            [
             0.2222222222222222,
             "#7201a8"
            ],
            [
             0.3333333333333333,
             "#9c179e"
            ],
            [
             0.4444444444444444,
             "#bd3786"
            ],
            [
             0.5555555555555556,
             "#d8576b"
            ],
            [
             0.6666666666666666,
             "#ed7953"
            ],
            [
             0.7777777777777778,
             "#fb9f3a"
            ],
            [
             0.8888888888888888,
             "#fdca26"
            ],
            [
             1,
             "#f0f921"
            ]
           ],
           "sequentialminus": [
            [
             0,
             "#0d0887"
            ],
            [
             0.1111111111111111,
             "#46039f"
            ],
            [
             0.2222222222222222,
             "#7201a8"
            ],
            [
             0.3333333333333333,
             "#9c179e"
            ],
            [
             0.4444444444444444,
             "#bd3786"
            ],
            [
             0.5555555555555556,
             "#d8576b"
            ],
            [
             0.6666666666666666,
             "#ed7953"
            ],
            [
             0.7777777777777778,
             "#fb9f3a"
            ],
            [
             0.8888888888888888,
             "#fdca26"
            ],
            [
             1,
             "#f0f921"
            ]
           ]
          },
          "colorway": [
           "#636efa",
           "#EF553B",
           "#00cc96",
           "#ab63fa",
           "#FFA15A",
           "#19d3f3",
           "#FF6692",
           "#B6E880",
           "#FF97FF",
           "#FECB52"
          ],
          "font": {
           "color": "#2a3f5f"
          },
          "geo": {
           "bgcolor": "white",
           "lakecolor": "white",
           "landcolor": "#E5ECF6",
           "showlakes": true,
           "showland": true,
           "subunitcolor": "white"
          },
          "hoverlabel": {
           "align": "left"
          },
          "hovermode": "closest",
          "mapbox": {
           "style": "light"
          },
          "paper_bgcolor": "white",
          "plot_bgcolor": "#E5ECF6",
          "polar": {
           "angularaxis": {
            "gridcolor": "white",
            "linecolor": "white",
            "ticks": ""
           },
           "bgcolor": "#E5ECF6",
           "radialaxis": {
            "gridcolor": "white",
            "linecolor": "white",
            "ticks": ""
           }
          },
          "scene": {
           "xaxis": {
            "backgroundcolor": "#E5ECF6",
            "gridcolor": "white",
            "gridwidth": 2,
            "linecolor": "white",
            "showbackground": true,
            "ticks": "",
            "zerolinecolor": "white"
           },
           "yaxis": {
            "backgroundcolor": "#E5ECF6",
            "gridcolor": "white",
            "gridwidth": 2,
            "linecolor": "white",
            "showbackground": true,
            "ticks": "",
            "zerolinecolor": "white"
           },
           "zaxis": {
            "backgroundcolor": "#E5ECF6",
            "gridcolor": "white",
            "gridwidth": 2,
            "linecolor": "white",
            "showbackground": true,
            "ticks": "",
            "zerolinecolor": "white"
           }
          },
          "shapedefaults": {
           "line": {
            "color": "#2a3f5f"
           }
          },
          "ternary": {
           "aaxis": {
            "gridcolor": "white",
            "linecolor": "white",
            "ticks": ""
           },
           "baxis": {
            "gridcolor": "white",
            "linecolor": "white",
            "ticks": ""
           },
           "bgcolor": "#E5ECF6",
           "caxis": {
            "gridcolor": "white",
            "linecolor": "white",
            "ticks": ""
           }
          },
          "title": {
           "x": 0.05
          },
          "xaxis": {
           "automargin": true,
           "gridcolor": "white",
           "linecolor": "white",
           "ticks": "",
           "title": {
            "standoff": 15
           },
           "zerolinecolor": "white",
           "zerolinewidth": 2
          },
          "yaxis": {
           "automargin": true,
           "gridcolor": "white",
           "linecolor": "white",
           "ticks": "",
           "title": {
            "standoff": 15
           },
           "zerolinecolor": "white",
           "zerolinewidth": 2
          }
         }
        },
        "width": 900,
        "xaxis": {
         "anchor": "y",
         "domain": [
          0,
          0.94
         ],
         "gridcolor": "#1f292f",
         "nticks": 5,
         "rangeslider": {
          "visible": false
         }
        },
        "yaxis": {
         "anchor": "x",
         "domain": [
          0,
          1
         ],
         "gridcolor": "#1f292f"
        },
        "yaxis2": {
         "anchor": "x",
         "gridcolor": "#1f292f",
         "overlaying": "y",
         "side": "right"
        }
       }
      }
     },
     "metadata": {},
     "output_type": "display_data"
    }
   ],
   "source": [
    "for curr in df_MA_10_MA_20[df_MA_10_MA_20.total_gain > 0].pair.unique():\n",
    "    temp_gains = df_ma_trades_h1[(df_ma_trades_h1.cross==cross)&\n",
    "\t\t\t\t\t\t\t\t\t\t\t\t\t(df_ma_trades_h1.pair==curr)].copy()\n",
    "    print(curr, int(temp_gains.GAIN.sum()))\n",
    "    cp = CandlePlot(temp_gains, candles=False)\n",
    "    cp.show_plot(line_traces=['GAIN_C'])"
   ]
  },
  {
   "cell_type": "code",
   "execution_count": null,
   "id": "66a3e9f5",
   "metadata": {},
   "outputs": [],
   "source": []
  },
  {
   "cell_type": "code",
   "execution_count": null,
   "id": "ff0cbebf",
   "metadata": {},
   "outputs": [],
   "source": []
  },
  {
   "cell_type": "code",
   "execution_count": null,
   "id": "9f1d88b0",
   "metadata": {},
   "outputs": [],
   "source": []
  },
  {
   "cell_type": "code",
   "execution_count": null,
   "id": "ba14553c",
   "metadata": {},
   "outputs": [],
   "source": []
  },
  {
   "cell_type": "code",
   "execution_count": null,
   "id": "e2024e59",
   "metadata": {},
   "outputs": [],
   "source": []
  },
  {
   "cell_type": "code",
   "execution_count": null,
   "id": "ec3d41bc",
   "metadata": {},
   "outputs": [],
   "source": []
  },
  {
   "cell_type": "code",
   "execution_count": null,
   "id": "5fb7ba3f",
   "metadata": {},
   "outputs": [],
   "source": []
  },
  {
   "cell_type": "code",
   "execution_count": null,
   "id": "edc61e16",
   "metadata": {},
   "outputs": [],
   "source": []
  }
 ],
 "metadata": {
  "kernelspec": {
   "display_name": ".venv",
   "language": "python",
   "name": "python3"
  },
  "language_info": {
   "codemirror_mode": {
    "name": "ipython",
    "version": 3
   },
   "file_extension": ".py",
   "mimetype": "text/x-python",
   "name": "python",
   "nbconvert_exporter": "python",
   "pygments_lexer": "ipython3",
   "version": "3.13.1"
  }
 },
 "nbformat": 4,
 "nbformat_minor": 5
}
